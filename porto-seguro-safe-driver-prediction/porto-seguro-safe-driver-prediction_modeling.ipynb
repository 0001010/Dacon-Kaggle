{
 "cells": [
  {
   "cell_type": "code",
   "execution_count": 1,
   "metadata": {},
   "outputs": [],
   "source": [
    "import numpy as np\n",
    "import pandas as pd\n",
    "import matplotlib.pyplot as plt\n",
    "import seaborn as sns\n",
    "import os\n",
    "\n",
    "os.chdir('C:/Users/icear/OneDrive/바탕 화면/새 폴더/porto-seguro-safe-driver-prediction')\n",
    "\n",
    "sns.set_palette(\"pastel\")\n",
    "sns.set_style('whitegrid')"
   ]
  },
  {
   "cell_type": "code",
   "execution_count": 2,
   "metadata": {},
   "outputs": [],
   "source": [
    "train = pd.read_csv('train_new.csv')\n",
    "test = pd.read_csv('test_new.csv')"
   ]
  },
  {
   "cell_type": "code",
   "execution_count": 3,
   "metadata": {},
   "outputs": [],
   "source": [
    "from sklearn.model_selection import StratifiedKFold\n",
    "from sklearn.model_selection import train_test_split\n",
    "from lightgbm import LGBMClassifier, plot_importance\n",
    "import lightgbm as lgbm\n",
    "from sklearn.model_selection import cross_val_score\n",
    "\n",
    "def gini(y, pred):\n",
    "    g = np.asarray(np.c_[y, pred, np.arange(len(y)) ], dtype=np.float)\n",
    "    g = g[np.lexsort((g[:,2], -1*g[:,1]))]\n",
    "    gs = g[:,0].cumsum().sum() / g[:,0].sum()\n",
    "    gs -= (len(y) + 1) / 2.\n",
    "    return gs / len(y)\n",
    "\n",
    "def gini_lgb(preds, dtrain):\n",
    "    y = list(dtrain.get_label())\n",
    "    score = gini(y, preds) / gini(y, y)\n",
    "    return 'gini', score, True"
   ]
  },
  {
   "cell_type": "markdown",
   "metadata": {},
   "source": [
    "- 지니계수가 평가항목이니 지니계수 정의\n",
    "- LightGBM에 맞게 지니계수 정의"
   ]
  },
  {
   "cell_type": "code",
   "execution_count": 4,
   "metadata": {
    "scrolled": false
   },
   "outputs": [
    {
     "name": "stdout",
     "output_type": "stream",
     "text": [
      " lgb kfold: 1 of 5 : \n",
      "[LightGBM] [Warning] Accuracy may be bad since you didn't set num_leaves and 2^max_depth > num_leaves\n",
      "[LightGBM] [Warning] Accuracy may be bad since you didn't set num_leaves and 2^max_depth > num_leaves\n",
      "[LightGBM] [Info] Number of positive: 415814, number of negative: 415814\n",
      "[LightGBM] [Warning] Auto-choosing row-wise multi-threading, the overhead of testing was 0.165220 seconds.\n",
      "You can set `force_row_wise=true` to remove the overhead.\n",
      "And if memory is not enough, you can set `force_col_wise=true`.\n",
      "[LightGBM] [Info] Total Bins 454\n",
      "[LightGBM] [Info] Number of data points in the train set: 831628, number of used features: 187\n",
      "[LightGBM] [Warning] Accuracy may be bad since you didn't set num_leaves and 2^max_depth > num_leaves\n",
      "[LightGBM] [Info] [binary:BoostFromScore]: pavg=0.500000 -> initscore=0.000000\n",
      "Training until validation scores don't improve for 100 rounds\n",
      "[100]\tvalid_0's auc: 0.617649\tvalid_0's gini: 0.235295\n",
      "[200]\tvalid_0's auc: 0.628279\tvalid_0's gini: 0.256559\n",
      "[300]\tvalid_0's auc: 0.637199\tvalid_0's gini: 0.274399\n",
      "[400]\tvalid_0's auc: 0.644248\tvalid_0's gini: 0.288496\n",
      "Did not meet early stopping. Best iteration is:\n",
      "[400]\tvalid_0's auc: 0.644248\tvalid_0's gini: 0.288496\n",
      " lgb kfold: 2 of 5 : \n",
      "[LightGBM] [Warning] Accuracy may be bad since you didn't set num_leaves and 2^max_depth > num_leaves\n",
      "[LightGBM] [Warning] Accuracy may be bad since you didn't set num_leaves and 2^max_depth > num_leaves\n",
      "[LightGBM] [Info] Number of positive: 415815, number of negative: 415814\n",
      "[LightGBM] [Warning] Auto-choosing row-wise multi-threading, the overhead of testing was 0.144332 seconds.\n",
      "You can set `force_row_wise=true` to remove the overhead.\n",
      "And if memory is not enough, you can set `force_col_wise=true`.\n",
      "[LightGBM] [Info] Total Bins 456\n",
      "[LightGBM] [Info] Number of data points in the train set: 831629, number of used features: 188\n",
      "[LightGBM] [Warning] Accuracy may be bad since you didn't set num_leaves and 2^max_depth > num_leaves\n",
      "[LightGBM] [Info] [binary:BoostFromScore]: pavg=0.500001 -> initscore=0.000002\n",
      "[LightGBM] [Info] Start training from score 0.000002\n",
      "Training until validation scores don't improve for 100 rounds\n",
      "[100]\tvalid_0's auc: 0.616262\tvalid_0's gini: 0.232522\n",
      "[200]\tvalid_0's auc: 0.627341\tvalid_0's gini: 0.254682\n",
      "[300]\tvalid_0's auc: 0.636122\tvalid_0's gini: 0.272244\n",
      "[400]\tvalid_0's auc: 0.643439\tvalid_0's gini: 0.286878\n",
      "Did not meet early stopping. Best iteration is:\n",
      "[400]\tvalid_0's auc: 0.643439\tvalid_0's gini: 0.286878\n",
      " lgb kfold: 3 of 5 : \n",
      "[LightGBM] [Warning] Accuracy may be bad since you didn't set num_leaves and 2^max_depth > num_leaves\n",
      "[LightGBM] [Warning] Accuracy may be bad since you didn't set num_leaves and 2^max_depth > num_leaves\n",
      "[LightGBM] [Info] Number of positive: 415815, number of negative: 415814\n",
      "[LightGBM] [Warning] Auto-choosing row-wise multi-threading, the overhead of testing was 0.134315 seconds.\n",
      "You can set `force_row_wise=true` to remove the overhead.\n",
      "And if memory is not enough, you can set `force_col_wise=true`.\n",
      "[LightGBM] [Info] Total Bins 455\n",
      "[LightGBM] [Info] Number of data points in the train set: 831629, number of used features: 187\n",
      "[LightGBM] [Warning] Accuracy may be bad since you didn't set num_leaves and 2^max_depth > num_leaves\n",
      "[LightGBM] [Info] [binary:BoostFromScore]: pavg=0.500001 -> initscore=0.000002\n",
      "[LightGBM] [Info] Start training from score 0.000002\n",
      "Training until validation scores don't improve for 100 rounds\n",
      "[100]\tvalid_0's auc: 0.620617\tvalid_0's gini: 0.241232\n",
      "[200]\tvalid_0's auc: 0.632181\tvalid_0's gini: 0.264361\n",
      "[300]\tvalid_0's auc: 0.641272\tvalid_0's gini: 0.282545\n",
      "[400]\tvalid_0's auc: 0.648432\tvalid_0's gini: 0.296865\n",
      "Did not meet early stopping. Best iteration is:\n",
      "[400]\tvalid_0's auc: 0.648432\tvalid_0's gini: 0.296865\n",
      " lgb kfold: 4 of 5 : \n",
      "[LightGBM] [Warning] Accuracy may be bad since you didn't set num_leaves and 2^max_depth > num_leaves\n",
      "[LightGBM] [Warning] Accuracy may be bad since you didn't set num_leaves and 2^max_depth > num_leaves\n",
      "[LightGBM] [Info] Number of positive: 415814, number of negative: 415815\n",
      "[LightGBM] [Warning] Auto-choosing row-wise multi-threading, the overhead of testing was 0.136204 seconds.\n",
      "You can set `force_row_wise=true` to remove the overhead.\n",
      "And if memory is not enough, you can set `force_col_wise=true`.\n",
      "[LightGBM] [Info] Total Bins 454\n",
      "[LightGBM] [Info] Number of data points in the train set: 831629, number of used features: 187\n",
      "[LightGBM] [Warning] Accuracy may be bad since you didn't set num_leaves and 2^max_depth > num_leaves\n",
      "[LightGBM] [Info] [binary:BoostFromScore]: pavg=0.499999 -> initscore=-0.000002\n",
      "[LightGBM] [Info] Start training from score -0.000002\n",
      "Training until validation scores don't improve for 100 rounds\n",
      "[100]\tvalid_0's auc: 0.621016\tvalid_0's gini: 0.242029\n",
      "[200]\tvalid_0's auc: 0.632109\tvalid_0's gini: 0.264219\n",
      "[300]\tvalid_0's auc: 0.641118\tvalid_0's gini: 0.282236\n",
      "[400]\tvalid_0's auc: 0.648554\tvalid_0's gini: 0.297107\n",
      "Did not meet early stopping. Best iteration is:\n",
      "[400]\tvalid_0's auc: 0.648554\tvalid_0's gini: 0.297107\n",
      " lgb kfold: 5 of 5 : \n",
      "[LightGBM] [Warning] Accuracy may be bad since you didn't set num_leaves and 2^max_depth > num_leaves\n",
      "[LightGBM] [Warning] Accuracy may be bad since you didn't set num_leaves and 2^max_depth > num_leaves\n",
      "[LightGBM] [Info] Number of positive: 415814, number of negative: 415815\n",
      "[LightGBM] [Warning] Auto-choosing row-wise multi-threading, the overhead of testing was 0.138070 seconds.\n",
      "You can set `force_row_wise=true` to remove the overhead.\n",
      "And if memory is not enough, you can set `force_col_wise=true`.\n",
      "[LightGBM] [Info] Total Bins 456\n",
      "[LightGBM] [Info] Number of data points in the train set: 831629, number of used features: 188\n",
      "[LightGBM] [Warning] Accuracy may be bad since you didn't set num_leaves and 2^max_depth > num_leaves\n",
      "[LightGBM] [Info] [binary:BoostFromScore]: pavg=0.499999 -> initscore=-0.000002\n",
      "[LightGBM] [Info] Start training from score -0.000002\n",
      "Training until validation scores don't improve for 100 rounds\n",
      "[100]\tvalid_0's auc: 0.621252\tvalid_0's gini: 0.242499\n",
      "[200]\tvalid_0's auc: 0.632244\tvalid_0's gini: 0.264487\n",
      "[300]\tvalid_0's auc: 0.641214\tvalid_0's gini: 0.282429\n",
      "[400]\tvalid_0's auc: 0.648807\tvalid_0's gini: 0.297614\n",
      "Did not meet early stopping. Best iteration is:\n",
      "[400]\tvalid_0's auc: 0.648807\tvalid_0's gini: 0.297614\n"
     ]
    }
   ],
   "source": [
    "X = train.drop(['target'], axis = 1)\n",
    "features = X.columns\n",
    "X = X.values\n",
    "y = train['target'].values\n",
    "\n",
    "nrounds = 400\n",
    "kfold = 5\n",
    "\n",
    "\n",
    "params = {'metric': 'auc', \n",
    "          'learning_rate' : 0.01, \n",
    "          'max_depth':10, \n",
    "          'max_bin':10,  \n",
    "          'objective': 'binary', \n",
    "          'feature_fraction': 0.8,\n",
    "          'bagging_fraction':0.9,\n",
    "          'bagging_freq':10,  \n",
    "          'min_data': 500}\n",
    "\n",
    "skf = StratifiedKFold(n_splits=kfold, random_state=1, shuffle=True)\n",
    "for i, (train_index, test_index) in enumerate(skf.split(X,y)):\n",
    "    print(' lgb kfold: {} of {} : '.format(i+1,kfold))\n",
    "    X_train, X_eval = X[train_index], X[test_index]\n",
    "    y_train, y_eval = y[train_index], y[test_index]\n",
    "    \n",
    "    lgb_model = lgbm.train(params, \n",
    "                          lgbm.Dataset(X_train, label=y_train), \n",
    "                          nrounds, \n",
    "                          lgbm.Dataset(X_eval, label=y_eval), \n",
    "                          verbose_eval=100, \n",
    "                          feval=gini_lgb, \n",
    "                          early_stopping_rounds=100)"
   ]
  },
  {
   "cell_type": "markdown",
   "metadata": {},
   "source": [
    "- LightGBM을 적용시키고 지니계수로 평가\n",
    "- StratifiedKFold를 사용해 fold마다 label의 분포를 같게 해줌"
   ]
  }
 ],
 "metadata": {
  "kernelspec": {
   "display_name": "Python 3",
   "language": "python",
   "name": "python3"
  },
  "language_info": {
   "codemirror_mode": {
    "name": "ipython",
    "version": 3
   },
   "file_extension": ".py",
   "mimetype": "text/x-python",
   "name": "python",
   "nbconvert_exporter": "python",
   "pygments_lexer": "ipython3",
   "version": "3.8.3"
  },
  "toc": {
   "base_numbering": 1,
   "nav_menu": {},
   "number_sections": true,
   "sideBar": true,
   "skip_h1_title": false,
   "title_cell": "Table of Contents",
   "title_sidebar": "Contents",
   "toc_cell": false,
   "toc_position": {},
   "toc_section_display": true,
   "toc_window_display": false
  },
  "varInspector": {
   "cols": {
    "lenName": 16,
    "lenType": 16,
    "lenVar": 40
   },
   "kernels_config": {
    "python": {
     "delete_cmd_postfix": "",
     "delete_cmd_prefix": "del ",
     "library": "var_list.py",
     "varRefreshCmd": "print(var_dic_list())"
    },
    "r": {
     "delete_cmd_postfix": ") ",
     "delete_cmd_prefix": "rm(",
     "library": "var_list.r",
     "varRefreshCmd": "cat(var_dic_list()) "
    }
   },
   "position": {
    "height": "144px",
    "left": "567px",
    "right": "20px",
    "top": "133px",
    "width": "350px"
   },
   "types_to_exclude": [
    "module",
    "function",
    "builtin_function_or_method",
    "instance",
    "_Feature"
   ],
   "window_display": false
  }
 },
 "nbformat": 4,
 "nbformat_minor": 4
}
