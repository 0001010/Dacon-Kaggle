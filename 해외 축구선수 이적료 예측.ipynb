{
 "cells": [
  {
   "cell_type": "code",
   "execution_count": 1,
   "metadata": {},
   "outputs": [],
   "source": [
    "import numpy as np\n",
    "import pandas as pd\n",
    "import matplotlib.pyplot as plt\n",
    "import seaborn as sns\n",
    "import warnings\n",
    "warnings.filterwarnings(\"ignore\")"
   ]
  },
  {
   "cell_type": "code",
   "execution_count": 2,
   "metadata": {},
   "outputs": [],
   "source": [
    "data=pd.read_csv('C:/Users/icear/Desktop/DACON/해외 축구선수 이적료 예측/FIFA_train.csv')\n",
    "test=pd.read_csv('C:/Users/icear/Desktop/DACON/해외 축구선수 이적료 예측/FIFA_test.csv')"
   ]
  },
  {
   "cell_type": "code",
   "execution_count": 3,
   "metadata": {},
   "outputs": [
    {
     "data": {
      "text/html": [
       "<div>\n",
       "<style scoped>\n",
       "    .dataframe tbody tr th:only-of-type {\n",
       "        vertical-align: middle;\n",
       "    }\n",
       "\n",
       "    .dataframe tbody tr th {\n",
       "        vertical-align: top;\n",
       "    }\n",
       "\n",
       "    .dataframe thead th {\n",
       "        text-align: right;\n",
       "    }\n",
       "</style>\n",
       "<table border=\"1\" class=\"dataframe\">\n",
       "  <thead>\n",
       "    <tr style=\"text-align: right;\">\n",
       "      <th></th>\n",
       "      <th>id</th>\n",
       "      <th>name</th>\n",
       "      <th>age</th>\n",
       "      <th>continent</th>\n",
       "      <th>contract_until</th>\n",
       "      <th>position</th>\n",
       "      <th>prefer_foot</th>\n",
       "      <th>reputation</th>\n",
       "      <th>stat_overall</th>\n",
       "      <th>stat_potential</th>\n",
       "      <th>stat_skill_moves</th>\n",
       "      <th>value</th>\n",
       "    </tr>\n",
       "  </thead>\n",
       "  <tbody>\n",
       "    <tr>\n",
       "      <td>0</td>\n",
       "      <td>0</td>\n",
       "      <td>L. Messi</td>\n",
       "      <td>31</td>\n",
       "      <td>south america</td>\n",
       "      <td>2021</td>\n",
       "      <td>ST</td>\n",
       "      <td>left</td>\n",
       "      <td>5.0</td>\n",
       "      <td>94</td>\n",
       "      <td>94</td>\n",
       "      <td>4.0</td>\n",
       "      <td>110500000.0</td>\n",
       "    </tr>\n",
       "    <tr>\n",
       "      <td>1</td>\n",
       "      <td>3</td>\n",
       "      <td>De Gea</td>\n",
       "      <td>27</td>\n",
       "      <td>europe</td>\n",
       "      <td>2020</td>\n",
       "      <td>GK</td>\n",
       "      <td>right</td>\n",
       "      <td>4.0</td>\n",
       "      <td>91</td>\n",
       "      <td>93</td>\n",
       "      <td>1.0</td>\n",
       "      <td>72000000.0</td>\n",
       "    </tr>\n",
       "    <tr>\n",
       "      <td>2</td>\n",
       "      <td>7</td>\n",
       "      <td>L. Suárez</td>\n",
       "      <td>31</td>\n",
       "      <td>south america</td>\n",
       "      <td>2021</td>\n",
       "      <td>ST</td>\n",
       "      <td>right</td>\n",
       "      <td>5.0</td>\n",
       "      <td>91</td>\n",
       "      <td>91</td>\n",
       "      <td>3.0</td>\n",
       "      <td>80000000.0</td>\n",
       "    </tr>\n",
       "    <tr>\n",
       "      <td>3</td>\n",
       "      <td>8</td>\n",
       "      <td>Sergio Ramos</td>\n",
       "      <td>32</td>\n",
       "      <td>europe</td>\n",
       "      <td>2020</td>\n",
       "      <td>DF</td>\n",
       "      <td>right</td>\n",
       "      <td>4.0</td>\n",
       "      <td>91</td>\n",
       "      <td>91</td>\n",
       "      <td>3.0</td>\n",
       "      <td>51000000.0</td>\n",
       "    </tr>\n",
       "    <tr>\n",
       "      <td>4</td>\n",
       "      <td>9</td>\n",
       "      <td>J. Oblak</td>\n",
       "      <td>25</td>\n",
       "      <td>europe</td>\n",
       "      <td>2021</td>\n",
       "      <td>GK</td>\n",
       "      <td>right</td>\n",
       "      <td>3.0</td>\n",
       "      <td>90</td>\n",
       "      <td>93</td>\n",
       "      <td>1.0</td>\n",
       "      <td>68000000.0</td>\n",
       "    </tr>\n",
       "    <tr>\n",
       "      <td>...</td>\n",
       "      <td>...</td>\n",
       "      <td>...</td>\n",
       "      <td>...</td>\n",
       "      <td>...</td>\n",
       "      <td>...</td>\n",
       "      <td>...</td>\n",
       "      <td>...</td>\n",
       "      <td>...</td>\n",
       "      <td>...</td>\n",
       "      <td>...</td>\n",
       "      <td>...</td>\n",
       "      <td>...</td>\n",
       "    </tr>\n",
       "    <tr>\n",
       "      <td>8927</td>\n",
       "      <td>16925</td>\n",
       "      <td>S. Adewusi</td>\n",
       "      <td>18</td>\n",
       "      <td>africa</td>\n",
       "      <td>2019</td>\n",
       "      <td>MF</td>\n",
       "      <td>right</td>\n",
       "      <td>1.0</td>\n",
       "      <td>48</td>\n",
       "      <td>63</td>\n",
       "      <td>3.0</td>\n",
       "      <td>60000.0</td>\n",
       "    </tr>\n",
       "    <tr>\n",
       "      <td>8928</td>\n",
       "      <td>16936</td>\n",
       "      <td>C. Ehlich</td>\n",
       "      <td>19</td>\n",
       "      <td>europe</td>\n",
       "      <td>2020</td>\n",
       "      <td>DF</td>\n",
       "      <td>right</td>\n",
       "      <td>1.0</td>\n",
       "      <td>47</td>\n",
       "      <td>59</td>\n",
       "      <td>2.0</td>\n",
       "      <td>40000.0</td>\n",
       "    </tr>\n",
       "    <tr>\n",
       "      <td>8929</td>\n",
       "      <td>16941</td>\n",
       "      <td>N. Fuentes</td>\n",
       "      <td>18</td>\n",
       "      <td>south america</td>\n",
       "      <td>2021</td>\n",
       "      <td>DF</td>\n",
       "      <td>right</td>\n",
       "      <td>1.0</td>\n",
       "      <td>47</td>\n",
       "      <td>64</td>\n",
       "      <td>2.0</td>\n",
       "      <td>50000.0</td>\n",
       "    </tr>\n",
       "    <tr>\n",
       "      <td>8930</td>\n",
       "      <td>16942</td>\n",
       "      <td>J. Milli</td>\n",
       "      <td>18</td>\n",
       "      <td>europe</td>\n",
       "      <td>2021</td>\n",
       "      <td>GK</td>\n",
       "      <td>right</td>\n",
       "      <td>1.0</td>\n",
       "      <td>47</td>\n",
       "      <td>65</td>\n",
       "      <td>1.0</td>\n",
       "      <td>50000.0</td>\n",
       "    </tr>\n",
       "    <tr>\n",
       "      <td>8931</td>\n",
       "      <td>16948</td>\n",
       "      <td>N. Christoffersson</td>\n",
       "      <td>19</td>\n",
       "      <td>europe</td>\n",
       "      <td>2020</td>\n",
       "      <td>ST</td>\n",
       "      <td>right</td>\n",
       "      <td>1.0</td>\n",
       "      <td>47</td>\n",
       "      <td>63</td>\n",
       "      <td>2.0</td>\n",
       "      <td>60000.0</td>\n",
       "    </tr>\n",
       "  </tbody>\n",
       "</table>\n",
       "<p>8932 rows × 12 columns</p>\n",
       "</div>"
      ],
      "text/plain": [
       "         id                name  age      continent contract_until position  \\\n",
       "0         0            L. Messi   31  south america           2021       ST   \n",
       "1         3              De Gea   27         europe           2020       GK   \n",
       "2         7           L. Suárez   31  south america           2021       ST   \n",
       "3         8        Sergio Ramos   32         europe           2020       DF   \n",
       "4         9            J. Oblak   25         europe           2021       GK   \n",
       "...     ...                 ...  ...            ...            ...      ...   \n",
       "8927  16925          S. Adewusi   18         africa           2019       MF   \n",
       "8928  16936           C. Ehlich   19         europe           2020       DF   \n",
       "8929  16941          N. Fuentes   18  south america           2021       DF   \n",
       "8930  16942            J. Milli   18         europe           2021       GK   \n",
       "8931  16948  N. Christoffersson   19         europe           2020       ST   \n",
       "\n",
       "     prefer_foot  reputation  stat_overall  stat_potential  stat_skill_moves  \\\n",
       "0           left         5.0            94              94               4.0   \n",
       "1          right         4.0            91              93               1.0   \n",
       "2          right         5.0            91              91               3.0   \n",
       "3          right         4.0            91              91               3.0   \n",
       "4          right         3.0            90              93               1.0   \n",
       "...          ...         ...           ...             ...               ...   \n",
       "8927       right         1.0            48              63               3.0   \n",
       "8928       right         1.0            47              59               2.0   \n",
       "8929       right         1.0            47              64               2.0   \n",
       "8930       right         1.0            47              65               1.0   \n",
       "8931       right         1.0            47              63               2.0   \n",
       "\n",
       "            value  \n",
       "0     110500000.0  \n",
       "1      72000000.0  \n",
       "2      80000000.0  \n",
       "3      51000000.0  \n",
       "4      68000000.0  \n",
       "...           ...  \n",
       "8927      60000.0  \n",
       "8928      40000.0  \n",
       "8929      50000.0  \n",
       "8930      50000.0  \n",
       "8931      60000.0  \n",
       "\n",
       "[8932 rows x 12 columns]"
      ]
     },
     "execution_count": 3,
     "metadata": {},
     "output_type": "execute_result"
    }
   ],
   "source": [
    "data"
   ]
  },
  {
   "cell_type": "code",
   "execution_count": 4,
   "metadata": {},
   "outputs": [],
   "source": [
    "# 1. id : 선수 고유의 아이디\n",
    "# 2. name : 이름\n",
    "# 3. age : 나이\n",
    "# 4. continent : 선수들의 국적이 포함되어 있는 대륙입니다\n",
    "# 5. contract_until : 선수의 계약기간이 언제까지인지 나타내어 줍니다\n",
    "# 6. position : 선수가 선호하는 포지션입니다. ex) 공격수, 수비수 등\n",
    "# 7. prefer_foot : 선수가 선호하는 발입니다. ex) 오른발\n",
    "# 8. reputation : 선수가 유명한 정도입니다. ex) 높은 수치일 수록 유명한 선수\n",
    "# 9. stat_overall : 선수의 현재 능력치 입니다.\n",
    "# 10. stat_potential : 선수가 경험 및 노력을 통해 발전할 수 있는 정도입니다.\n",
    "# 11. stat_skill_moves : 선수의 개인기 능력치 입니다.\n",
    "# 12. value : FIFA가 선정한 선수의 이적 시장 가격 (단위 : 유로) 입니다."
   ]
  },
  {
   "cell_type": "code",
   "execution_count": 5,
   "metadata": {},
   "outputs": [
    {
     "data": {
      "text/plain": [
       "id                  0\n",
       "name                0\n",
       "age                 0\n",
       "continent           0\n",
       "contract_until      0\n",
       "position            0\n",
       "prefer_foot         0\n",
       "reputation          0\n",
       "stat_overall        0\n",
       "stat_potential      0\n",
       "stat_skill_moves    0\n",
       "value               0\n",
       "dtype: int64"
      ]
     },
     "execution_count": 5,
     "metadata": {},
     "output_type": "execute_result"
    }
   ],
   "source": [
    "data.isnull().sum() # 데이터가 정상적으로 다 들어옴 null값이 없다."
   ]
  },
  {
   "cell_type": "markdown",
   "metadata": {},
   "source": [
    "# EDA"
   ]
  },
  {
   "cell_type": "code",
   "execution_count": 6,
   "metadata": {},
   "outputs": [
    {
     "name": "stdout",
     "output_type": "stream",
     "text": [
      "unique age :\n",
      " [31 27 32 25 26 29 33 30 40 24 28 34 23 22 35 36 21 18 19 37 20 39 17 38\n",
      " 16]\n",
      "age counts \n",
      " age\n",
      "16     18\n",
      "17    131\n",
      "18    344\n",
      "19    491\n",
      "20    582\n",
      "21    676\n",
      "22    632\n",
      "23    663\n",
      "24    691\n",
      "25    654\n",
      "26    708\n",
      "27    581\n",
      "28    532\n",
      "29    472\n",
      "30    476\n",
      "31    347\n",
      "32    285\n",
      "33    202\n",
      "34    216\n",
      "35     89\n",
      "36     64\n",
      "37     42\n",
      "38     17\n",
      "39     16\n",
      "40      3\n",
      "Name: value, dtype: int64\n"
     ]
    }
   ],
   "source": [
    "# Age \n",
    "print('unique age :\\n',data.age.unique()) # age의 unique\n",
    "print('age counts \\n',data.groupby(['age'])['value'].count()) # age의 갯수"
   ]
  },
  {
   "cell_type": "code",
   "execution_count": 7,
   "metadata": {},
   "outputs": [
    {
     "data": {
      "text/plain": [
       "Text(0.5, 1.0, 'Age kdeplot')"
      ]
     },
     "execution_count": 7,
     "metadata": {},
     "output_type": "execute_result"
    },
    {
     "data": {
      "image/png": "[encoded data removed]",
      "text/plain": [
       "<Figure size 432x288 with 1 Axes>"
      ]
     },
     "metadata": {
      "needs_background": "light"
     },
     "output_type": "display_data"
    }
   ],
   "source": [
    "sns.kdeplot(data.age,shade=True).set_title('Age kdeplot') # age의 분포를 알아보기위한 kdeplot "
   ]
  },
  {
   "cell_type": "code",
   "execution_count": 8,
   "metadata": {},
   "outputs": [
    {
     "data": {
      "text/plain": [
       "Text(0.5, 1.0, 'Age(boxplot)')"
      ]
     },
     "execution_count": 8,
     "metadata": {},
     "output_type": "execute_result"
    },
    {
     "data": {
      "image/png": "[encoded data removed]",
      "text/plain": [
       "<Figure size 432x288 with 1 Axes>"
      ]
     },
     "metadata": {
      "needs_background": "light"
     },
     "output_type": "display_data"
    }
   ],
   "source": [
    "sns.boxplot(x=data['age'],orient = \"v\").set_title('Age(boxplot)') # age의 분포를 알아보기위한 boxplot"
   ]
  },
  {
   "cell_type": "markdown",
   "metadata": {},
   "source": [
    "#### 20대 초반에서 중반까지 많이 분포한다. 보통 축구선수들이 20대 후반 넘어서는 은퇴를 많이 하므로 20대 중반이후로 kdeplot의 그래프가 급격하게 줄어드는걸 알 수 있다."
   ]
  },
  {
   "cell_type": "code",
   "execution_count": 9,
   "metadata": {},
   "outputs": [
    {
     "data": {
      "text/html": [
       "<div>\n",
       "<style scoped>\n",
       "    .dataframe tbody tr th:only-of-type {\n",
       "        vertical-align: middle;\n",
       "    }\n",
       "\n",
       "    .dataframe tbody tr th {\n",
       "        vertical-align: top;\n",
       "    }\n",
       "\n",
       "    .dataframe thead th {\n",
       "        text-align: right;\n",
       "    }\n",
       "</style>\n",
       "<table border=\"1\" class=\"dataframe\">\n",
       "  <thead>\n",
       "    <tr style=\"text-align: right;\">\n",
       "      <th></th>\n",
       "      <th>count</th>\n",
       "      <th>mean</th>\n",
       "      <th>std</th>\n",
       "      <th>min</th>\n",
       "      <th>25%</th>\n",
       "      <th>50%</th>\n",
       "      <th>75%</th>\n",
       "      <th>max</th>\n",
       "    </tr>\n",
       "    <tr>\n",
       "      <th>age</th>\n",
       "      <th></th>\n",
       "      <th></th>\n",
       "      <th></th>\n",
       "      <th></th>\n",
       "      <th></th>\n",
       "      <th></th>\n",
       "      <th></th>\n",
       "      <th></th>\n",
       "    </tr>\n",
       "  </thead>\n",
       "  <tbody>\n",
       "    <tr>\n",
       "      <td>16</td>\n",
       "      <td>18.0</td>\n",
       "      <td>2.791667e+05</td>\n",
       "      <td>2.675612e+05</td>\n",
       "      <td>50000.0</td>\n",
       "      <td>100000.0</td>\n",
       "      <td>155000.0</td>\n",
       "      <td>337500.0</td>\n",
       "      <td>1000000.0</td>\n",
       "    </tr>\n",
       "    <tr>\n",
       "      <td>17</td>\n",
       "      <td>131.0</td>\n",
       "      <td>4.297710e+05</td>\n",
       "      <td>1.539523e+06</td>\n",
       "      <td>50000.0</td>\n",
       "      <td>100000.0</td>\n",
       "      <td>180000.0</td>\n",
       "      <td>400000.0</td>\n",
       "      <td>17500000.0</td>\n",
       "    </tr>\n",
       "    <tr>\n",
       "      <td>18</td>\n",
       "      <td>344.0</td>\n",
       "      <td>5.920203e+05</td>\n",
       "      <td>1.704083e+06</td>\n",
       "      <td>30000.0</td>\n",
       "      <td>120000.0</td>\n",
       "      <td>220000.0</td>\n",
       "      <td>525000.0</td>\n",
       "      <td>27000000.0</td>\n",
       "    </tr>\n",
       "    <tr>\n",
       "      <td>19</td>\n",
       "      <td>491.0</td>\n",
       "      <td>9.187475e+05</td>\n",
       "      <td>2.155731e+06</td>\n",
       "      <td>30000.0</td>\n",
       "      <td>160000.0</td>\n",
       "      <td>375000.0</td>\n",
       "      <td>775000.0</td>\n",
       "      <td>29000000.0</td>\n",
       "    </tr>\n",
       "    <tr>\n",
       "      <td>20</td>\n",
       "      <td>582.0</td>\n",
       "      <td>1.294974e+06</td>\n",
       "      <td>2.618790e+06</td>\n",
       "      <td>30000.0</td>\n",
       "      <td>220000.0</td>\n",
       "      <td>500000.0</td>\n",
       "      <td>1075000.0</td>\n",
       "      <td>23500000.0</td>\n",
       "    </tr>\n",
       "    <tr>\n",
       "      <td>21</td>\n",
       "      <td>676.0</td>\n",
       "      <td>2.091243e+06</td>\n",
       "      <td>4.337911e+06</td>\n",
       "      <td>40000.0</td>\n",
       "      <td>325000.0</td>\n",
       "      <td>700000.0</td>\n",
       "      <td>1400000.0</td>\n",
       "      <td>41000000.0</td>\n",
       "    </tr>\n",
       "    <tr>\n",
       "      <td>22</td>\n",
       "      <td>632.0</td>\n",
       "      <td>2.499312e+06</td>\n",
       "      <td>5.272682e+06</td>\n",
       "      <td>50000.0</td>\n",
       "      <td>400000.0</td>\n",
       "      <td>750000.0</td>\n",
       "      <td>1825000.0</td>\n",
       "      <td>54000000.0</td>\n",
       "    </tr>\n",
       "    <tr>\n",
       "      <td>23</td>\n",
       "      <td>663.0</td>\n",
       "      <td>3.124216e+06</td>\n",
       "      <td>5.621339e+06</td>\n",
       "      <td>40000.0</td>\n",
       "      <td>500000.0</td>\n",
       "      <td>975000.0</td>\n",
       "      <td>3200000.0</td>\n",
       "      <td>50500000.0</td>\n",
       "    </tr>\n",
       "    <tr>\n",
       "      <td>24</td>\n",
       "      <td>691.0</td>\n",
       "      <td>3.325760e+06</td>\n",
       "      <td>5.809014e+06</td>\n",
       "      <td>40000.0</td>\n",
       "      <td>575000.0</td>\n",
       "      <td>1000000.0</td>\n",
       "      <td>3600000.0</td>\n",
       "      <td>57000000.0</td>\n",
       "    </tr>\n",
       "    <tr>\n",
       "      <td>25</td>\n",
       "      <td>654.0</td>\n",
       "      <td>3.713219e+06</td>\n",
       "      <td>7.017598e+06</td>\n",
       "      <td>40000.0</td>\n",
       "      <td>600000.0</td>\n",
       "      <td>1100000.0</td>\n",
       "      <td>3500000.0</td>\n",
       "      <td>68000000.0</td>\n",
       "    </tr>\n",
       "    <tr>\n",
       "      <td>26</td>\n",
       "      <td>708.0</td>\n",
       "      <td>3.917331e+06</td>\n",
       "      <td>8.027820e+06</td>\n",
       "      <td>50000.0</td>\n",
       "      <td>550000.0</td>\n",
       "      <td>1100000.0</td>\n",
       "      <td>3800000.0</td>\n",
       "      <td>73500000.0</td>\n",
       "    </tr>\n",
       "    <tr>\n",
       "      <td>27</td>\n",
       "      <td>581.0</td>\n",
       "      <td>4.015551e+06</td>\n",
       "      <td>7.449736e+06</td>\n",
       "      <td>20000.0</td>\n",
       "      <td>625000.0</td>\n",
       "      <td>1100000.0</td>\n",
       "      <td>4600000.0</td>\n",
       "      <td>72000000.0</td>\n",
       "    </tr>\n",
       "    <tr>\n",
       "      <td>28</td>\n",
       "      <td>532.0</td>\n",
       "      <td>3.146438e+06</td>\n",
       "      <td>4.899067e+06</td>\n",
       "      <td>60000.0</td>\n",
       "      <td>525000.0</td>\n",
       "      <td>1100000.0</td>\n",
       "      <td>4000000.0</td>\n",
       "      <td>45000000.0</td>\n",
       "    </tr>\n",
       "    <tr>\n",
       "      <td>29</td>\n",
       "      <td>472.0</td>\n",
       "      <td>3.827754e+06</td>\n",
       "      <td>7.021231e+06</td>\n",
       "      <td>50000.0</td>\n",
       "      <td>575000.0</td>\n",
       "      <td>1150000.0</td>\n",
       "      <td>4300000.0</td>\n",
       "      <td>59000000.0</td>\n",
       "    </tr>\n",
       "    <tr>\n",
       "      <td>30</td>\n",
       "      <td>476.0</td>\n",
       "      <td>3.438099e+06</td>\n",
       "      <td>5.976039e+06</td>\n",
       "      <td>40000.0</td>\n",
       "      <td>575000.0</td>\n",
       "      <td>1300000.0</td>\n",
       "      <td>4125000.0</td>\n",
       "      <td>57000000.0</td>\n",
       "    </tr>\n",
       "    <tr>\n",
       "      <td>31</td>\n",
       "      <td>347.0</td>\n",
       "      <td>4.230764e+06</td>\n",
       "      <td>9.580717e+06</td>\n",
       "      <td>20000.0</td>\n",
       "      <td>575000.0</td>\n",
       "      <td>1600000.0</td>\n",
       "      <td>3900000.0</td>\n",
       "      <td>110500000.0</td>\n",
       "    </tr>\n",
       "    <tr>\n",
       "      <td>32</td>\n",
       "      <td>285.0</td>\n",
       "      <td>3.253140e+06</td>\n",
       "      <td>6.642145e+06</td>\n",
       "      <td>30000.0</td>\n",
       "      <td>425000.0</td>\n",
       "      <td>1000000.0</td>\n",
       "      <td>3200000.0</td>\n",
       "      <td>60000000.0</td>\n",
       "    </tr>\n",
       "    <tr>\n",
       "      <td>33</td>\n",
       "      <td>202.0</td>\n",
       "      <td>2.113911e+06</td>\n",
       "      <td>3.210030e+06</td>\n",
       "      <td>20000.0</td>\n",
       "      <td>350000.0</td>\n",
       "      <td>925000.0</td>\n",
       "      <td>2700000.0</td>\n",
       "      <td>27000000.0</td>\n",
       "    </tr>\n",
       "    <tr>\n",
       "      <td>34</td>\n",
       "      <td>216.0</td>\n",
       "      <td>1.535023e+06</td>\n",
       "      <td>2.603089e+06</td>\n",
       "      <td>80000.0</td>\n",
       "      <td>270000.0</td>\n",
       "      <td>725000.0</td>\n",
       "      <td>1700000.0</td>\n",
       "      <td>21500000.0</td>\n",
       "    </tr>\n",
       "    <tr>\n",
       "      <td>35</td>\n",
       "      <td>89.0</td>\n",
       "      <td>1.006798e+06</td>\n",
       "      <td>1.696213e+06</td>\n",
       "      <td>20000.0</td>\n",
       "      <td>150000.0</td>\n",
       "      <td>400000.0</td>\n",
       "      <td>950000.0</td>\n",
       "      <td>9000000.0</td>\n",
       "    </tr>\n",
       "    <tr>\n",
       "      <td>36</td>\n",
       "      <td>64.0</td>\n",
       "      <td>7.871094e+05</td>\n",
       "      <td>1.914793e+06</td>\n",
       "      <td>10000.0</td>\n",
       "      <td>97500.0</td>\n",
       "      <td>312500.0</td>\n",
       "      <td>750000.0</td>\n",
       "      <td>14000000.0</td>\n",
       "    </tr>\n",
       "    <tr>\n",
       "      <td>37</td>\n",
       "      <td>42.0</td>\n",
       "      <td>6.603571e+05</td>\n",
       "      <td>1.456965e+06</td>\n",
       "      <td>10000.0</td>\n",
       "      <td>42500.0</td>\n",
       "      <td>215000.0</td>\n",
       "      <td>525000.0</td>\n",
       "      <td>8000000.0</td>\n",
       "    </tr>\n",
       "    <tr>\n",
       "      <td>38</td>\n",
       "      <td>17.0</td>\n",
       "      <td>1.958824e+05</td>\n",
       "      <td>2.068758e+05</td>\n",
       "      <td>20000.0</td>\n",
       "      <td>50000.0</td>\n",
       "      <td>120000.0</td>\n",
       "      <td>240000.0</td>\n",
       "      <td>750000.0</td>\n",
       "    </tr>\n",
       "    <tr>\n",
       "      <td>39</td>\n",
       "      <td>16.0</td>\n",
       "      <td>3.381250e+05</td>\n",
       "      <td>4.469186e+05</td>\n",
       "      <td>30000.0</td>\n",
       "      <td>67500.0</td>\n",
       "      <td>140000.0</td>\n",
       "      <td>315000.0</td>\n",
       "      <td>1600000.0</td>\n",
       "    </tr>\n",
       "    <tr>\n",
       "      <td>40</td>\n",
       "      <td>3.0</td>\n",
       "      <td>1.436667e+06</td>\n",
       "      <td>2.222889e+06</td>\n",
       "      <td>40000.0</td>\n",
       "      <td>155000.0</td>\n",
       "      <td>270000.0</td>\n",
       "      <td>2135000.0</td>\n",
       "      <td>4000000.0</td>\n",
       "    </tr>\n",
       "  </tbody>\n",
       "</table>\n",
       "</div>"
      ],
      "text/plain": [
       "     count          mean           std      min       25%        50%  \\\n",
       "age                                                                    \n",
       "16    18.0  2.791667e+05  2.675612e+05  50000.0  100000.0   155000.0   \n",
       "17   131.0  4.297710e+05  1.539523e+06  50000.0  100000.0   180000.0   \n",
       "18   344.0  5.920203e+05  1.704083e+06  30000.0  120000.0   220000.0   \n",
       "19   491.0  9.187475e+05  2.155731e+06  30000.0  160000.0   375000.0   \n",
       "20   582.0  1.294974e+06  2.618790e+06  30000.0  220000.0   500000.0   \n",
       "21   676.0  2.091243e+06  4.337911e+06  40000.0  325000.0   700000.0   \n",
       "22   632.0  2.499312e+06  5.272682e+06  50000.0  400000.0   750000.0   \n",
       "23   663.0  3.124216e+06  5.621339e+06  40000.0  500000.0   975000.0   \n",
       "24   691.0  3.325760e+06  5.809014e+06  40000.0  575000.0  1000000.0   \n",
       "25   654.0  3.713219e+06  7.017598e+06  40000.0  600000.0  1100000.0   \n",
       "26   708.0  3.917331e+06  8.027820e+06  50000.0  550000.0  1100000.0   \n",
       "27   581.0  4.015551e+06  7.449736e+06  20000.0  625000.0  1100000.0   \n",
       "28   532.0  3.146438e+06  4.899067e+06  60000.0  525000.0  1100000.0   \n",
       "29   472.0  3.827754e+06  7.021231e+06  50000.0  575000.0  1150000.0   \n",
       "30   476.0  3.438099e+06  5.976039e+06  40000.0  575000.0  1300000.0   \n",
       "31   347.0  4.230764e+06  9.580717e+06  20000.0  575000.0  1600000.0   \n",
       "32   285.0  3.253140e+06  6.642145e+06  30000.0  425000.0  1000000.0   \n",
       "33   202.0  2.113911e+06  3.210030e+06  20000.0  350000.0   925000.0   \n",
       "34   216.0  1.535023e+06  2.603089e+06  80000.0  270000.0   725000.0   \n",
       "35    89.0  1.006798e+06  1.696213e+06  20000.0  150000.0   400000.0   \n",
       "36    64.0  7.871094e+05  1.914793e+06  10000.0   97500.0   312500.0   \n",
       "37    42.0  6.603571e+05  1.456965e+06  10000.0   42500.0   215000.0   \n",
       "38    17.0  1.958824e+05  2.068758e+05  20000.0   50000.0   120000.0   \n",
       "39    16.0  3.381250e+05  4.469186e+05  30000.0   67500.0   140000.0   \n",
       "40     3.0  1.436667e+06  2.222889e+06  40000.0  155000.0   270000.0   \n",
       "\n",
       "           75%          max  \n",
       "age                          \n",
       "16    337500.0    1000000.0  \n",
       "17    400000.0   17500000.0  \n",
       "18    525000.0   27000000.0  \n",
       "19    775000.0   29000000.0  \n",
       "20   1075000.0   23500000.0  \n",
       "21   1400000.0   41000000.0  \n",
       "22   1825000.0   54000000.0  \n",
       "23   3200000.0   50500000.0  \n",
       "24   3600000.0   57000000.0  \n",
       "25   3500000.0   68000000.0  \n",
       "26   3800000.0   73500000.0  \n",
       "27   4600000.0   72000000.0  \n",
       "28   4000000.0   45000000.0  \n",
       "29   4300000.0   59000000.0  \n",
       "30   4125000.0   57000000.0  \n",
       "31   3900000.0  110500000.0  \n",
       "32   3200000.0   60000000.0  \n",
       "33   2700000.0   27000000.0  \n",
       "34   1700000.0   21500000.0  \n",
       "35    950000.0    9000000.0  \n",
       "36    750000.0   14000000.0  \n",
       "37    525000.0    8000000.0  \n",
       "38    240000.0     750000.0  \n",
       "39    315000.0    1600000.0  \n",
       "40   2135000.0    4000000.0  "
      ]
     },
     "execution_count": 9,
     "metadata": {},
     "output_type": "execute_result"
    }
   ],
   "source": [
    "data.groupby(['age'])['value'].describe() # age 별 value의 describe"
   ]
  },
  {
   "cell_type": "code",
   "execution_count": 10,
   "metadata": {},
   "outputs": [
    {
     "data": {
      "text/plain": [
       "Text(0.5, 1.0, 'Age vs Value\\n(scatterplot)')"
      ]
     },
     "execution_count": 10,
     "metadata": {},
     "output_type": "execute_result"
    },
    {
     "data": {
      "image/png": "[encoded data removed]",
      "text/plain": [
       "<Figure size 432x288 with 1 Axes>"
      ]
     },
     "metadata": {
      "needs_background": "light"
     },
     "output_type": "display_data"
    }
   ],
   "source": [
    "sns.scatterplot(data.age,data.value).set_title('Age vs Value\\n(scatterplot)') # age와 value의 분포확인을 위한 scatterplot"
   ]
  },
  {
   "cell_type": "code",
   "execution_count": 11,
   "metadata": {},
   "outputs": [
    {
     "data": {
      "text/plain": [
       "Text(0.5, 1.0, 'Age vs Stat_overall\\n(stripplot)')"
      ]
     },
     "execution_count": 11,
     "metadata": {},
     "output_type": "execute_result"
    },
    {
     "data": {
      "image/png": "[encoded data removed]",
      "text/plain": [
       "<Figure size 432x288 with 1 Axes>"
      ]
     },
     "metadata": {
      "needs_background": "light"
     },
     "output_type": "display_data"
    }
   ],
   "source": [
    "sns.stripplot(data.age,data.stat_overall).set_title('Age vs Stat_overall\\n(stripplot)') # age와 stat_overall"
   ]
  },
  {
   "cell_type": "markdown",
   "metadata": {},
   "source": [
    "#### 나이와 value 값을 비교해보면 25세에서 30세 전후로 value값이 크다. 선수들 개인마다 차이는 있겠지만 25세에서 30세 사이가 돈을 가장 많이 벌 때 인듯하다. "
   ]
  },
  {
   "cell_type": "code",
   "execution_count": 12,
   "metadata": {},
   "outputs": [
    {
     "name": "stdout",
     "output_type": "stream",
     "text": [
      "continent : ['south america' 'europe' 'africa' 'asia' 'oceania']\n"
     ]
    }
   ],
   "source": [
    "# continent\n",
    "print('continent :', data.continent.unique()) # continent의 unique"
   ]
  },
  {
   "cell_type": "code",
   "execution_count": 13,
   "metadata": {},
   "outputs": [
    {
     "data": {
      "text/plain": [
       "continent\n",
       "africa           2.972247e+06\n",
       "asia             1.035146e+06\n",
       "europe           2.928125e+06\n",
       "oceania          8.225429e+05\n",
       "south america    3.183204e+06\n",
       "Name: value, dtype: float64"
      ]
     },
     "execution_count": 13,
     "metadata": {},
     "output_type": "execute_result"
    }
   ],
   "source": [
    "data.groupby(['continent'])['value'].mean() # continent에 따른 value"
   ]
  },
  {
   "cell_type": "code",
   "execution_count": 14,
   "metadata": {},
   "outputs": [
    {
     "data": {
      "text/plain": [
       "Text(0.5, 1.0, 'Continent vs Value\\n(barplot)')"
      ]
     },
     "execution_count": 14,
     "metadata": {},
     "output_type": "execute_result"
    },
    {
     "data": {
      "image/png": "[encoded data removed]",
      "text/plain": [
       "<Figure size 432x288 with 1 Axes>"
      ]
     },
     "metadata": {
      "needs_background": "light"
     },
     "output_type": "display_data"
    }
   ],
   "source": [
    "sns.barplot(data.continent,data.value).set_title('Continent vs Value\\n(barplot)') # continent에 따른 value barplot"
   ]
  },
  {
   "cell_type": "markdown",
   "metadata": {},
   "source": [
    "#### 대륙별로 value 값을 살펴보면 개인마다 다르지만 value 값이 남미가 가장 높고 그 다음 아프리카,유럽,아시아,오세아니아 순이다. 특히 아시아와 오세아니아는 다른 대륙과 value 값이 크게 차이난다"
   ]
  },
  {
   "cell_type": "code",
   "execution_count": 15,
   "metadata": {},
   "outputs": [
    {
     "data": {
      "text/html": [
       "<div>\n",
       "<style scoped>\n",
       "    .dataframe tbody tr th:only-of-type {\n",
       "        vertical-align: middle;\n",
       "    }\n",
       "\n",
       "    .dataframe tbody tr th {\n",
       "        vertical-align: top;\n",
       "    }\n",
       "\n",
       "    .dataframe thead th {\n",
       "        text-align: right;\n",
       "    }\n",
       "</style>\n",
       "<table border=\"1\" class=\"dataframe\">\n",
       "  <thead>\n",
       "    <tr style=\"text-align: right;\">\n",
       "      <th></th>\n",
       "      <th>count</th>\n",
       "      <th>mean</th>\n",
       "      <th>std</th>\n",
       "      <th>min</th>\n",
       "      <th>25%</th>\n",
       "      <th>50%</th>\n",
       "      <th>75%</th>\n",
       "      <th>max</th>\n",
       "    </tr>\n",
       "    <tr>\n",
       "      <th>continent</th>\n",
       "      <th></th>\n",
       "      <th></th>\n",
       "      <th></th>\n",
       "      <th></th>\n",
       "      <th></th>\n",
       "      <th></th>\n",
       "      <th></th>\n",
       "      <th></th>\n",
       "    </tr>\n",
       "  </thead>\n",
       "  <tbody>\n",
       "    <tr>\n",
       "      <td>africa</td>\n",
       "      <td>721.0</td>\n",
       "      <td>72.360610</td>\n",
       "      <td>5.438066</td>\n",
       "      <td>58.0</td>\n",
       "      <td>69.0</td>\n",
       "      <td>72.0</td>\n",
       "      <td>76.0</td>\n",
       "      <td>90.0</td>\n",
       "    </tr>\n",
       "    <tr>\n",
       "      <td>asia</td>\n",
       "      <td>787.0</td>\n",
       "      <td>68.208386</td>\n",
       "      <td>5.481153</td>\n",
       "      <td>48.0</td>\n",
       "      <td>64.0</td>\n",
       "      <td>68.0</td>\n",
       "      <td>72.0</td>\n",
       "      <td>87.0</td>\n",
       "    </tr>\n",
       "    <tr>\n",
       "      <td>europe</td>\n",
       "      <td>5322.0</td>\n",
       "      <td>72.387636</td>\n",
       "      <td>6.099490</td>\n",
       "      <td>50.0</td>\n",
       "      <td>68.0</td>\n",
       "      <td>72.0</td>\n",
       "      <td>76.0</td>\n",
       "      <td>93.0</td>\n",
       "    </tr>\n",
       "    <tr>\n",
       "      <td>oceania</td>\n",
       "      <td>175.0</td>\n",
       "      <td>68.640000</td>\n",
       "      <td>4.584030</td>\n",
       "      <td>59.0</td>\n",
       "      <td>65.0</td>\n",
       "      <td>68.0</td>\n",
       "      <td>72.0</td>\n",
       "      <td>83.0</td>\n",
       "    </tr>\n",
       "    <tr>\n",
       "      <td>south america</td>\n",
       "      <td>1927.0</td>\n",
       "      <td>72.635184</td>\n",
       "      <td>5.523599</td>\n",
       "      <td>56.0</td>\n",
       "      <td>69.0</td>\n",
       "      <td>72.0</td>\n",
       "      <td>76.0</td>\n",
       "      <td>94.0</td>\n",
       "    </tr>\n",
       "  </tbody>\n",
       "</table>\n",
       "</div>"
      ],
      "text/plain": [
       "                count       mean       std   min   25%   50%   75%   max\n",
       "continent                                                               \n",
       "africa          721.0  72.360610  5.438066  58.0  69.0  72.0  76.0  90.0\n",
       "asia            787.0  68.208386  5.481153  48.0  64.0  68.0  72.0  87.0\n",
       "europe         5322.0  72.387636  6.099490  50.0  68.0  72.0  76.0  93.0\n",
       "oceania         175.0  68.640000  4.584030  59.0  65.0  68.0  72.0  83.0\n",
       "south america  1927.0  72.635184  5.523599  56.0  69.0  72.0  76.0  94.0"
      ]
     },
     "execution_count": 15,
     "metadata": {},
     "output_type": "execute_result"
    }
   ],
   "source": [
    "data.groupby(['continent'])['stat_potential'].describe()  # 대륙별 선수 발전가능성(?) 유망할거같은 선수가 어느대륙에 있나 살펴봄"
   ]
  },
  {
   "cell_type": "code",
   "execution_count": 16,
   "metadata": {},
   "outputs": [
    {
     "data": {
      "text/plain": [
       "Text(0.5, 1.0, 'Continent vs stat_potential\\n(boxplot)')"
      ]
     },
     "execution_count": 16,
     "metadata": {},
     "output_type": "execute_result"
    },
    {
     "data": {
      "image/png": "[encoded data removed]",
      "text/plain": [
       "<Figure size 432x288 with 1 Axes>"
      ]
     },
     "metadata": {
      "needs_background": "light"
     },
     "output_type": "display_data"
    }
   ],
   "source": [
    "sns.boxplot(data.continent,data.stat_potential).set_title('Continent vs stat_potential\\n(boxplot)') #대륙별 선수 발전가능성(?) boxplot"
   ]
  },
  {
   "cell_type": "code",
   "execution_count": 17,
   "metadata": {},
   "outputs": [
    {
     "data": {
      "text/html": [
       "<div>\n",
       "<style scoped>\n",
       "    .dataframe tbody tr th:only-of-type {\n",
       "        vertical-align: middle;\n",
       "    }\n",
       "\n",
       "    .dataframe tbody tr th {\n",
       "        vertical-align: top;\n",
       "    }\n",
       "\n",
       "    .dataframe thead th {\n",
       "        text-align: right;\n",
       "    }\n",
       "</style>\n",
       "<table border=\"1\" class=\"dataframe\">\n",
       "  <thead>\n",
       "    <tr style=\"text-align: right;\">\n",
       "      <th></th>\n",
       "      <th>count</th>\n",
       "      <th>mean</th>\n",
       "      <th>std</th>\n",
       "      <th>min</th>\n",
       "      <th>25%</th>\n",
       "      <th>50%</th>\n",
       "      <th>75%</th>\n",
       "      <th>max</th>\n",
       "    </tr>\n",
       "    <tr>\n",
       "      <th>continent</th>\n",
       "      <th></th>\n",
       "      <th></th>\n",
       "      <th></th>\n",
       "      <th></th>\n",
       "      <th></th>\n",
       "      <th></th>\n",
       "      <th></th>\n",
       "      <th></th>\n",
       "    </tr>\n",
       "  </thead>\n",
       "  <tbody>\n",
       "    <tr>\n",
       "      <td>africa</td>\n",
       "      <td>721.0</td>\n",
       "      <td>68.041609</td>\n",
       "      <td>5.937961</td>\n",
       "      <td>48.0</td>\n",
       "      <td>64.0</td>\n",
       "      <td>68.0</td>\n",
       "      <td>72.0</td>\n",
       "      <td>88.0</td>\n",
       "    </tr>\n",
       "    <tr>\n",
       "      <td>asia</td>\n",
       "      <td>787.0</td>\n",
       "      <td>63.381194</td>\n",
       "      <td>6.159215</td>\n",
       "      <td>48.0</td>\n",
       "      <td>59.0</td>\n",
       "      <td>63.0</td>\n",
       "      <td>68.0</td>\n",
       "      <td>80.0</td>\n",
       "    </tr>\n",
       "    <tr>\n",
       "      <td>europe</td>\n",
       "      <td>5322.0</td>\n",
       "      <td>67.083051</td>\n",
       "      <td>6.977361</td>\n",
       "      <td>47.0</td>\n",
       "      <td>63.0</td>\n",
       "      <td>67.0</td>\n",
       "      <td>71.0</td>\n",
       "      <td>91.0</td>\n",
       "    </tr>\n",
       "    <tr>\n",
       "      <td>oceania</td>\n",
       "      <td>175.0</td>\n",
       "      <td>63.011429</td>\n",
       "      <td>5.987524</td>\n",
       "      <td>50.0</td>\n",
       "      <td>59.0</td>\n",
       "      <td>64.0</td>\n",
       "      <td>67.0</td>\n",
       "      <td>79.0</td>\n",
       "    </tr>\n",
       "    <tr>\n",
       "      <td>south america</td>\n",
       "      <td>1927.0</td>\n",
       "      <td>68.643487</td>\n",
       "      <td>6.450469</td>\n",
       "      <td>47.0</td>\n",
       "      <td>65.0</td>\n",
       "      <td>69.0</td>\n",
       "      <td>73.0</td>\n",
       "      <td>94.0</td>\n",
       "    </tr>\n",
       "  </tbody>\n",
       "</table>\n",
       "</div>"
      ],
      "text/plain": [
       "                count       mean       std   min   25%   50%   75%   max\n",
       "continent                                                               \n",
       "africa          721.0  68.041609  5.937961  48.0  64.0  68.0  72.0  88.0\n",
       "asia            787.0  63.381194  6.159215  48.0  59.0  63.0  68.0  80.0\n",
       "europe         5322.0  67.083051  6.977361  47.0  63.0  67.0  71.0  91.0\n",
       "oceania         175.0  63.011429  5.987524  50.0  59.0  64.0  67.0  79.0\n",
       "south america  1927.0  68.643487  6.450469  47.0  65.0  69.0  73.0  94.0"
      ]
     },
     "execution_count": 17,
     "metadata": {},
     "output_type": "execute_result"
    }
   ],
   "source": [
    "data.groupby(['continent'])['stat_overall'].describe() # 대륙별 선수 현재 능력치"
   ]
  },
  {
   "cell_type": "code",
   "execution_count": 18,
   "metadata": {},
   "outputs": [
    {
     "data": {
      "text/plain": [
       "Text(0.5, 1.0, 'Continent vs stat_overalll\\n(boxplot)')"
      ]
     },
     "execution_count": 18,
     "metadata": {},
     "output_type": "execute_result"
    },
    {
     "data": {
      "image/png": "[encoded data removed]",
      "text/plain": [
       "<Figure size 432x288 with 1 Axes>"
      ]
     },
     "metadata": {
      "needs_background": "light"
     },
     "output_type": "display_data"
    }
   ],
   "source": [
    "sns.boxplot(data.continent,data.stat_overall).set_title('Continent vs stat_overalll\\n(boxplot)') #대륙별 선수 현재 능력치"
   ]
  },
  {
   "cell_type": "markdown",
   "metadata": {},
   "source": [
    "#### 위에서 살펴본 대륙별 value값에서 아시아와 오세아니아가 value 값이 작은것에 대한 해답인거 같다. 현재 선수의 능력치와 발전 가능성의 수치가 작다. "
   ]
  },
  {
   "cell_type": "code",
   "execution_count": 19,
   "metadata": {},
   "outputs": [
    {
     "data": {
      "text/plain": [
       "array(['2021', '2020', '2019', '2023', '2022', '2024', 'Jun 30, 2019',\n",
       "       '2026', 'Dec 31, 2018', '2018', '2025', 'Jun 30, 2020',\n",
       "       'May 31, 2020', 'May 31, 2019', 'Jan 31, 2019', 'Jan 1, 2019',\n",
       "       'Jan 12, 2019'], dtype=object)"
      ]
     },
     "execution_count": 19,
     "metadata": {},
     "output_type": "execute_result"
    }
   ],
   "source": [
    "# contract_until\n",
    "data.contract_until.unique() # 계약만료의 unique 연도로 되어있고 연도와 월,일이 같이 표기 된 것 들이 있다."
   ]
  },
  {
   "cell_type": "code",
   "execution_count": 20,
   "metadata": {},
   "outputs": [
    {
     "data": {
      "text/html": [
       "<div>\n",
       "<style scoped>\n",
       "    .dataframe tbody tr th:only-of-type {\n",
       "        vertical-align: middle;\n",
       "    }\n",
       "\n",
       "    .dataframe tbody tr th {\n",
       "        vertical-align: top;\n",
       "    }\n",
       "\n",
       "    .dataframe thead th {\n",
       "        text-align: right;\n",
       "    }\n",
       "</style>\n",
       "<table border=\"1\" class=\"dataframe\">\n",
       "  <thead>\n",
       "    <tr style=\"text-align: right;\">\n",
       "      <th></th>\n",
       "      <th>id</th>\n",
       "      <th>name</th>\n",
       "      <th>age</th>\n",
       "      <th>continent</th>\n",
       "      <th>contract_until</th>\n",
       "      <th>position</th>\n",
       "      <th>prefer_foot</th>\n",
       "      <th>reputation</th>\n",
       "      <th>stat_overall</th>\n",
       "      <th>stat_potential</th>\n",
       "      <th>stat_skill_moves</th>\n",
       "      <th>value</th>\n",
       "    </tr>\n",
       "  </thead>\n",
       "  <tbody>\n",
       "    <tr>\n",
       "      <td>22</td>\n",
       "      <td>38</td>\n",
       "      <td>G. Higuaín</td>\n",
       "      <td>30</td>\n",
       "      <td>south america</td>\n",
       "      <td>Jun 30, 2019</td>\n",
       "      <td>ST</td>\n",
       "      <td>right</td>\n",
       "      <td>4.0</td>\n",
       "      <td>88</td>\n",
       "      <td>88</td>\n",
       "      <td>3.0</td>\n",
       "      <td>57000000.0</td>\n",
       "    </tr>\n",
       "    <tr>\n",
       "      <td>108</td>\n",
       "      <td>176</td>\n",
       "      <td>M. Kovačić</td>\n",
       "      <td>24</td>\n",
       "      <td>europe</td>\n",
       "      <td>Jun 30, 2019</td>\n",
       "      <td>MF</td>\n",
       "      <td>right</td>\n",
       "      <td>3.0</td>\n",
       "      <td>83</td>\n",
       "      <td>89</td>\n",
       "      <td>4.0</td>\n",
       "      <td>35000000.0</td>\n",
       "    </tr>\n",
       "    <tr>\n",
       "      <td>200</td>\n",
       "      <td>332</td>\n",
       "      <td>M. Politano</td>\n",
       "      <td>24</td>\n",
       "      <td>europe</td>\n",
       "      <td>Jun 30, 2019</td>\n",
       "      <td>MF</td>\n",
       "      <td>left</td>\n",
       "      <td>2.0</td>\n",
       "      <td>81</td>\n",
       "      <td>84</td>\n",
       "      <td>4.0</td>\n",
       "      <td>22500000.0</td>\n",
       "    </tr>\n",
       "    <tr>\n",
       "      <td>217</td>\n",
       "      <td>354</td>\n",
       "      <td>S. Vrsaljko</td>\n",
       "      <td>26</td>\n",
       "      <td>europe</td>\n",
       "      <td>Jun 30, 2019</td>\n",
       "      <td>DF</td>\n",
       "      <td>right</td>\n",
       "      <td>2.0</td>\n",
       "      <td>81</td>\n",
       "      <td>84</td>\n",
       "      <td>3.0</td>\n",
       "      <td>18000000.0</td>\n",
       "    </tr>\n",
       "    <tr>\n",
       "      <td>220</td>\n",
       "      <td>357</td>\n",
       "      <td>S. Zaza</td>\n",
       "      <td>27</td>\n",
       "      <td>europe</td>\n",
       "      <td>Jun 30, 2019</td>\n",
       "      <td>ST</td>\n",
       "      <td>left</td>\n",
       "      <td>2.0</td>\n",
       "      <td>81</td>\n",
       "      <td>82</td>\n",
       "      <td>4.0</td>\n",
       "      <td>21000000.0</td>\n",
       "    </tr>\n",
       "    <tr>\n",
       "      <td>...</td>\n",
       "      <td>...</td>\n",
       "      <td>...</td>\n",
       "      <td>...</td>\n",
       "      <td>...</td>\n",
       "      <td>...</td>\n",
       "      <td>...</td>\n",
       "      <td>...</td>\n",
       "      <td>...</td>\n",
       "      <td>...</td>\n",
       "      <td>...</td>\n",
       "      <td>...</td>\n",
       "      <td>...</td>\n",
       "    </tr>\n",
       "    <tr>\n",
       "      <td>8628</td>\n",
       "      <td>16257</td>\n",
       "      <td>Strefezza</td>\n",
       "      <td>21</td>\n",
       "      <td>south america</td>\n",
       "      <td>Jun 30, 2019</td>\n",
       "      <td>ST</td>\n",
       "      <td>right</td>\n",
       "      <td>1.0</td>\n",
       "      <td>54</td>\n",
       "      <td>62</td>\n",
       "      <td>2.0</td>\n",
       "      <td>100000.0</td>\n",
       "    </tr>\n",
       "    <tr>\n",
       "      <td>8629</td>\n",
       "      <td>16265</td>\n",
       "      <td>T. Fantacci</td>\n",
       "      <td>21</td>\n",
       "      <td>europe</td>\n",
       "      <td>Jun 30, 2019</td>\n",
       "      <td>MF</td>\n",
       "      <td>left</td>\n",
       "      <td>1.0</td>\n",
       "      <td>54</td>\n",
       "      <td>65</td>\n",
       "      <td>2.0</td>\n",
       "      <td>120000.0</td>\n",
       "    </tr>\n",
       "    <tr>\n",
       "      <td>8651</td>\n",
       "      <td>16310</td>\n",
       "      <td>A. Al Dhafeeri</td>\n",
       "      <td>20</td>\n",
       "      <td>asia</td>\n",
       "      <td>Jun 30, 2019</td>\n",
       "      <td>MF</td>\n",
       "      <td>right</td>\n",
       "      <td>1.0</td>\n",
       "      <td>54</td>\n",
       "      <td>63</td>\n",
       "      <td>3.0</td>\n",
       "      <td>100000.0</td>\n",
       "    </tr>\n",
       "    <tr>\n",
       "      <td>8711</td>\n",
       "      <td>16433</td>\n",
       "      <td>L. Jacot</td>\n",
       "      <td>18</td>\n",
       "      <td>europe</td>\n",
       "      <td>Jun 30, 2019</td>\n",
       "      <td>GK</td>\n",
       "      <td>right</td>\n",
       "      <td>1.0</td>\n",
       "      <td>53</td>\n",
       "      <td>69</td>\n",
       "      <td>1.0</td>\n",
       "      <td>100000.0</td>\n",
       "    </tr>\n",
       "    <tr>\n",
       "      <td>8890</td>\n",
       "      <td>16819</td>\n",
       "      <td>L. Valeau</td>\n",
       "      <td>19</td>\n",
       "      <td>europe</td>\n",
       "      <td>Jun 30, 2019</td>\n",
       "      <td>MF</td>\n",
       "      <td>left</td>\n",
       "      <td>1.0</td>\n",
       "      <td>50</td>\n",
       "      <td>65</td>\n",
       "      <td>2.0</td>\n",
       "      <td>60000.0</td>\n",
       "    </tr>\n",
       "  </tbody>\n",
       "</table>\n",
       "<p>501 rows × 12 columns</p>\n",
       "</div>"
      ],
      "text/plain": [
       "         id            name  age      continent contract_until position  \\\n",
       "22       38      G. Higuaín   30  south america   Jun 30, 2019       ST   \n",
       "108     176      M. Kovačić   24         europe   Jun 30, 2019       MF   \n",
       "200     332     M. Politano   24         europe   Jun 30, 2019       MF   \n",
       "217     354     S. Vrsaljko   26         europe   Jun 30, 2019       DF   \n",
       "220     357         S. Zaza   27         europe   Jun 30, 2019       ST   \n",
       "...     ...             ...  ...            ...            ...      ...   \n",
       "8628  16257       Strefezza   21  south america   Jun 30, 2019       ST   \n",
       "8629  16265     T. Fantacci   21         europe   Jun 30, 2019       MF   \n",
       "8651  16310  A. Al Dhafeeri   20           asia   Jun 30, 2019       MF   \n",
       "8711  16433        L. Jacot   18         europe   Jun 30, 2019       GK   \n",
       "8890  16819       L. Valeau   19         europe   Jun 30, 2019       MF   \n",
       "\n",
       "     prefer_foot  reputation  stat_overall  stat_potential  stat_skill_moves  \\\n",
       "22         right         4.0            88              88               3.0   \n",
       "108        right         3.0            83              89               4.0   \n",
       "200         left         2.0            81              84               4.0   \n",
       "217        right         2.0            81              84               3.0   \n",
       "220         left         2.0            81              82               4.0   \n",
       "...          ...         ...           ...             ...               ...   \n",
       "8628       right         1.0            54              62               2.0   \n",
       "8629        left         1.0            54              65               2.0   \n",
       "8651       right         1.0            54              63               3.0   \n",
       "8711       right         1.0            53              69               1.0   \n",
       "8890        left         1.0            50              65               2.0   \n",
       "\n",
       "           value  \n",
       "22    57000000.0  \n",
       "108   35000000.0  \n",
       "200   22500000.0  \n",
       "217   18000000.0  \n",
       "220   21000000.0  \n",
       "...          ...  \n",
       "8628    100000.0  \n",
       "8629    120000.0  \n",
       "8651    100000.0  \n",
       "8711    100000.0  \n",
       "8890     60000.0  \n",
       "\n",
       "[501 rows x 12 columns]"
      ]
     },
     "execution_count": 20,
     "metadata": {},
     "output_type": "execute_result"
    }
   ],
   "source": [
    "data[data.contract_until=='Jun 30, 2019'] # 계약만료의 데이터가 잘못된게 아닌지 확인"
   ]
  },
  {
   "cell_type": "code",
   "execution_count": 21,
   "metadata": {},
   "outputs": [
    {
     "data": {
      "text/plain": [
       "contract_until\n",
       "2018            1.042813e+06\n",
       "2019            1.465344e+06\n",
       "2020            2.387075e+06\n",
       "2021            2.827543e+06\n",
       "2022            5.899074e+06\n",
       "2023            5.802115e+06\n",
       "2024            2.450833e+07\n",
       "2025            1.405333e+07\n",
       "2026            5.050000e+07\n",
       "Dec 31, 2018    2.531016e+06\n",
       "Jan 1, 2019     8.250000e+05\n",
       "Jan 12, 2019    1.000000e+05\n",
       "Jan 31, 2019    6.350000e+05\n",
       "Jun 30, 2019    3.067136e+06\n",
       "Jun 30, 2020    4.088889e+06\n",
       "May 31, 2019    2.645789e+06\n",
       "May 31, 2020    7.500000e+06\n",
       "Name: value, dtype: float64"
      ]
     },
     "execution_count": 21,
     "metadata": {},
     "output_type": "execute_result"
    }
   ],
   "source": [
    "data.groupby(['contract_until'])['value'].mean() # 계약 만료별 value값 "
   ]
  },
  {
   "cell_type": "code",
   "execution_count": 22,
   "metadata": {},
   "outputs": [
    {
     "data": {
      "text/html": [
       "<div>\n",
       "<style scoped>\n",
       "    .dataframe tbody tr th:only-of-type {\n",
       "        vertical-align: middle;\n",
       "    }\n",
       "\n",
       "    .dataframe tbody tr th {\n",
       "        vertical-align: top;\n",
       "    }\n",
       "\n",
       "    .dataframe thead tr th {\n",
       "        text-align: left;\n",
       "    }\n",
       "\n",
       "    .dataframe thead tr:last-of-type th {\n",
       "        text-align: right;\n",
       "    }\n",
       "</style>\n",
       "<table border=\"1\" class=\"dataframe\">\n",
       "  <thead>\n",
       "    <tr>\n",
       "      <th></th>\n",
       "      <th colspan=\"8\" halign=\"left\">age</th>\n",
       "      <th colspan=\"8\" halign=\"left\">value</th>\n",
       "    </tr>\n",
       "    <tr>\n",
       "      <th></th>\n",
       "      <th>count</th>\n",
       "      <th>mean</th>\n",
       "      <th>std</th>\n",
       "      <th>min</th>\n",
       "      <th>25%</th>\n",
       "      <th>50%</th>\n",
       "      <th>75%</th>\n",
       "      <th>max</th>\n",
       "      <th>count</th>\n",
       "      <th>mean</th>\n",
       "      <th>std</th>\n",
       "      <th>min</th>\n",
       "      <th>25%</th>\n",
       "      <th>50%</th>\n",
       "      <th>75%</th>\n",
       "      <th>max</th>\n",
       "    </tr>\n",
       "    <tr>\n",
       "      <th>contract_until</th>\n",
       "      <th></th>\n",
       "      <th></th>\n",
       "      <th></th>\n",
       "      <th></th>\n",
       "      <th></th>\n",
       "      <th></th>\n",
       "      <th></th>\n",
       "      <th></th>\n",
       "      <th></th>\n",
       "      <th></th>\n",
       "      <th></th>\n",
       "      <th></th>\n",
       "      <th></th>\n",
       "      <th></th>\n",
       "      <th></th>\n",
       "      <th></th>\n",
       "    </tr>\n",
       "  </thead>\n",
       "  <tbody>\n",
       "    <tr>\n",
       "      <td>2018</td>\n",
       "      <td>327.0</td>\n",
       "      <td>27.097859</td>\n",
       "      <td>4.969499</td>\n",
       "      <td>17.0</td>\n",
       "      <td>23.00</td>\n",
       "      <td>27.0</td>\n",
       "      <td>30.00</td>\n",
       "      <td>38.0</td>\n",
       "      <td>327.0</td>\n",
       "      <td>1.042813e+06</td>\n",
       "      <td>1.704661e+06</td>\n",
       "      <td>10000.0</td>\n",
       "      <td>230000.0</td>\n",
       "      <td>475000.0</td>\n",
       "      <td>962500.0</td>\n",
       "      <td>16500000.0</td>\n",
       "    </tr>\n",
       "    <tr>\n",
       "      <td>2019</td>\n",
       "      <td>2366.0</td>\n",
       "      <td>26.505072</td>\n",
       "      <td>5.071557</td>\n",
       "      <td>16.0</td>\n",
       "      <td>22.25</td>\n",
       "      <td>26.0</td>\n",
       "      <td>30.00</td>\n",
       "      <td>40.0</td>\n",
       "      <td>2366.0</td>\n",
       "      <td>1.465344e+06</td>\n",
       "      <td>2.799817e+06</td>\n",
       "      <td>20000.0</td>\n",
       "      <td>300000.0</td>\n",
       "      <td>600000.0</td>\n",
       "      <td>1300000.0</td>\n",
       "      <td>45000000.0</td>\n",
       "    </tr>\n",
       "    <tr>\n",
       "      <td>2020</td>\n",
       "      <td>2041.0</td>\n",
       "      <td>25.302793</td>\n",
       "      <td>4.363444</td>\n",
       "      <td>16.0</td>\n",
       "      <td>22.00</td>\n",
       "      <td>25.0</td>\n",
       "      <td>29.00</td>\n",
       "      <td>39.0</td>\n",
       "      <td>2041.0</td>\n",
       "      <td>2.387075e+06</td>\n",
       "      <td>4.877709e+06</td>\n",
       "      <td>20000.0</td>\n",
       "      <td>425000.0</td>\n",
       "      <td>825000.0</td>\n",
       "      <td>2400000.0</td>\n",
       "      <td>72000000.0</td>\n",
       "    </tr>\n",
       "    <tr>\n",
       "      <td>2021</td>\n",
       "      <td>2308.0</td>\n",
       "      <td>24.443241</td>\n",
       "      <td>4.533341</td>\n",
       "      <td>16.0</td>\n",
       "      <td>21.00</td>\n",
       "      <td>24.0</td>\n",
       "      <td>28.00</td>\n",
       "      <td>40.0</td>\n",
       "      <td>2308.0</td>\n",
       "      <td>2.827543e+06</td>\n",
       "      <td>6.276837e+06</td>\n",
       "      <td>10000.0</td>\n",
       "      <td>325000.0</td>\n",
       "      <td>750000.0</td>\n",
       "      <td>2600000.0</td>\n",
       "      <td>110500000.0</td>\n",
       "    </tr>\n",
       "    <tr>\n",
       "      <td>2022</td>\n",
       "      <td>761.0</td>\n",
       "      <td>24.254928</td>\n",
       "      <td>3.832778</td>\n",
       "      <td>16.0</td>\n",
       "      <td>21.00</td>\n",
       "      <td>24.0</td>\n",
       "      <td>27.00</td>\n",
       "      <td>39.0</td>\n",
       "      <td>761.0</td>\n",
       "      <td>5.899074e+06</td>\n",
       "      <td>8.341495e+06</td>\n",
       "      <td>30000.0</td>\n",
       "      <td>800000.0</td>\n",
       "      <td>2900000.0</td>\n",
       "      <td>8000000.0</td>\n",
       "      <td>73500000.0</td>\n",
       "    </tr>\n",
       "    <tr>\n",
       "      <td>2023</td>\n",
       "      <td>506.0</td>\n",
       "      <td>24.934783</td>\n",
       "      <td>4.407655</td>\n",
       "      <td>16.0</td>\n",
       "      <td>22.00</td>\n",
       "      <td>24.0</td>\n",
       "      <td>28.00</td>\n",
       "      <td>39.0</td>\n",
       "      <td>506.0</td>\n",
       "      <td>5.802115e+06</td>\n",
       "      <td>1.020079e+07</td>\n",
       "      <td>40000.0</td>\n",
       "      <td>550000.0</td>\n",
       "      <td>1300000.0</td>\n",
       "      <td>7000000.0</td>\n",
       "      <td>69500000.0</td>\n",
       "    </tr>\n",
       "    <tr>\n",
       "      <td>2024</td>\n",
       "      <td>12.0</td>\n",
       "      <td>22.250000</td>\n",
       "      <td>2.094365</td>\n",
       "      <td>19.0</td>\n",
       "      <td>21.00</td>\n",
       "      <td>21.5</td>\n",
       "      <td>23.50</td>\n",
       "      <td>26.0</td>\n",
       "      <td>12.0</td>\n",
       "      <td>2.450833e+07</td>\n",
       "      <td>1.388200e+07</td>\n",
       "      <td>1100000.0</td>\n",
       "      <td>18125000.0</td>\n",
       "      <td>22750000.0</td>\n",
       "      <td>32875000.0</td>\n",
       "      <td>53500000.0</td>\n",
       "    </tr>\n",
       "    <tr>\n",
       "      <td>2025</td>\n",
       "      <td>3.0</td>\n",
       "      <td>19.666667</td>\n",
       "      <td>3.785939</td>\n",
       "      <td>17.0</td>\n",
       "      <td>17.50</td>\n",
       "      <td>18.0</td>\n",
       "      <td>21.00</td>\n",
       "      <td>24.0</td>\n",
       "      <td>3.0</td>\n",
       "      <td>1.405333e+07</td>\n",
       "      <td>1.253070e+07</td>\n",
       "      <td>160000.0</td>\n",
       "      <td>8830000.0</td>\n",
       "      <td>17500000.0</td>\n",
       "      <td>21000000.0</td>\n",
       "      <td>24500000.0</td>\n",
       "    </tr>\n",
       "    <tr>\n",
       "      <td>2026</td>\n",
       "      <td>1.0</td>\n",
       "      <td>23.000000</td>\n",
       "      <td>NaN</td>\n",
       "      <td>23.0</td>\n",
       "      <td>23.00</td>\n",
       "      <td>23.0</td>\n",
       "      <td>23.00</td>\n",
       "      <td>23.0</td>\n",
       "      <td>1.0</td>\n",
       "      <td>5.050000e+07</td>\n",
       "      <td>NaN</td>\n",
       "      <td>50500000.0</td>\n",
       "      <td>50500000.0</td>\n",
       "      <td>50500000.0</td>\n",
       "      <td>50500000.0</td>\n",
       "      <td>50500000.0</td>\n",
       "    </tr>\n",
       "    <tr>\n",
       "      <td>Dec 31, 2018</td>\n",
       "      <td>64.0</td>\n",
       "      <td>24.015625</td>\n",
       "      <td>3.194699</td>\n",
       "      <td>17.0</td>\n",
       "      <td>21.75</td>\n",
       "      <td>24.0</td>\n",
       "      <td>26.00</td>\n",
       "      <td>31.0</td>\n",
       "      <td>64.0</td>\n",
       "      <td>2.531016e+06</td>\n",
       "      <td>4.946659e+06</td>\n",
       "      <td>160000.0</td>\n",
       "      <td>668750.0</td>\n",
       "      <td>962500.0</td>\n",
       "      <td>2775000.0</td>\n",
       "      <td>36500000.0</td>\n",
       "    </tr>\n",
       "    <tr>\n",
       "      <td>Jan 1, 2019</td>\n",
       "      <td>2.0</td>\n",
       "      <td>21.000000</td>\n",
       "      <td>1.414214</td>\n",
       "      <td>20.0</td>\n",
       "      <td>20.50</td>\n",
       "      <td>21.0</td>\n",
       "      <td>21.50</td>\n",
       "      <td>22.0</td>\n",
       "      <td>2.0</td>\n",
       "      <td>8.250000e+05</td>\n",
       "      <td>8.131728e+05</td>\n",
       "      <td>250000.0</td>\n",
       "      <td>537500.0</td>\n",
       "      <td>825000.0</td>\n",
       "      <td>1112500.0</td>\n",
       "      <td>1400000.0</td>\n",
       "    </tr>\n",
       "    <tr>\n",
       "      <td>Jan 12, 2019</td>\n",
       "      <td>1.0</td>\n",
       "      <td>23.000000</td>\n",
       "      <td>NaN</td>\n",
       "      <td>23.0</td>\n",
       "      <td>23.00</td>\n",
       "      <td>23.0</td>\n",
       "      <td>23.00</td>\n",
       "      <td>23.0</td>\n",
       "      <td>1.0</td>\n",
       "      <td>1.000000e+05</td>\n",
       "      <td>NaN</td>\n",
       "      <td>100000.0</td>\n",
       "      <td>100000.0</td>\n",
       "      <td>100000.0</td>\n",
       "      <td>100000.0</td>\n",
       "      <td>100000.0</td>\n",
       "    </tr>\n",
       "    <tr>\n",
       "      <td>Jan 31, 2019</td>\n",
       "      <td>10.0</td>\n",
       "      <td>25.200000</td>\n",
       "      <td>3.457681</td>\n",
       "      <td>21.0</td>\n",
       "      <td>23.25</td>\n",
       "      <td>24.0</td>\n",
       "      <td>28.25</td>\n",
       "      <td>31.0</td>\n",
       "      <td>10.0</td>\n",
       "      <td>6.350000e+05</td>\n",
       "      <td>3.102866e+05</td>\n",
       "      <td>200000.0</td>\n",
       "      <td>412500.0</td>\n",
       "      <td>587500.0</td>\n",
       "      <td>825000.0</td>\n",
       "      <td>1200000.0</td>\n",
       "    </tr>\n",
       "    <tr>\n",
       "      <td>Jun 30, 2019</td>\n",
       "      <td>501.0</td>\n",
       "      <td>23.065868</td>\n",
       "      <td>3.033423</td>\n",
       "      <td>16.0</td>\n",
       "      <td>21.00</td>\n",
       "      <td>23.0</td>\n",
       "      <td>25.00</td>\n",
       "      <td>33.0</td>\n",
       "      <td>501.0</td>\n",
       "      <td>3.067136e+06</td>\n",
       "      <td>4.520370e+06</td>\n",
       "      <td>60000.0</td>\n",
       "      <td>700000.0</td>\n",
       "      <td>1300000.0</td>\n",
       "      <td>3900000.0</td>\n",
       "      <td>57000000.0</td>\n",
       "    </tr>\n",
       "    <tr>\n",
       "      <td>Jun 30, 2020</td>\n",
       "      <td>9.0</td>\n",
       "      <td>23.000000</td>\n",
       "      <td>3.807887</td>\n",
       "      <td>18.0</td>\n",
       "      <td>21.00</td>\n",
       "      <td>22.0</td>\n",
       "      <td>27.00</td>\n",
       "      <td>29.0</td>\n",
       "      <td>9.0</td>\n",
       "      <td>4.088889e+06</td>\n",
       "      <td>4.481143e+06</td>\n",
       "      <td>375000.0</td>\n",
       "      <td>750000.0</td>\n",
       "      <td>2300000.0</td>\n",
       "      <td>8000000.0</td>\n",
       "      <td>12000000.0</td>\n",
       "    </tr>\n",
       "    <tr>\n",
       "      <td>May 31, 2019</td>\n",
       "      <td>19.0</td>\n",
       "      <td>24.526316</td>\n",
       "      <td>4.018961</td>\n",
       "      <td>19.0</td>\n",
       "      <td>21.50</td>\n",
       "      <td>25.0</td>\n",
       "      <td>27.00</td>\n",
       "      <td>31.0</td>\n",
       "      <td>19.0</td>\n",
       "      <td>2.645789e+06</td>\n",
       "      <td>2.485858e+06</td>\n",
       "      <td>220000.0</td>\n",
       "      <td>1012500.0</td>\n",
       "      <td>1200000.0</td>\n",
       "      <td>3200000.0</td>\n",
       "      <td>9000000.0</td>\n",
       "    </tr>\n",
       "    <tr>\n",
       "      <td>May 31, 2020</td>\n",
       "      <td>1.0</td>\n",
       "      <td>31.000000</td>\n",
       "      <td>NaN</td>\n",
       "      <td>31.0</td>\n",
       "      <td>31.00</td>\n",
       "      <td>31.0</td>\n",
       "      <td>31.00</td>\n",
       "      <td>31.0</td>\n",
       "      <td>1.0</td>\n",
       "      <td>7.500000e+06</td>\n",
       "      <td>NaN</td>\n",
       "      <td>7500000.0</td>\n",
       "      <td>7500000.0</td>\n",
       "      <td>7500000.0</td>\n",
       "      <td>7500000.0</td>\n",
       "      <td>7500000.0</td>\n",
       "    </tr>\n",
       "  </tbody>\n",
       "</table>\n",
       "</div>"
      ],
      "text/plain": [
       "                   age                                                       \\\n",
       "                 count       mean       std   min    25%   50%    75%   max   \n",
       "contract_until                                                                \n",
       "2018             327.0  27.097859  4.969499  17.0  23.00  27.0  30.00  38.0   \n",
       "2019            2366.0  26.505072  5.071557  16.0  22.25  26.0  30.00  40.0   \n",
       "2020            2041.0  25.302793  4.363444  16.0  22.00  25.0  29.00  39.0   \n",
       "2021            2308.0  24.443241  4.533341  16.0  21.00  24.0  28.00  40.0   \n",
       "2022             761.0  24.254928  3.832778  16.0  21.00  24.0  27.00  39.0   \n",
       "2023             506.0  24.934783  4.407655  16.0  22.00  24.0  28.00  39.0   \n",
       "2024              12.0  22.250000  2.094365  19.0  21.00  21.5  23.50  26.0   \n",
       "2025               3.0  19.666667  3.785939  17.0  17.50  18.0  21.00  24.0   \n",
       "2026               1.0  23.000000       NaN  23.0  23.00  23.0  23.00  23.0   \n",
       "Dec 31, 2018      64.0  24.015625  3.194699  17.0  21.75  24.0  26.00  31.0   \n",
       "Jan 1, 2019        2.0  21.000000  1.414214  20.0  20.50  21.0  21.50  22.0   \n",
       "Jan 12, 2019       1.0  23.000000       NaN  23.0  23.00  23.0  23.00  23.0   \n",
       "Jan 31, 2019      10.0  25.200000  3.457681  21.0  23.25  24.0  28.25  31.0   \n",
       "Jun 30, 2019     501.0  23.065868  3.033423  16.0  21.00  23.0  25.00  33.0   \n",
       "Jun 30, 2020       9.0  23.000000  3.807887  18.0  21.00  22.0  27.00  29.0   \n",
       "May 31, 2019      19.0  24.526316  4.018961  19.0  21.50  25.0  27.00  31.0   \n",
       "May 31, 2020       1.0  31.000000       NaN  31.0  31.00  31.0  31.00  31.0   \n",
       "\n",
       "                 value                                                      \\\n",
       "                 count          mean           std         min         25%   \n",
       "contract_until                                                               \n",
       "2018             327.0  1.042813e+06  1.704661e+06     10000.0    230000.0   \n",
       "2019            2366.0  1.465344e+06  2.799817e+06     20000.0    300000.0   \n",
       "2020            2041.0  2.387075e+06  4.877709e+06     20000.0    425000.0   \n",
       "2021            2308.0  2.827543e+06  6.276837e+06     10000.0    325000.0   \n",
       "2022             761.0  5.899074e+06  8.341495e+06     30000.0    800000.0   \n",
       "2023             506.0  5.802115e+06  1.020079e+07     40000.0    550000.0   \n",
       "2024              12.0  2.450833e+07  1.388200e+07   1100000.0  18125000.0   \n",
       "2025               3.0  1.405333e+07  1.253070e+07    160000.0   8830000.0   \n",
       "2026               1.0  5.050000e+07           NaN  50500000.0  50500000.0   \n",
       "Dec 31, 2018      64.0  2.531016e+06  4.946659e+06    160000.0    668750.0   \n",
       "Jan 1, 2019        2.0  8.250000e+05  8.131728e+05    250000.0    537500.0   \n",
       "Jan 12, 2019       1.0  1.000000e+05           NaN    100000.0    100000.0   \n",
       "Jan 31, 2019      10.0  6.350000e+05  3.102866e+05    200000.0    412500.0   \n",
       "Jun 30, 2019     501.0  3.067136e+06  4.520370e+06     60000.0    700000.0   \n",
       "Jun 30, 2020       9.0  4.088889e+06  4.481143e+06    375000.0    750000.0   \n",
       "May 31, 2019      19.0  2.645789e+06  2.485858e+06    220000.0   1012500.0   \n",
       "May 31, 2020       1.0  7.500000e+06           NaN   7500000.0   7500000.0   \n",
       "\n",
       "                                                     \n",
       "                       50%         75%          max  \n",
       "contract_until                                       \n",
       "2018              475000.0    962500.0   16500000.0  \n",
       "2019              600000.0   1300000.0   45000000.0  \n",
       "2020              825000.0   2400000.0   72000000.0  \n",
       "2021              750000.0   2600000.0  110500000.0  \n",
       "2022             2900000.0   8000000.0   73500000.0  \n",
       "2023             1300000.0   7000000.0   69500000.0  \n",
       "2024            22750000.0  32875000.0   53500000.0  \n",
       "2025            17500000.0  21000000.0   24500000.0  \n",
       "2026            50500000.0  50500000.0   50500000.0  \n",
       "Dec 31, 2018      962500.0   2775000.0   36500000.0  \n",
       "Jan 1, 2019       825000.0   1112500.0    1400000.0  \n",
       "Jan 12, 2019      100000.0    100000.0     100000.0  \n",
       "Jan 31, 2019      587500.0    825000.0    1200000.0  \n",
       "Jun 30, 2019     1300000.0   3900000.0   57000000.0  \n",
       "Jun 30, 2020     2300000.0   8000000.0   12000000.0  \n",
       "May 31, 2019     1200000.0   3200000.0    9000000.0  \n",
       "May 31, 2020     7500000.0   7500000.0    7500000.0  "
      ]
     },
     "execution_count": 22,
     "metadata": {},
     "output_type": "execute_result"
    }
   ],
   "source": [
    "data.groupby(['contract_until'])['age','value'].describe() # 계약만료별 나이와 value값"
   ]
  },
  {
   "cell_type": "markdown",
   "metadata": {},
   "source": [
    "#### 여기서는 별로 얻을게 없어보인다. 계약만료하고 value값이랑 크게 관련있는거같지 않고 나이랑도 그렇게 큰 관련성은 없어보인다. 월,일까지 표기된 것들을 연도까지만 표기 할 필요가 있어보인다."
   ]
  },
  {
   "cell_type": "code",
   "execution_count": 23,
   "metadata": {},
   "outputs": [
    {
     "name": "stdout",
     "output_type": "stream",
     "text": [
      "position : ['ST' 'GK' 'DF' 'MF']\n"
     ]
    }
   ],
   "source": [
    "# position\n",
    "print('position :',data.position.unique()) #포지션의 uniue"
   ]
  },
  {
   "cell_type": "code",
   "execution_count": 24,
   "metadata": {},
   "outputs": [
    {
     "data": {
      "text/plain": [
       "MF    3428\n",
       "DF    2791\n",
       "ST    1705\n",
       "GK    1008\n",
       "Name: position, dtype: int64"
      ]
     },
     "execution_count": 24,
     "metadata": {},
     "output_type": "execute_result"
    }
   ],
   "source": [
    "data.position.value_counts() # 포지션별 갯수"
   ]
  },
  {
   "cell_type": "code",
   "execution_count": 25,
   "metadata": {},
   "outputs": [
    {
     "data": {
      "text/plain": [
       "position  prefer_foot\n",
       "DF        right          0.674310\n",
       "          left           0.325690\n",
       "GK        right          0.902778\n",
       "          left           0.097222\n",
       "MF        right          0.776838\n",
       "          left           0.223162\n",
       "ST        right          0.810557\n",
       "          left           0.189443\n",
       "Name: prefer_foot, dtype: float64"
      ]
     },
     "execution_count": 25,
     "metadata": {},
     "output_type": "execute_result"
    }
   ],
   "source": [
    "data.groupby(['position'])['prefer_foot'].value_counts(normalize=True) # position별 오른발,왼발 비율"
   ]
  },
  {
   "cell_type": "code",
   "execution_count": 26,
   "metadata": {},
   "outputs": [
    {
     "data": {
      "text/plain": [
       "Text(0.5, 1.0, 'Position\\n(countplot)')"
      ]
     },
     "execution_count": 26,
     "metadata": {},
     "output_type": "execute_result"
    },
    {
     "data": {
      "image/png": "[encoded data removed]",
      "text/plain": [
       "<Figure size 720x360 with 2 Axes>"
      ]
     },
     "metadata": {
      "needs_background": "light"
     },
     "output_type": "display_data"
    }
   ],
   "source": [
    "f,ax=plt.subplots(1,2,figsize=(10,5))\n",
    "sns.countplot(data.position,hue=data.prefer_foot,ax=ax[1]).set_title('Position&prefer_foot\\n(countplot)')\n",
    "sns.countplot(data.position,ax=ax[0]).set_title('Position\\n(countplot)') \n",
    "# 포지션별 오른발,왼발 갯수 및 비율 plot"
   ]
  },
  {
   "cell_type": "markdown",
   "metadata": {},
   "source": [
    "#### 오른발,왼발 비율중에서 GK는 오른발 비율이 90%이상이고 DF는 다른 포지션의 비해 왼발 비율이 높다."
   ]
  },
  {
   "cell_type": "code",
   "execution_count": 27,
   "metadata": {},
   "outputs": [
    {
     "data": {
      "text/plain": [
       "position\n",
       "DF    2.304348e+06\n",
       "GK    1.992073e+06\n",
       "MF    3.121762e+06\n",
       "ST    3.330361e+06\n",
       "Name: value, dtype: float64"
      ]
     },
     "execution_count": 27,
     "metadata": {},
     "output_type": "execute_result"
    }
   ],
   "source": [
    "data.groupby(['position'])['value'].mean() # 포지션별 value값"
   ]
  },
  {
   "cell_type": "code",
   "execution_count": 28,
   "metadata": {},
   "outputs": [
    {
     "data": {
      "text/plain": [
       "Text(0.5, 1.0, 'Position vs Value\\n(barplot)')"
      ]
     },
     "execution_count": 28,
     "metadata": {},
     "output_type": "execute_result"
    },
    {
     "data": {
      "image/png": "[encoded data removed]",
      "text/plain": [
       "<Figure size 432x288 with 1 Axes>"
      ]
     },
     "metadata": {
      "needs_background": "light"
     },
     "output_type": "display_data"
    }
   ],
   "source": [
    "sns.barplot(data.position,data.value).set_title('Position vs Value\\n(barplot)') # 포지션별 value값 barplot"
   ]
  },
  {
   "cell_type": "markdown",
   "metadata": {},
   "source": [
    "#### 개인의 역량에 따라 다르겠지만 포지션별로 ST가 value값이 가장 높고 MF,DF,GK순으로 높다. 골을 많이 넣는 포지션이 value값이 높다"
   ]
  },
  {
   "cell_type": "code",
   "execution_count": 29,
   "metadata": {},
   "outputs": [
    {
     "data": {
      "text/html": [
       "<div>\n",
       "<style scoped>\n",
       "    .dataframe tbody tr th:only-of-type {\n",
       "        vertical-align: middle;\n",
       "    }\n",
       "\n",
       "    .dataframe tbody tr th {\n",
       "        vertical-align: top;\n",
       "    }\n",
       "\n",
       "    .dataframe thead th {\n",
       "        text-align: right;\n",
       "    }\n",
       "</style>\n",
       "<table border=\"1\" class=\"dataframe\">\n",
       "  <thead>\n",
       "    <tr style=\"text-align: right;\">\n",
       "      <th></th>\n",
       "      <th>count</th>\n",
       "      <th>mean</th>\n",
       "      <th>std</th>\n",
       "      <th>min</th>\n",
       "      <th>25%</th>\n",
       "      <th>50%</th>\n",
       "      <th>75%</th>\n",
       "      <th>max</th>\n",
       "    </tr>\n",
       "    <tr>\n",
       "      <th>position</th>\n",
       "      <th></th>\n",
       "      <th></th>\n",
       "      <th></th>\n",
       "      <th></th>\n",
       "      <th></th>\n",
       "      <th></th>\n",
       "      <th></th>\n",
       "      <th></th>\n",
       "    </tr>\n",
       "  </thead>\n",
       "  <tbody>\n",
       "    <tr>\n",
       "      <td>DF</td>\n",
       "      <td>2791.0</td>\n",
       "      <td>25.618058</td>\n",
       "      <td>4.461819</td>\n",
       "      <td>16.0</td>\n",
       "      <td>22.0</td>\n",
       "      <td>25.0</td>\n",
       "      <td>29.0</td>\n",
       "      <td>39.0</td>\n",
       "    </tr>\n",
       "    <tr>\n",
       "      <td>GK</td>\n",
       "      <td>1008.0</td>\n",
       "      <td>25.791667</td>\n",
       "      <td>5.543208</td>\n",
       "      <td>16.0</td>\n",
       "      <td>21.0</td>\n",
       "      <td>25.0</td>\n",
       "      <td>30.0</td>\n",
       "      <td>40.0</td>\n",
       "    </tr>\n",
       "    <tr>\n",
       "      <td>MF</td>\n",
       "      <td>3428.0</td>\n",
       "      <td>24.938156</td>\n",
       "      <td>4.471708</td>\n",
       "      <td>16.0</td>\n",
       "      <td>21.0</td>\n",
       "      <td>25.0</td>\n",
       "      <td>28.0</td>\n",
       "      <td>39.0</td>\n",
       "    </tr>\n",
       "    <tr>\n",
       "      <td>ST</td>\n",
       "      <td>1705.0</td>\n",
       "      <td>24.740176</td>\n",
       "      <td>4.561905</td>\n",
       "      <td>16.0</td>\n",
       "      <td>21.0</td>\n",
       "      <td>24.0</td>\n",
       "      <td>28.0</td>\n",
       "      <td>39.0</td>\n",
       "    </tr>\n",
       "  </tbody>\n",
       "</table>\n",
       "</div>"
      ],
      "text/plain": [
       "           count       mean       std   min   25%   50%   75%   max\n",
       "position                                                           \n",
       "DF        2791.0  25.618058  4.461819  16.0  22.0  25.0  29.0  39.0\n",
       "GK        1008.0  25.791667  5.543208  16.0  21.0  25.0  30.0  40.0\n",
       "MF        3428.0  24.938156  4.471708  16.0  21.0  25.0  28.0  39.0\n",
       "ST        1705.0  24.740176  4.561905  16.0  21.0  24.0  28.0  39.0"
      ]
     },
     "execution_count": 29,
     "metadata": {},
     "output_type": "execute_result"
    }
   ],
   "source": [
    "data.groupby(['position'])['age'].describe() # 포지션별 나이"
   ]
  },
  {
   "cell_type": "code",
   "execution_count": 30,
   "metadata": {},
   "outputs": [
    {
     "data": {
      "text/plain": [
       "position\n",
       "DF    1.117879\n",
       "GK    1.111111\n",
       "MF    1.135648\n",
       "ST    1.154252\n",
       "Name: reputation, dtype: float64"
      ]
     },
     "execution_count": 30,
     "metadata": {},
     "output_type": "execute_result"
    }
   ],
   "source": [
    "data.groupby(['position'])['reputation'].mean() # 포지션별 유명한 정도"
   ]
  },
  {
   "cell_type": "code",
   "execution_count": 31,
   "metadata": {},
   "outputs": [
    {
     "data": {
      "text/plain": [
       "position\n",
       "DF    67.304192\n",
       "GK    65.188492\n",
       "MF    67.373104\n",
       "ST    67.300293\n",
       "Name: stat_overall, dtype: float64"
      ]
     },
     "execution_count": 31,
     "metadata": {},
     "output_type": "execute_result"
    }
   ],
   "source": [
    "data.groupby(['position'])['stat_overall'].mean() # 포지션별 현재 능력치"
   ]
  },
  {
   "cell_type": "markdown",
   "metadata": {},
   "source": [
    "#### 포지션하고 나이는 상관없어보이고 유명한 정도,현재 능력치 또한 상관없어보인다. 개인의 영향을 많이 받는것들이라서 상관없어보인다."
   ]
  },
  {
   "cell_type": "code",
   "execution_count": 32,
   "metadata": {},
   "outputs": [
    {
     "name": "stdout",
     "output_type": "stream",
     "text": [
      "prefer_foot : ['left' 'right']\n"
     ]
    }
   ],
   "source": [
    "# prefer_foot\n",
    "print('prefer_foot :',data.prefer_foot.unique()) # 선호하는 발 unique"
   ]
  },
  {
   "cell_type": "code",
   "execution_count": 33,
   "metadata": {},
   "outputs": [
    {
     "data": {
      "text/plain": [
       "right    6837\n",
       "left     2095\n",
       "Name: prefer_foot, dtype: int64"
      ]
     },
     "execution_count": 33,
     "metadata": {},
     "output_type": "execute_result"
    }
   ],
   "source": [
    "data.prefer_foot.value_counts() # 선호하는 발의 갯수"
   ]
  },
  {
   "cell_type": "code",
   "execution_count": 34,
   "metadata": {},
   "outputs": [
    {
     "data": {
      "text/plain": [
       "prefer_foot\n",
       "left     2.865232e+06\n",
       "right    2.752150e+06\n",
       "Name: value, dtype: float64"
      ]
     },
     "execution_count": 34,
     "metadata": {},
     "output_type": "execute_result"
    }
   ],
   "source": [
    "data.groupby(['prefer_foot'])['value'].mean() # 선호하는 발의 value값"
   ]
  },
  {
   "cell_type": "code",
   "execution_count": 35,
   "metadata": {},
   "outputs": [
    {
     "data": {
      "text/plain": [
       "Text(0.5, 1.0, 'Prefer_foot vs Value\\n(barplot)')"
      ]
     },
     "execution_count": 35,
     "metadata": {},
     "output_type": "execute_result"
    },
    {
     "data": {
      "image/png": "[encoded data removed]",
      "text/plain": [
       "<Figure size 432x288 with 1 Axes>"
      ]
     },
     "metadata": {
      "needs_background": "light"
     },
     "output_type": "display_data"
    }
   ],
   "source": [
    "sns.barplot(data.prefer_foot,data.value).set_title('Prefer_foot vs Value\\n(barplot)') # 선호하는 발 value값 barplot"
   ]
  },
  {
   "cell_type": "code",
   "execution_count": 36,
   "metadata": {},
   "outputs": [
    {
     "data": {
      "text/html": [
       "<div>\n",
       "<style scoped>\n",
       "    .dataframe tbody tr th:only-of-type {\n",
       "        vertical-align: middle;\n",
       "    }\n",
       "\n",
       "    .dataframe tbody tr th {\n",
       "        vertical-align: top;\n",
       "    }\n",
       "\n",
       "    .dataframe thead th {\n",
       "        text-align: right;\n",
       "    }\n",
       "</style>\n",
       "<table border=\"1\" class=\"dataframe\">\n",
       "  <thead>\n",
       "    <tr style=\"text-align: right;\">\n",
       "      <th></th>\n",
       "      <th>count</th>\n",
       "      <th>mean</th>\n",
       "      <th>std</th>\n",
       "      <th>min</th>\n",
       "      <th>25%</th>\n",
       "      <th>50%</th>\n",
       "      <th>75%</th>\n",
       "      <th>max</th>\n",
       "    </tr>\n",
       "    <tr>\n",
       "      <th>prefer_foot</th>\n",
       "      <th></th>\n",
       "      <th></th>\n",
       "      <th></th>\n",
       "      <th></th>\n",
       "      <th></th>\n",
       "      <th></th>\n",
       "      <th></th>\n",
       "      <th></th>\n",
       "    </tr>\n",
       "  </thead>\n",
       "  <tbody>\n",
       "    <tr>\n",
       "      <td>left</td>\n",
       "      <td>2095.0</td>\n",
       "      <td>2.865232e+06</td>\n",
       "      <td>6.120526e+06</td>\n",
       "      <td>20000.0</td>\n",
       "      <td>450000.0</td>\n",
       "      <td>875000.0</td>\n",
       "      <td>2750000.0</td>\n",
       "      <td>110500000.0</td>\n",
       "    </tr>\n",
       "    <tr>\n",
       "      <td>right</td>\n",
       "      <td>6837.0</td>\n",
       "      <td>2.752150e+06</td>\n",
       "      <td>5.752807e+06</td>\n",
       "      <td>10000.0</td>\n",
       "      <td>375000.0</td>\n",
       "      <td>800000.0</td>\n",
       "      <td>2600000.0</td>\n",
       "      <td>80000000.0</td>\n",
       "    </tr>\n",
       "  </tbody>\n",
       "</table>\n",
       "</div>"
      ],
      "text/plain": [
       "              count          mean           std      min       25%       50%  \\\n",
       "prefer_foot                                                                    \n",
       "left         2095.0  2.865232e+06  6.120526e+06  20000.0  450000.0  875000.0   \n",
       "right        6837.0  2.752150e+06  5.752807e+06  10000.0  375000.0  800000.0   \n",
       "\n",
       "                   75%          max  \n",
       "prefer_foot                          \n",
       "left         2750000.0  110500000.0  \n",
       "right        2600000.0   80000000.0  "
      ]
     },
     "execution_count": 36,
     "metadata": {},
     "output_type": "execute_result"
    }
   ],
   "source": [
    "data.groupby(['prefer_foot'])['value'].describe() # 선호하는 발 value의 describe"
   ]
  },
  {
   "cell_type": "markdown",
   "metadata": {},
   "source": [
    "#### 오른발을 선호하는 선수들이 많지만 value값은 왼발이 더 높다. 최소,최대,중앙값 모두 왼발이 높다. "
   ]
  },
  {
   "cell_type": "code",
   "execution_count": 37,
   "metadata": {},
   "outputs": [
    {
     "data": {
      "text/plain": [
       "continent      prefer_foot\n",
       "africa         right          0.801664\n",
       "               left           0.198336\n",
       "asia           right          0.770013\n",
       "               left           0.229987\n",
       "europe         right          0.761932\n",
       "               left           0.238068\n",
       "oceania        right          0.788571\n",
       "               left           0.211429\n",
       "south america  right          0.757654\n",
       "               left           0.242346\n",
       "Name: prefer_foot, dtype: float64"
      ]
     },
     "execution_count": 37,
     "metadata": {},
     "output_type": "execute_result"
    }
   ],
   "source": [
    "data.groupby(['continent'])['prefer_foot'].value_counts(normalize=True) # 대륙별 선호하는 발 비율"
   ]
  },
  {
   "cell_type": "code",
   "execution_count": 38,
   "metadata": {},
   "outputs": [
    {
     "data": {
      "text/plain": [
       "prefer_foot\n",
       "left     1.127924\n",
       "right    1.131783\n",
       "Name: reputation, dtype: float64"
      ]
     },
     "execution_count": 38,
     "metadata": {},
     "output_type": "execute_result"
    }
   ],
   "source": [
    "data.groupby(['prefer_foot'])['reputation'].mean() # 선호하는 발별 유명한 정도"
   ]
  },
  {
   "cell_type": "code",
   "execution_count": 39,
   "metadata": {},
   "outputs": [
    {
     "data": {
      "text/plain": [
       "prefer_foot\n",
       "left     2.554654\n",
       "right    2.354834\n",
       "Name: stat_skill_moves, dtype: float64"
      ]
     },
     "execution_count": 39,
     "metadata": {},
     "output_type": "execute_result"
    }
   ],
   "source": [
    "data.groupby(['prefer_foot'])['stat_skill_moves'].mean() # 선호하는 발별 개인기 능력치"
   ]
  },
  {
   "cell_type": "code",
   "execution_count": 40,
   "metadata": {},
   "outputs": [
    {
     "data": {
      "text/plain": [
       "prefer_foot\n",
       "left     72.311217\n",
       "right    71.900980\n",
       "Name: stat_potential, dtype: float64"
      ]
     },
     "execution_count": 40,
     "metadata": {},
     "output_type": "execute_result"
    }
   ],
   "source": [
    "data.groupby(['prefer_foot'])['stat_potential'].mean() # 선호하는 발별 발전가능성(?)"
   ]
  },
  {
   "cell_type": "code",
   "execution_count": 41,
   "metadata": {},
   "outputs": [
    {
     "data": {
      "text/plain": [
       "prefer_foot\n",
       "left     67.544153\n",
       "right    66.952318\n",
       "Name: stat_overall, dtype: float64"
      ]
     },
     "execution_count": 41,
     "metadata": {},
     "output_type": "execute_result"
    }
   ],
   "source": [
    "data.groupby(['prefer_foot'])['stat_overall'].mean() # 선호하는 발별 현재 능력치"
   ]
  },
  {
   "cell_type": "markdown",
   "metadata": {},
   "source": [
    "#### 오른발과 왼발 모두 유명한 정도는 차이가 거의 없지만 value값이 높은 왼발에서 현재 능력치,발전가능성,개인기 능력치가 조금씩 높았다. 왼발을 선호하는 선수가 능력치가 높고 더 높은 value값을 얻을수있다."
   ]
  },
  {
   "cell_type": "code",
   "execution_count": 42,
   "metadata": {},
   "outputs": [
    {
     "name": "stdout",
     "output_type": "stream",
     "text": [
      "reputation : [5. 4. 3. 1. 2.]\n"
     ]
    }
   ],
   "source": [
    "# reputation\n",
    "print('reputation :',data.reputation.unique()) # 유명한 정도 unique"
   ]
  },
  {
   "cell_type": "code",
   "execution_count": 43,
   "metadata": {},
   "outputs": [
    {
     "name": "stdout",
     "output_type": "stream",
     "text": [
      "1.0    8014\n",
      "2.0     706\n",
      "3.0     177\n",
      "4.0      31\n",
      "5.0       4\n",
      "Name: reputation, dtype: int64 \n",
      " 1.0    0.897223\n",
      "2.0    0.079042\n",
      "3.0    0.019816\n",
      "4.0    0.003471\n",
      "5.0    0.000448\n",
      "Name: reputation, dtype: float64\n"
     ]
    }
   ],
   "source": [
    "print(data.reputation.value_counts(),'\\n',data.reputation.value_counts(normalize=True)) # 유명한 정도 갯수와 비율"
   ]
  },
  {
   "cell_type": "code",
   "execution_count": 44,
   "metadata": {},
   "outputs": [
    {
     "data": {
      "text/html": [
       "<div>\n",
       "<style scoped>\n",
       "    .dataframe tbody tr th:only-of-type {\n",
       "        vertical-align: middle;\n",
       "    }\n",
       "\n",
       "    .dataframe tbody tr th {\n",
       "        vertical-align: top;\n",
       "    }\n",
       "\n",
       "    .dataframe thead th {\n",
       "        text-align: right;\n",
       "    }\n",
       "</style>\n",
       "<table border=\"1\" class=\"dataframe\">\n",
       "  <thead>\n",
       "    <tr style=\"text-align: right;\">\n",
       "      <th></th>\n",
       "      <th>count</th>\n",
       "      <th>mean</th>\n",
       "      <th>std</th>\n",
       "      <th>min</th>\n",
       "      <th>25%</th>\n",
       "      <th>50%</th>\n",
       "      <th>75%</th>\n",
       "      <th>max</th>\n",
       "    </tr>\n",
       "    <tr>\n",
       "      <th>reputation</th>\n",
       "      <th></th>\n",
       "      <th></th>\n",
       "      <th></th>\n",
       "      <th></th>\n",
       "      <th></th>\n",
       "      <th></th>\n",
       "      <th></th>\n",
       "      <th></th>\n",
       "    </tr>\n",
       "  </thead>\n",
       "  <tbody>\n",
       "    <tr>\n",
       "      <td>1.0</td>\n",
       "      <td>8014.0</td>\n",
       "      <td>1.690092e+06</td>\n",
       "      <td>2.656534e+06</td>\n",
       "      <td>10000.0</td>\n",
       "      <td>350000.0</td>\n",
       "      <td>725000.0</td>\n",
       "      <td>1700000.0</td>\n",
       "      <td>46500000.0</td>\n",
       "    </tr>\n",
       "    <tr>\n",
       "      <td>2.0</td>\n",
       "      <td>706.0</td>\n",
       "      <td>8.639221e+06</td>\n",
       "      <td>7.495048e+06</td>\n",
       "      <td>20000.0</td>\n",
       "      <td>3100000.0</td>\n",
       "      <td>7000000.0</td>\n",
       "      <td>12000000.0</td>\n",
       "      <td>50500000.0</td>\n",
       "    </tr>\n",
       "    <tr>\n",
       "      <td>3.0</td>\n",
       "      <td>177.0</td>\n",
       "      <td>2.201483e+07</td>\n",
       "      <td>1.670103e+07</td>\n",
       "      <td>325000.0</td>\n",
       "      <td>9000000.0</td>\n",
       "      <td>17500000.0</td>\n",
       "      <td>31500000.0</td>\n",
       "      <td>73500000.0</td>\n",
       "    </tr>\n",
       "    <tr>\n",
       "      <td>4.0</td>\n",
       "      <td>31.0</td>\n",
       "      <td>3.342903e+07</td>\n",
       "      <td>2.013230e+07</td>\n",
       "      <td>3000000.0</td>\n",
       "      <td>16500000.0</td>\n",
       "      <td>36000000.0</td>\n",
       "      <td>48750000.0</td>\n",
       "      <td>72000000.0</td>\n",
       "    </tr>\n",
       "    <tr>\n",
       "      <td>5.0</td>\n",
       "      <td>4.0</td>\n",
       "      <td>6.062500e+07</td>\n",
       "      <td>4.300654e+07</td>\n",
       "      <td>14000000.0</td>\n",
       "      <td>32000000.0</td>\n",
       "      <td>59000000.0</td>\n",
       "      <td>87625000.0</td>\n",
       "      <td>110500000.0</td>\n",
       "    </tr>\n",
       "  </tbody>\n",
       "</table>\n",
       "</div>"
      ],
      "text/plain": [
       "             count          mean           std         min         25%  \\\n",
       "reputation                                                               \n",
       "1.0         8014.0  1.690092e+06  2.656534e+06     10000.0    350000.0   \n",
       "2.0          706.0  8.639221e+06  7.495048e+06     20000.0   3100000.0   \n",
       "3.0          177.0  2.201483e+07  1.670103e+07    325000.0   9000000.0   \n",
       "4.0           31.0  3.342903e+07  2.013230e+07   3000000.0  16500000.0   \n",
       "5.0            4.0  6.062500e+07  4.300654e+07  14000000.0  32000000.0   \n",
       "\n",
       "                   50%         75%          max  \n",
       "reputation                                       \n",
       "1.0           725000.0   1700000.0   46500000.0  \n",
       "2.0          7000000.0  12000000.0   50500000.0  \n",
       "3.0         17500000.0  31500000.0   73500000.0  \n",
       "4.0         36000000.0  48750000.0   72000000.0  \n",
       "5.0         59000000.0  87625000.0  110500000.0  "
      ]
     },
     "execution_count": 44,
     "metadata": {},
     "output_type": "execute_result"
    }
   ],
   "source": [
    "data.groupby(['reputation'])['value'].describe() # 유명한정도와 value값의 비교 describe"
   ]
  },
  {
   "cell_type": "code",
   "execution_count": 45,
   "metadata": {},
   "outputs": [
    {
     "data": {
      "text/plain": [
       "Text(0.5, 1.0, 'Reputation vs Value\\n(scatterplot)')"
      ]
     },
     "execution_count": 45,
     "metadata": {},
     "output_type": "execute_result"
    },
    {
     "data": {
      "image/png": "[encoded data removed]",
      "text/plain": [
       "<Figure size 432x288 with 1 Axes>"
      ]
     },
     "metadata": {
      "needs_background": "light"
     },
     "output_type": "display_data"
    }
   ],
   "source": [
    "sns.boxplot(data.reputation,data.value).set_title('Reputation vs Value\\n(scatterplot)') # 유명한정도와 value값 boxplot"
   ]
  },
  {
   "cell_type": "markdown",
   "metadata": {},
   "source": [
    "#### 유명한 정도는 값이 높으면 높을수록 value값이 상승한다."
   ]
  },
  {
   "cell_type": "code",
   "execution_count": 46,
   "metadata": {},
   "outputs": [
    {
     "data": {
      "text/plain": [
       "age\n",
       "16    1.000000\n",
       "17    1.000000\n",
       "18    1.002907\n",
       "19    1.006110\n",
       "20    1.005155\n",
       "21    1.020710\n",
       "22    1.044304\n",
       "23    1.063348\n",
       "24    1.081042\n",
       "25    1.114679\n",
       "26    1.118644\n",
       "27    1.179002\n",
       "28    1.154135\n",
       "29    1.250000\n",
       "30    1.212185\n",
       "31    1.354467\n",
       "32    1.357895\n",
       "33    1.386139\n",
       "34    1.314815\n",
       "35    1.359551\n",
       "36    1.421875\n",
       "37    1.238095\n",
       "38    1.470588\n",
       "39    1.437500\n",
       "40    2.000000\n",
       "Name: reputation, dtype: float64"
      ]
     },
     "execution_count": 46,
     "metadata": {},
     "output_type": "execute_result"
    }
   ],
   "source": [
    "data.groupby(['age'])['reputation'].mean() # 나이에 따른 유명한정도"
   ]
  },
  {
   "cell_type": "code",
   "execution_count": 47,
   "metadata": {},
   "outputs": [
    {
     "data": {
      "text/plain": [
       "Text(0.5, 1.0, 'Reputation vs Age\\n(barplot)')"
      ]
     },
     "execution_count": 47,
     "metadata": {},
     "output_type": "execute_result"
    },
    {
     "data": {
      "image/png": "[encoded data removed]",
      "text/plain": [
       "<Figure size 432x288 with 1 Axes>"
      ]
     },
     "metadata": {
      "needs_background": "light"
     },
     "output_type": "display_data"
    }
   ],
   "source": [
    "sns.barplot(data.age,data.reputation).set_title('Reputation vs Age\\n(barplot)') # 나이에 따른 유명한정도 barplot"
   ]
  },
  {
   "cell_type": "markdown",
   "metadata": {},
   "source": [
    "#### 나이가 많으면 많을수록 유명한 정도의 값은 높아진다. 하지만 나이가 많을수록 편차가 큰 걸 봐서는 개인적인 사항인거 같다."
   ]
  },
  {
   "cell_type": "code",
   "execution_count": 48,
   "metadata": {},
   "outputs": [
    {
     "data": {
      "text/plain": [
       "array([94, 91, 90, 89, 88, 87, 86, 85, 84, 83, 82, 81, 80, 79, 78, 77, 76,\n",
       "       75, 74, 73, 72, 71, 70, 69, 68, 67, 66, 65, 64, 63, 62, 61, 60, 59,\n",
       "       58, 57, 56, 55, 54, 53, 52, 51, 50, 49, 48, 47], dtype=int64)"
      ]
     },
     "execution_count": 48,
     "metadata": {},
     "output_type": "execute_result"
    }
   ],
   "source": [
    "# stat_overall\n",
    "data.stat_overall.unique() # 현재 능력치 unique"
   ]
  },
  {
   "cell_type": "code",
   "execution_count": 49,
   "metadata": {},
   "outputs": [
    {
     "data": {
      "text/plain": [
       "Text(0.5, 1.0, 'Stat_overall vs Value\\n(scatterplot)')"
      ]
     },
     "execution_count": 49,
     "metadata": {},
     "output_type": "execute_result"
    },
    {
     "data": {
      "image/png": "[encoded data removed]",
      "text/plain": [
       "<Figure size 432x288 with 1 Axes>"
      ]
     },
     "metadata": {
      "needs_background": "light"
     },
     "output_type": "display_data"
    }
   ],
   "source": [
    "sns.scatterplot(data.stat_overall,data.value).set_title('Stat_overall vs Value\\n(scatterplot)') # 현재 능력치별 value값"
   ]
  },
  {
   "cell_type": "code",
   "execution_count": 50,
   "metadata": {},
   "outputs": [
    {
     "data": {
      "text/plain": [
       "array([94, 93, 91, 90, 92, 89, 88, 87, 86, 85, 84, 83, 82, 81, 80, 79, 78,\n",
       "       77, 76, 75, 74, 73, 72, 71, 70, 69, 68, 67, 66, 65, 64, 63, 62, 61,\n",
       "       60, 59, 58, 57, 56, 55, 54, 53, 52, 50, 48], dtype=int64)"
      ]
     },
     "execution_count": 50,
     "metadata": {},
     "output_type": "execute_result"
    }
   ],
   "source": [
    "# stat_potential\n",
    "data.stat_potential.unique() # 발전가능성 unique"
   ]
  },
  {
   "cell_type": "code",
   "execution_count": 51,
   "metadata": {},
   "outputs": [
    {
     "data": {
      "text/plain": [
       "Text(0.5, 1.0, 'Stat_potential vs Value\\n(scatterplot)')"
      ]
     },
     "execution_count": 51,
     "metadata": {},
     "output_type": "execute_result"
    },
    {
     "data": {
      "image/png": "[encoded data removed]",
      "text/plain": [
       "<Figure size 432x288 with 1 Axes>"
      ]
     },
     "metadata": {
      "needs_background": "light"
     },
     "output_type": "display_data"
    }
   ],
   "source": [
    "sns.scatterplot(data.stat_potential,data.value).set_title('Stat_potential vs Value\\n(scatterplot)') # 발전가능성별 value값"
   ]
  },
  {
   "cell_type": "markdown",
   "metadata": {},
   "source": [
    "#### 현재 능력치와 발전가능성이 높으면 높을수록 value값의 상승폭이 커진다. 특히, 70이 넘어서는 순간 value값이 눈에 띄게 높아진다."
   ]
  },
  {
   "cell_type": "code",
   "execution_count": 52,
   "metadata": {},
   "outputs": [
    {
     "data": {
      "text/plain": [
       "array([4., 1., 3., 2., 5.])"
      ]
     },
     "execution_count": 52,
     "metadata": {},
     "output_type": "execute_result"
    }
   ],
   "source": [
    "# stat_skill_moves\n",
    "data.stat_skill_moves.unique() # 개인기 능력치 unique"
   ]
  },
  {
   "cell_type": "code",
   "execution_count": 53,
   "metadata": {},
   "outputs": [
    {
     "data": {
      "text/plain": [
       "Text(0.5, 1.0, 'Stat_skill_moves vs Value\\n(barplot)')"
      ]
     },
     "execution_count": 53,
     "metadata": {},
     "output_type": "execute_result"
    },
    {
     "data": {
      "image/png": "[encoded data removed]",
      "text/plain": [
       "<Figure size 432x288 with 1 Axes>"
      ]
     },
     "metadata": {
      "needs_background": "light"
     },
     "output_type": "display_data"
    }
   ],
   "source": [
    "sns.barplot(data.stat_skill_moves,data.value).set_title('Stat_skill_moves vs Value\\n(barplot)') # 개인기 능력치별 value"
   ]
  },
  {
   "cell_type": "code",
   "execution_count": 54,
   "metadata": {},
   "outputs": [
    {
     "data": {
      "text/plain": [
       "stat_skill_moves\n",
       "1.0    25.791667\n",
       "2.0    24.706530\n",
       "3.0    25.483156\n",
       "4.0    25.930097\n",
       "5.0    26.903226\n",
       "Name: age, dtype: float64"
      ]
     },
     "execution_count": 54,
     "metadata": {},
     "output_type": "execute_result"
    }
   ],
   "source": [
    "data.groupby(['stat_skill_moves'])['age'].mean() # 개인기 능력치별 나이"
   ]
  },
  {
   "cell_type": "code",
   "execution_count": 55,
   "metadata": {},
   "outputs": [
    {
     "data": {
      "text/plain": [
       "Text(0.5, 1.0, 'Stat_skill_moves vs Age\\n(violinplot)')"
      ]
     },
     "execution_count": 55,
     "metadata": {},
     "output_type": "execute_result"
    },
    {
     "data": {
      "image/png": "[encoded data removed]",
      "text/plain": [
       "<Figure size 432x288 with 1 Axes>"
      ]
     },
     "metadata": {
      "needs_background": "light"
     },
     "output_type": "display_data"
    }
   ],
   "source": [
    "sns.violinplot(data.stat_skill_moves,data.age).set_title('Stat_skill_moves vs Age\\n(violinplot)') # 개인기 능력치별 나이 violinplot"
   ]
  },
  {
   "cell_type": "markdown",
   "metadata": {},
   "source": [
    "#### 개인기 능력치가 높으면 value값이 높고 나이가 많을수록 개인기 능력치가 조금씩 높아지는걸 알 수 있다."
   ]
  },
  {
   "cell_type": "code",
   "execution_count": 56,
   "metadata": {},
   "outputs": [
    {
     "data": {
      "text/plain": [
       "Text(0.5, 1.0, 'Value(boxplot)')"
      ]
     },
     "execution_count": 56,
     "metadata": {},
     "output_type": "execute_result"
    },
    {
     "data": {
      "image/png": "[encoded data removed]",
      "text/plain": [
       "<Figure size 720x360 with 2 Axes>"
      ]
     },
     "metadata": {
      "needs_background": "light"
     },
     "output_type": "display_data"
    }
   ],
   "source": [
    "f,ax=plt.subplots(1,2,figsize=(10,5))\n",
    "sns.kdeplot(data.value,shade=True,ax=ax[0]).set_title('Value(kdeplot)') # value 값 kdeplot\n",
    "sns.violinplot(data.value,ax=ax[1]).set_title('Value(boxplot)') # value 값 boxplot"
   ]
  },
  {
   "cell_type": "code",
   "execution_count": 57,
   "metadata": {},
   "outputs": [
    {
     "data": {
      "text/plain": [
       "Text(0.5, 1.0, 'Stat_potential(kdeplot)')"
      ]
     },
     "execution_count": 57,
     "metadata": {},
     "output_type": "execute_result"
    },
    {
     "data": {
      "image/png": "[encoded data removed]",
      "text/plain": [
       "<Figure size 720x360 with 2 Axes>"
      ]
     },
     "metadata": {
      "needs_background": "light"
     },
     "output_type": "display_data"
    }
   ],
   "source": [
    "f,ax=plt.subplots(1,2,figsize=(10,5))\n",
    "sns.kdeplot(data.stat_overall,shade=True,ax=ax[0]).set_title('Stat_overall(kdeplot)')\n",
    "sns.kdeplot(data.stat_potential,shade=True,ax=ax[1]).set_title('Stat_potential(kdeplot)')"
   ]
  },
  {
   "cell_type": "markdown",
   "metadata": {},
   "source": [
    "#### value값의 정규화가 필요한거 같다."
   ]
  },
  {
   "cell_type": "markdown",
   "metadata": {},
   "source": [
    "## >> value값에 크게 영향을 미치는건 능력치,유명한정도,포지션정도 일 것 같다."
   ]
  },
  {
   "cell_type": "markdown",
   "metadata": {},
   "source": [
    "# Feature Engineering"
   ]
  },
  {
   "cell_type": "code",
   "execution_count": 58,
   "metadata": {},
   "outputs": [
    {
     "name": "stdout",
     "output_type": "stream",
     "text": [
      "age_min: 16\n",
      "age_max: 40\n",
      "max-min: 25\n"
     ]
    }
   ],
   "source": [
    "# Age 카테고리화 \n",
    "print('age_min:',data.age.min()) # 나이의 최대값\n",
    "print('age_max:',data.age.max()) # 나이의 최소값\n",
    "print('max-min:',data.age.max()-data.age.min()+1) # 나이의 최대-최소값, 5개 정도의 구간 카테고리화"
   ]
  },
  {
   "cell_type": "code",
   "execution_count": 59,
   "metadata": {},
   "outputs": [],
   "source": [
    "data.loc[data.age<=20,'age_band']=0 # data 데이터 age 카테고리화\n",
    "data.loc[(data.age>=21)&(data.age<=25),'age_band']=1\n",
    "data.loc[(data.age>=26)&(data.age<=30),'age_band']=2\n",
    "data.loc[(data.age>=31)&(data.age<=35),'age_band']=3\n",
    "data.loc[data.age>=36,'age_band']=4\n",
    "test.loc[test.age<=20,'age_band']=0 # test 데이터 age 카테고리화\n",
    "test.loc[(test.age>=21)&(test.age<=25),'age_band']=1\n",
    "test.loc[(test.age>=26)&(test.age<=30),'age_band']=2\n",
    "test.loc[(test.age>=31)&(test.age<=35),'age_band']=3\n",
    "test.loc[test.age>=36,'age_band']=4"
   ]
  },
  {
   "cell_type": "code",
   "execution_count": 60,
   "metadata": {},
   "outputs": [
    {
     "data": {
      "text/plain": [
       "array(['2021', '2020', '2019', '2023', '2022', '2024', 'Jun 30, 2019',\n",
       "       '2026', 'Dec 31, 2018', '2018', '2025', 'Jun 30, 2020',\n",
       "       'May 31, 2020', 'May 31, 2019', 'Jan 31, 2019', 'Jan 1, 2019',\n",
       "       'Jan 12, 2019'], dtype=object)"
      ]
     },
     "execution_count": 60,
     "metadata": {},
     "output_type": "execute_result"
    }
   ],
   "source": [
    "data.contract_until.unique()"
   ]
  },
  {
   "cell_type": "code",
   "execution_count": 61,
   "metadata": {},
   "outputs": [
    {
     "name": "stdout",
     "output_type": "stream",
     "text": [
      "2019\n",
      "2018\n",
      "2019\n",
      "2019\n",
      "2019\n",
      "2019\n",
      "2019\n",
      "2019\n",
      "2019\n",
      "2019\n",
      "2019\n",
      "2019\n",
      "2019\n",
      "2020\n",
      "2019\n",
      "2018\n",
      "2019\n",
      "2019\n",
      "2019\n",
      "2019\n",
      "2018\n",
      "2019\n",
      "2019\n",
      "2019\n",
      "2020\n",
      "2020\n",
      "2019\n",
      "2019\n",
      "2019\n",
      "2019\n",
      "2019\n",
      "2019\n",
      "2019\n",
      "2019\n",
      "2019\n",
      "2019\n",
      "2019\n",
      "2018\n",
      "2019\n",
      "2019\n",
      "2019\n",
      "2019\n",
      "2019\n",
      "2019\n",
      "2019\n",
      "2019\n",
      "2019\n",
      "2019\n",
      "2020\n",
      "2019\n",
      "2019\n",
      "2019\n",
      "2019\n",
      "2019\n",
      "2019\n",
      "2019\n",
      "2019\n",
      "2019\n",
      "2019\n",
      "2019\n",
      "2019\n",
      "2019\n",
      "2019\n",
      "2019\n",
      "2019\n",
      "2019\n",
      "2019\n",
      "2019\n",
      "2019\n",
      "2019\n",
      "2018\n",
      "2019\n",
      "2019\n",
      "2019\n",
      "2019\n",
      "2019\n",
      "2019\n",
      "2019\n",
      "2019\n",
      "2019\n",
      "2019\n",
      "2019\n",
      "2019\n",
      "2019\n",
      "2019\n",
      "2019\n",
      "2019\n",
      "2019\n",
      "2019\n",
      "2019\n",
      "2019\n",
      "2019\n",
      "2019\n",
      "2019\n",
      "2019\n",
      "2019\n",
      "2019\n",
      "2019\n",
      "2019\n",
      "2019\n",
      "2019\n",
      "2019\n",
      "2019\n",
      "2019\n",
      "2019\n",
      "2019\n",
      "2019\n",
      "2019\n",
      "2019\n",
      "2018\n",
      "2019\n",
      "2019\n",
      "2019\n",
      "2019\n",
      "2018\n",
      "2019\n",
      "2019\n",
      "2019\n",
      "2019\n",
      "2019\n",
      "2019\n",
      "2019\n",
      "2019\n",
      "2018\n",
      "2019\n",
      "2019\n",
      "2019\n",
      "2019\n",
      "2019\n",
      "2019\n",
      "2019\n",
      "2019\n",
      "2019\n",
      "2019\n",
      "2019\n",
      "2019\n",
      "2019\n",
      "2018\n",
      "2019\n",
      "2019\n",
      "2019\n",
      "2019\n",
      "2019\n",
      "2019\n",
      "2018\n",
      "2019\n",
      "2019\n",
      "2019\n",
      "2018\n",
      "2018\n",
      "2018\n",
      "2019\n",
      "2019\n",
      "2019\n",
      "2019\n",
      "2019\n",
      "2019\n",
      "2020\n",
      "2018\n",
      "2019\n",
      "2019\n",
      "2019\n",
      "2018\n",
      "2019\n",
      "2019\n",
      "2019\n",
      "2019\n",
      "2019\n",
      "2019\n",
      "2018\n",
      "2019\n",
      "2019\n",
      "2019\n",
      "2019\n",
      "2019\n",
      "2019\n",
      "2019\n",
      "2019\n",
      "2019\n",
      "2018\n",
      "2019\n",
      "2019\n",
      "2019\n",
      "2019\n",
      "2019\n",
      "2019\n",
      "2019\n",
      "2019\n",
      "2019\n",
      "2019\n",
      "2019\n",
      "2019\n",
      "2018\n",
      "2019\n",
      "2019\n",
      "2019\n",
      "2019\n",
      "2019\n",
      "2019\n",
      "2019\n",
      "2019\n",
      "2019\n",
      "2019\n",
      "2019\n",
      "2019\n",
      "2019\n",
      "2019\n",
      "2019\n",
      "2019\n",
      "2019\n",
      "2019\n",
      "2019\n",
      "2019\n",
      "2019\n",
      "2019\n",
      "2019\n",
      "2019\n",
      "2019\n",
      "2019\n",
      "2019\n",
      "2019\n",
      "2019\n",
      "2019\n",
      "2019\n",
      "2019\n",
      "2019\n",
      "2019\n",
      "2019\n",
      "2019\n",
      "2019\n",
      "2018\n",
      "2019\n",
      "2019\n",
      "2019\n",
      "2019\n",
      "2019\n",
      "2019\n",
      "2019\n",
      "2019\n",
      "2019\n",
      "2019\n",
      "2019\n",
      "2019\n",
      "2019\n",
      "2019\n",
      "2019\n",
      "2019\n",
      "2019\n",
      "2019\n",
      "2019\n",
      "2018\n",
      "2019\n",
      "2019\n",
      "2019\n",
      "2019\n",
      "2019\n",
      "2019\n",
      "2019\n",
      "2020\n",
      "2019\n",
      "2019\n",
      "2019\n",
      "2019\n",
      "2019\n",
      "2019\n",
      "2019\n",
      "2019\n",
      "2019\n",
      "2018\n",
      "2019\n",
      "2019\n",
      "2019\n",
      "2019\n",
      "2019\n",
      "2019\n",
      "2019\n",
      "2019\n",
      "2019\n",
      "2019\n",
      "2019\n",
      "2019\n",
      "2019\n",
      "2019\n",
      "2019\n",
      "2019\n",
      "2019\n",
      "2019\n",
      "2019\n",
      "2019\n",
      "2019\n",
      "2019\n",
      "2019\n",
      "2018\n",
      "2019\n",
      "2019\n",
      "2018\n",
      "2019\n",
      "2018\n",
      "2019\n",
      "2018\n",
      "2018\n",
      "2019\n",
      "2019\n",
      "2019\n",
      "2018\n",
      "2019\n",
      "2018\n",
      "2019\n",
      "2018\n",
      "2019\n",
      "2019\n",
      "2019\n",
      "2019\n",
      "2018\n",
      "2019\n",
      "2019\n",
      "2019\n",
      "2019\n",
      "2019\n",
      "2018\n",
      "2019\n",
      "2019\n",
      "2019\n",
      "2019\n",
      "2019\n",
      "2019\n",
      "2019\n",
      "2019\n",
      "2019\n",
      "2019\n",
      "2019\n",
      "2019\n",
      "2019\n",
      "2019\n",
      "2019\n",
      "2019\n",
      "2019\n",
      "2019\n",
      "2019\n",
      "2019\n",
      "2019\n",
      "2019\n",
      "2018\n",
      "2019\n",
      "2018\n",
      "2019\n",
      "2019\n",
      "2018\n",
      "2019\n",
      "2019\n",
      "2018\n",
      "2019\n",
      "2019\n",
      "2019\n",
      "2019\n",
      "2018\n",
      "2019\n",
      "2019\n",
      "2018\n",
      "2019\n",
      "2019\n",
      "2018\n",
      "2019\n",
      "2019\n",
      "2019\n",
      "2018\n",
      "2018\n",
      "2019\n",
      "2019\n",
      "2019\n",
      "2019\n",
      "2019\n",
      "2019\n",
      "2019\n",
      "2019\n",
      "2019\n",
      "2019\n",
      "2019\n",
      "2019\n",
      "2019\n",
      "2019\n",
      "2020\n",
      "2018\n",
      "2019\n",
      "2019\n",
      "2019\n",
      "2019\n",
      "2019\n",
      "2019\n",
      "2019\n",
      "2019\n",
      "2018\n",
      "2019\n",
      "2018\n",
      "2019\n",
      "2019\n",
      "2019\n",
      "2019\n",
      "2019\n",
      "2019\n",
      "2019\n",
      "2019\n",
      "2019\n",
      "2019\n",
      "2019\n",
      "2019\n",
      "2019\n",
      "2018\n",
      "2019\n",
      "2019\n",
      "2019\n",
      "2019\n",
      "2019\n",
      "2018\n",
      "2019\n",
      "2019\n",
      "2019\n",
      "2019\n",
      "2019\n",
      "2019\n",
      "2019\n",
      "2018\n",
      "2019\n",
      "2019\n",
      "2019\n",
      "2019\n",
      "2019\n",
      "2018\n",
      "2019\n",
      "2019\n",
      "2019\n",
      "2018\n",
      "2019\n",
      "2019\n",
      "2019\n",
      "2019\n",
      "2019\n",
      "2019\n",
      "2018\n",
      "2019\n",
      "2019\n",
      "2019\n",
      "2019\n",
      "2019\n",
      "2019\n",
      "2019\n",
      "2019\n",
      "2019\n",
      "2019\n",
      "2019\n",
      "2019\n",
      "2019\n",
      "2018\n",
      "2019\n",
      "2018\n",
      "2019\n",
      "2019\n",
      "2019\n",
      "2019\n",
      "2019\n",
      "2019\n",
      "2019\n",
      "2019\n",
      "2019\n",
      "2019\n",
      "2019\n",
      "2019\n",
      "2019\n",
      "2019\n",
      "2019\n",
      "2019\n",
      "2018\n",
      "2019\n",
      "2020\n",
      "2019\n",
      "2019\n",
      "2019\n",
      "2019\n",
      "2019\n",
      "2019\n",
      "2019\n",
      "2019\n",
      "2019\n",
      "2019\n",
      "2019\n",
      "2019\n",
      "2019\n",
      "2019\n",
      "2019\n",
      "2019\n",
      "2019\n",
      "2019\n",
      "2019\n",
      "2019\n",
      "2019\n",
      "2018\n",
      "2019\n",
      "2019\n",
      "2018\n",
      "2019\n",
      "2019\n",
      "2019\n",
      "2019\n",
      "2019\n",
      "2019\n",
      "2019\n",
      "2019\n",
      "2019\n",
      "2020\n",
      "2019\n",
      "2019\n",
      "2018\n",
      "2019\n",
      "2019\n",
      "2019\n",
      "2019\n",
      "2019\n",
      "2019\n",
      "2019\n",
      "2019\n",
      "2019\n",
      "2019\n",
      "2018\n",
      "2019\n",
      "2019\n",
      "2019\n",
      "2019\n",
      "2019\n",
      "2019\n",
      "2019\n",
      "2019\n",
      "2019\n",
      "2019\n",
      "2018\n",
      "2018\n",
      "2019\n",
      "2019\n",
      "2019\n",
      "2019\n",
      "2019\n",
      "2019\n",
      "2019\n",
      "2019\n",
      "2019\n",
      "2019\n",
      "2019\n",
      "2019\n",
      "2019\n",
      "2019\n",
      "2018\n",
      "2019\n",
      "2019\n",
      "2019\n",
      "2019\n",
      "2018\n",
      "2019\n",
      "2019\n",
      "2019\n",
      "2019\n",
      "2018\n",
      "2019\n",
      "2019\n",
      "2019\n",
      "2020\n",
      "2019\n",
      "2019\n",
      "2018\n",
      "2019\n",
      "2019\n",
      "2019\n",
      "2019\n",
      "2019\n",
      "2019\n",
      "2019\n",
      "2019\n",
      "2019\n",
      "2019\n",
      "2019\n",
      "2019\n",
      "2019\n",
      "2019\n",
      "2019\n",
      "2019\n",
      "2019\n",
      "2019\n",
      "2018\n",
      "2019\n",
      "2019\n",
      "2019\n",
      "2019\n",
      "2019\n",
      "2019\n",
      "2019\n",
      "2019\n",
      "2019\n",
      "2019\n",
      "2018\n",
      "2019\n",
      "2019\n",
      "2019\n",
      "2019\n",
      "2019\n",
      "2019\n",
      "2019\n",
      "2019\n",
      "2019\n",
      "2019\n"
     ]
    }
   ],
   "source": [
    "# data의 contract_until의 월,일을 제거\n",
    "contract_until_cut=[]\n",
    "for i in data.contract_until:  # jun 30,2019이런 식으로 구분이 되어 있어서 ','로 잘라준후 2019만 가져옴\n",
    "    if len(i)>4:\n",
    "        print(i.split(',')[1].strip())\n",
    "        contract_until_cut.append(int(i.split(',')[1].strip()))\n",
    "    else:\n",
    "        contract_until_cut.append(int(i))\n",
    "data['contract_until_cut']=contract_until_cut"
   ]
  },
  {
   "cell_type": "code",
   "execution_count": 62,
   "metadata": {},
   "outputs": [
    {
     "name": "stdout",
     "output_type": "stream",
     "text": [
      "2019\n",
      "2019\n",
      "2019\n",
      "2019\n",
      "2019\n",
      "2019\n",
      "2020\n",
      "2019\n",
      "2020\n",
      "2019\n",
      "2019\n",
      "2019\n",
      "2019\n",
      "2019\n",
      "2019\n",
      "2019\n",
      "2020\n",
      "2019\n",
      "2019\n",
      "2019\n",
      "2019\n",
      "2019\n",
      "2019\n",
      "2019\n",
      "2019\n",
      "2019\n",
      "2019\n",
      "2019\n",
      "2019\n",
      "2019\n",
      "2019\n",
      "2018\n",
      "2018\n",
      "2018\n",
      "2019\n",
      "2019\n",
      "2018\n",
      "2019\n",
      "2019\n",
      "2019\n",
      "2019\n",
      "2019\n",
      "2019\n",
      "2019\n",
      "2019\n",
      "2019\n",
      "2019\n",
      "2018\n",
      "2018\n",
      "2019\n",
      "2019\n",
      "2019\n",
      "2019\n",
      "2019\n",
      "2019\n",
      "2019\n",
      "2019\n",
      "2019\n",
      "2018\n",
      "2019\n",
      "2019\n",
      "2019\n",
      "2019\n",
      "2019\n",
      "2019\n",
      "2019\n",
      "2019\n",
      "2019\n",
      "2019\n",
      "2019\n",
      "2019\n",
      "2019\n",
      "2019\n",
      "2019\n",
      "2019\n",
      "2019\n",
      "2019\n",
      "2019\n",
      "2019\n",
      "2019\n",
      "2019\n",
      "2019\n",
      "2019\n",
      "2018\n",
      "2019\n",
      "2019\n",
      "2019\n",
      "2018\n",
      "2019\n",
      "2019\n",
      "2019\n",
      "2019\n",
      "2019\n",
      "2019\n",
      "2018\n",
      "2019\n",
      "2019\n",
      "2019\n",
      "2019\n",
      "2019\n",
      "2019\n",
      "2018\n",
      "2019\n",
      "2019\n",
      "2019\n",
      "2019\n",
      "2019\n",
      "2019\n",
      "2019\n",
      "2019\n",
      "2019\n",
      "2019\n",
      "2019\n",
      "2019\n",
      "2019\n",
      "2019\n",
      "2018\n",
      "2019\n",
      "2019\n",
      "2019\n",
      "2019\n",
      "2019\n",
      "2019\n",
      "2018\n",
      "2019\n",
      "2018\n",
      "2019\n",
      "2019\n",
      "2019\n",
      "2018\n",
      "2019\n",
      "2019\n",
      "2019\n",
      "2019\n",
      "2019\n",
      "2019\n",
      "2018\n",
      "2019\n",
      "2019\n",
      "2019\n",
      "2019\n",
      "2019\n",
      "2019\n",
      "2019\n",
      "2019\n",
      "2019\n",
      "2019\n",
      "2019\n",
      "2018\n",
      "2019\n",
      "2019\n",
      "2019\n",
      "2019\n",
      "2019\n",
      "2018\n",
      "2019\n",
      "2019\n",
      "2018\n",
      "2019\n",
      "2019\n",
      "2019\n",
      "2019\n",
      "2019\n",
      "2019\n",
      "2019\n",
      "2019\n",
      "2018\n",
      "2019\n",
      "2019\n",
      "2019\n",
      "2019\n",
      "2019\n",
      "2019\n",
      "2019\n",
      "2018\n",
      "2019\n",
      "2019\n",
      "2019\n",
      "2019\n",
      "2018\n",
      "2019\n",
      "2019\n",
      "2019\n",
      "2019\n",
      "2019\n",
      "2019\n",
      "2019\n",
      "2019\n",
      "2019\n",
      "2019\n",
      "2019\n",
      "2019\n",
      "2018\n",
      "2018\n",
      "2019\n",
      "2019\n",
      "2019\n",
      "2018\n",
      "2019\n",
      "2019\n",
      "2020\n",
      "2019\n",
      "2019\n",
      "2019\n",
      "2019\n",
      "2019\n",
      "2019\n",
      "2019\n",
      "2019\n",
      "2019\n",
      "2019\n",
      "2019\n",
      "2019\n",
      "2018\n",
      "2019\n",
      "2019\n",
      "2019\n",
      "2019\n",
      "2018\n",
      "2019\n",
      "2019\n",
      "2019\n",
      "2019\n",
      "2019\n",
      "2019\n",
      "2019\n",
      "2019\n",
      "2019\n",
      "2019\n",
      "2019\n",
      "2018\n",
      "2019\n",
      "2019\n",
      "2019\n",
      "2019\n",
      "2020\n",
      "2019\n",
      "2018\n",
      "2019\n",
      "2018\n",
      "2018\n",
      "2019\n",
      "2019\n",
      "2019\n",
      "2019\n",
      "2019\n",
      "2019\n",
      "2018\n",
      "2019\n",
      "2019\n",
      "2019\n",
      "2019\n",
      "2019\n",
      "2019\n",
      "2019\n",
      "2019\n",
      "2019\n",
      "2019\n",
      "2019\n",
      "2018\n",
      "2019\n",
      "2019\n",
      "2019\n",
      "2019\n",
      "2019\n",
      "2019\n",
      "2018\n"
     ]
    }
   ],
   "source": [
    "# test contract_until의 월,일을 제거\n",
    "contract_until_cut=[]\n",
    "for i in test.contract_until:  # jun 30,2019이런 식으로 구분이 되어 있어서 ','로 잘라준후 2019만 가져옴\n",
    "    if len(i)>4:\n",
    "        print(i.split(',')[1].strip())\n",
    "        contract_until_cut.append(int(i.split(',')[1].strip()))\n",
    "    else:\n",
    "        contract_until_cut.append(int(i))\n",
    "test['contract_until_cut']=contract_until_cut"
   ]
  },
  {
   "cell_type": "code",
   "execution_count": 63,
   "metadata": {},
   "outputs": [],
   "source": [
    "# potential-overall 앞으로 성장 할 수치\n",
    "data['growth']=data.stat_potential-data.stat_overall\n",
    "test['growth']=test.stat_potential-test.stat_overall"
   ]
  },
  {
   "cell_type": "code",
   "execution_count": 64,
   "metadata": {},
   "outputs": [],
   "source": [
    "# age 1당 능력치\n",
    "data['age_per']=data.stat_overall/data.age\n",
    "test['age_per']=test.stat_overall/test.age"
   ]
  },
  {
   "cell_type": "code",
   "execution_count": 65,
   "metadata": {},
   "outputs": [
    {
     "data": {
      "text/plain": [
       "Text(0.5, 1.0, 'value kdeplot(log)')"
      ]
     },
     "execution_count": 65,
     "metadata": {},
     "output_type": "execute_result"
    },
    {
     "data": {
      "image/png": "[encoded data removed]",
      "text/plain": [
       "<Figure size 432x288 with 1 Axes>"
      ]
     },
     "metadata": {
      "needs_background": "light"
     },
     "output_type": "display_data"
    }
   ],
   "source": [
    "# value값 정규화\n",
    "data.value=np.log1p(data.value)\n",
    "sns.kdeplot(data.value).set_title('value kdeplot(log)')"
   ]
  },
  {
   "cell_type": "code",
   "execution_count": 66,
   "metadata": {},
   "outputs": [
    {
     "data": {
      "text/plain": [
       "<matplotlib.axes._subplots.AxesSubplot at 0x26966c9a788>"
      ]
     },
     "execution_count": 66,
     "metadata": {},
     "output_type": "execute_result"
    },
    {
     "data": {
      "image/png": "[encoded data removed]",
      "text/plain": [
       "<Figure size 432x288 with 1 Axes>"
      ]
     },
     "metadata": {
      "needs_background": "light"
     },
     "output_type": "display_data"
    }
   ],
   "source": [
    "sns.boxplot(data.value)"
   ]
  },
  {
   "cell_type": "code",
   "execution_count": 67,
   "metadata": {},
   "outputs": [],
   "source": [
    "#라벨링\n",
    "data['continent'].replace(['south america','europe','africa','asia','oceania'],[0,1,2,3,4],inplace=True) # data 라벨링\n",
    "data['position'].replace(['ST','MF','DF','GK'],[0,1,2,3],inplace=True)\n",
    "data['prefer_foot'].replace(['right','left'],[0,1],inplace=True)\n",
    "\n",
    "test['continent'].replace(['south america','europe','africa','asia','oceania'],[0,1,2,3,4],inplace=True) # test 라벨링\n",
    "test['position'].replace(['ST','MF','DF','GK'],[0,1,2,3],inplace=True)\n",
    "test['prefer_foot'].replace(['right','left'],[0,1],inplace=True)"
   ]
  },
  {
   "cell_type": "code",
   "execution_count": 68,
   "metadata": {},
   "outputs": [],
   "source": [
    "# 필요없는 변수 제거\n",
    "del data['name']\n",
    "del data['age']\n",
    "del data['contract_until']\n",
    "del test['name']\n",
    "del test['age']\n",
    "del test['contract_until']"
   ]
  },
  {
   "cell_type": "code",
   "execution_count": 69,
   "metadata": {},
   "outputs": [
    {
     "data": {
      "text/html": [
       "<div>\n",
       "<style scoped>\n",
       "    .dataframe tbody tr th:only-of-type {\n",
       "        vertical-align: middle;\n",
       "    }\n",
       "\n",
       "    .dataframe tbody tr th {\n",
       "        vertical-align: top;\n",
       "    }\n",
       "\n",
       "    .dataframe thead th {\n",
       "        text-align: right;\n",
       "    }\n",
       "</style>\n",
       "<table border=\"1\" class=\"dataframe\">\n",
       "  <thead>\n",
       "    <tr style=\"text-align: right;\">\n",
       "      <th></th>\n",
       "      <th>id</th>\n",
       "      <th>continent</th>\n",
       "      <th>position</th>\n",
       "      <th>prefer_foot</th>\n",
       "      <th>reputation</th>\n",
       "      <th>stat_overall</th>\n",
       "      <th>stat_potential</th>\n",
       "      <th>stat_skill_moves</th>\n",
       "      <th>value</th>\n",
       "      <th>age_band</th>\n",
       "      <th>contract_until_cut</th>\n",
       "      <th>growth</th>\n",
       "      <th>age_per</th>\n",
       "    </tr>\n",
       "  </thead>\n",
       "  <tbody>\n",
       "    <tr>\n",
       "      <td>0</td>\n",
       "      <td>0</td>\n",
       "      <td>0</td>\n",
       "      <td>0</td>\n",
       "      <td>1</td>\n",
       "      <td>5.0</td>\n",
       "      <td>94</td>\n",
       "      <td>94</td>\n",
       "      <td>4.0</td>\n",
       "      <td>18.520526</td>\n",
       "      <td>3.0</td>\n",
       "      <td>2021</td>\n",
       "      <td>0</td>\n",
       "      <td>3.032258</td>\n",
       "    </tr>\n",
       "    <tr>\n",
       "      <td>1</td>\n",
       "      <td>3</td>\n",
       "      <td>1</td>\n",
       "      <td>3</td>\n",
       "      <td>0</td>\n",
       "      <td>4.0</td>\n",
       "      <td>91</td>\n",
       "      <td>93</td>\n",
       "      <td>1.0</td>\n",
       "      <td>18.092177</td>\n",
       "      <td>2.0</td>\n",
       "      <td>2020</td>\n",
       "      <td>2</td>\n",
       "      <td>3.370370</td>\n",
       "    </tr>\n",
       "    <tr>\n",
       "      <td>2</td>\n",
       "      <td>7</td>\n",
       "      <td>0</td>\n",
       "      <td>0</td>\n",
       "      <td>0</td>\n",
       "      <td>5.0</td>\n",
       "      <td>91</td>\n",
       "      <td>91</td>\n",
       "      <td>3.0</td>\n",
       "      <td>18.197537</td>\n",
       "      <td>3.0</td>\n",
       "      <td>2021</td>\n",
       "      <td>0</td>\n",
       "      <td>2.935484</td>\n",
       "    </tr>\n",
       "    <tr>\n",
       "      <td>3</td>\n",
       "      <td>8</td>\n",
       "      <td>1</td>\n",
       "      <td>2</td>\n",
       "      <td>0</td>\n",
       "      <td>4.0</td>\n",
       "      <td>91</td>\n",
       "      <td>91</td>\n",
       "      <td>3.0</td>\n",
       "      <td>17.747336</td>\n",
       "      <td>3.0</td>\n",
       "      <td>2020</td>\n",
       "      <td>0</td>\n",
       "      <td>2.843750</td>\n",
       "    </tr>\n",
       "    <tr>\n",
       "      <td>4</td>\n",
       "      <td>9</td>\n",
       "      <td>1</td>\n",
       "      <td>3</td>\n",
       "      <td>0</td>\n",
       "      <td>3.0</td>\n",
       "      <td>90</td>\n",
       "      <td>93</td>\n",
       "      <td>1.0</td>\n",
       "      <td>18.035018</td>\n",
       "      <td>1.0</td>\n",
       "      <td>2021</td>\n",
       "      <td>3</td>\n",
       "      <td>3.600000</td>\n",
       "    </tr>\n",
       "    <tr>\n",
       "      <td>...</td>\n",
       "      <td>...</td>\n",
       "      <td>...</td>\n",
       "      <td>...</td>\n",
       "      <td>...</td>\n",
       "      <td>...</td>\n",
       "      <td>...</td>\n",
       "      <td>...</td>\n",
       "      <td>...</td>\n",
       "      <td>...</td>\n",
       "      <td>...</td>\n",
       "      <td>...</td>\n",
       "      <td>...</td>\n",
       "      <td>...</td>\n",
       "    </tr>\n",
       "    <tr>\n",
       "      <td>8927</td>\n",
       "      <td>16925</td>\n",
       "      <td>2</td>\n",
       "      <td>1</td>\n",
       "      <td>0</td>\n",
       "      <td>1.0</td>\n",
       "      <td>48</td>\n",
       "      <td>63</td>\n",
       "      <td>3.0</td>\n",
       "      <td>11.002117</td>\n",
       "      <td>0.0</td>\n",
       "      <td>2019</td>\n",
       "      <td>15</td>\n",
       "      <td>2.666667</td>\n",
       "    </tr>\n",
       "    <tr>\n",
       "      <td>8928</td>\n",
       "      <td>16936</td>\n",
       "      <td>1</td>\n",
       "      <td>2</td>\n",
       "      <td>0</td>\n",
       "      <td>1.0</td>\n",
       "      <td>47</td>\n",
       "      <td>59</td>\n",
       "      <td>2.0</td>\n",
       "      <td>10.596660</td>\n",
       "      <td>0.0</td>\n",
       "      <td>2020</td>\n",
       "      <td>12</td>\n",
       "      <td>2.473684</td>\n",
       "    </tr>\n",
       "    <tr>\n",
       "      <td>8929</td>\n",
       "      <td>16941</td>\n",
       "      <td>0</td>\n",
       "      <td>2</td>\n",
       "      <td>0</td>\n",
       "      <td>1.0</td>\n",
       "      <td>47</td>\n",
       "      <td>64</td>\n",
       "      <td>2.0</td>\n",
       "      <td>10.819798</td>\n",
       "      <td>0.0</td>\n",
       "      <td>2021</td>\n",
       "      <td>17</td>\n",
       "      <td>2.611111</td>\n",
       "    </tr>\n",
       "    <tr>\n",
       "      <td>8930</td>\n",
       "      <td>16942</td>\n",
       "      <td>1</td>\n",
       "      <td>3</td>\n",
       "      <td>0</td>\n",
       "      <td>1.0</td>\n",
       "      <td>47</td>\n",
       "      <td>65</td>\n",
       "      <td>1.0</td>\n",
       "      <td>10.819798</td>\n",
       "      <td>0.0</td>\n",
       "      <td>2021</td>\n",
       "      <td>18</td>\n",
       "      <td>2.611111</td>\n",
       "    </tr>\n",
       "    <tr>\n",
       "      <td>8931</td>\n",
       "      <td>16948</td>\n",
       "      <td>1</td>\n",
       "      <td>0</td>\n",
       "      <td>0</td>\n",
       "      <td>1.0</td>\n",
       "      <td>47</td>\n",
       "      <td>63</td>\n",
       "      <td>2.0</td>\n",
       "      <td>11.002117</td>\n",
       "      <td>0.0</td>\n",
       "      <td>2020</td>\n",
       "      <td>16</td>\n",
       "      <td>2.473684</td>\n",
       "    </tr>\n",
       "  </tbody>\n",
       "</table>\n",
       "<p>8932 rows × 13 columns</p>\n",
       "</div>"
      ],
      "text/plain": [
       "         id  continent  position  prefer_foot  reputation  stat_overall  \\\n",
       "0         0          0         0            1         5.0            94   \n",
       "1         3          1         3            0         4.0            91   \n",
       "2         7          0         0            0         5.0            91   \n",
       "3         8          1         2            0         4.0            91   \n",
       "4         9          1         3            0         3.0            90   \n",
       "...     ...        ...       ...          ...         ...           ...   \n",
       "8927  16925          2         1            0         1.0            48   \n",
       "8928  16936          1         2            0         1.0            47   \n",
       "8929  16941          0         2            0         1.0            47   \n",
       "8930  16942          1         3            0         1.0            47   \n",
       "8931  16948          1         0            0         1.0            47   \n",
       "\n",
       "      stat_potential  stat_skill_moves      value  age_band  \\\n",
       "0                 94               4.0  18.520526       3.0   \n",
       "1                 93               1.0  18.092177       2.0   \n",
       "2                 91               3.0  18.197537       3.0   \n",
       "3                 91               3.0  17.747336       3.0   \n",
       "4                 93               1.0  18.035018       1.0   \n",
       "...              ...               ...        ...       ...   \n",
       "8927              63               3.0  11.002117       0.0   \n",
       "8928              59               2.0  10.596660       0.0   \n",
       "8929              64               2.0  10.819798       0.0   \n",
       "8930              65               1.0  10.819798       0.0   \n",
       "8931              63               2.0  11.002117       0.0   \n",
       "\n",
       "      contract_until_cut  growth   age_per  \n",
       "0                   2021       0  3.032258  \n",
       "1                   2020       2  3.370370  \n",
       "2                   2021       0  2.935484  \n",
       "3                   2020       0  2.843750  \n",
       "4                   2021       3  3.600000  \n",
       "...                  ...     ...       ...  \n",
       "8927                2019      15  2.666667  \n",
       "8928                2020      12  2.473684  \n",
       "8929                2021      17  2.611111  \n",
       "8930                2021      18  2.611111  \n",
       "8931                2020      16  2.473684  \n",
       "\n",
       "[8932 rows x 13 columns]"
      ]
     },
     "execution_count": 69,
     "metadata": {},
     "output_type": "execute_result"
    }
   ],
   "source": [
    "data"
   ]
  },
  {
   "cell_type": "code",
   "execution_count": 70,
   "metadata": {},
   "outputs": [
    {
     "data": {
      "text/plain": [
       "(13, 0)"
      ]
     },
     "execution_count": 70,
     "metadata": {},
     "output_type": "execute_result"
    },
    {
     "data": {
      "image/png": "[encoded data removed]",
      "text/plain": [
       "<Figure size 1080x720 with 2 Axes>"
      ]
     },
     "metadata": {
      "needs_background": "light"
     },
     "output_type": "display_data"
    }
   ],
   "source": [
    "# 변수들간의 corr heatmap\n",
    "f,ax=plt.subplots(figsize=(15,10))\n",
    "sns.heatmap(data.corr(),annot=True, square=True, fmt = '.2f', linewidths=.8, cmap='Reds' ,ax=ax).set_ylim(13,0)"
   ]
  },
  {
   "cell_type": "code",
   "execution_count": 71,
   "metadata": {},
   "outputs": [
    {
     "data": {
      "text/plain": [
       "id                   -0.915650\n",
       "continent            -0.177105\n",
       "position             -0.168740\n",
       "prefer_foot           0.038607\n",
       "reputation            0.480683\n",
       "stat_overall          0.938548\n",
       "stat_potential        0.793474\n",
       "stat_skill_moves      0.476796\n",
       "value                 1.000000\n",
       "age_band              0.184236\n",
       "contract_until_cut    0.214345\n",
       "growth               -0.316690\n",
       "age_per               0.347182\n",
       "Name: value, dtype: float64"
      ]
     },
     "execution_count": 71,
     "metadata": {},
     "output_type": "execute_result"
    }
   ],
   "source": [
    "data.corr()['value']"
   ]
  },
  {
   "cell_type": "markdown",
   "metadata": {},
   "source": [
    "#### corr기준 id,현재 능력치가 연관성이 깊어보인다."
   ]
  },
  {
   "cell_type": "code",
   "execution_count": 72,
   "metadata": {},
   "outputs": [],
   "source": [
    "# value 값을 value 변수로 저장 \n",
    "value=data['value']\n",
    "del data['value']"
   ]
  },
  {
   "cell_type": "markdown",
   "metadata": {},
   "source": [
    "# Feature Importance"
   ]
  },
  {
   "cell_type": "code",
   "execution_count": 73,
   "metadata": {},
   "outputs": [],
   "source": [
    "# XGBoost의 feature importance를 이용\n",
    "from xgboost import XGBRegressor\n",
    "from xgboost import plot_importance"
   ]
  },
  {
   "cell_type": "code",
   "execution_count": 74,
   "metadata": {},
   "outputs": [
    {
     "name": "stdout",
     "output_type": "stream",
     "text": [
      "[20:28:38] WARNING: src/objective/regression_obj.cu:152: reg:linear is now deprecated in favor of reg:squarederror.\n"
     ]
    },
    {
     "data": {
      "text/plain": [
       "XGBRegressor(base_score=0.5, booster='gbtree', colsample_bylevel=1,\n",
       "             colsample_bynode=1, colsample_bytree=1, gamma=0,\n",
       "             importance_type='gain', learning_rate=0.1, max_delta_step=0,\n",
       "             max_depth=3, min_child_weight=1, missing=None, n_estimators=100,\n",
       "             n_jobs=1, nthread=None, objective='reg:linear', random_state=0,\n",
       "             reg_alpha=0, reg_lambda=1, scale_pos_weight=1, seed=None,\n",
       "             silent=None, subsample=1, verbosity=1)"
      ]
     },
     "execution_count": 74,
     "metadata": {},
     "output_type": "execute_result"
    }
   ],
   "source": [
    "model=XGBRegressor()\n",
    "model.fit(data,value)"
   ]
  },
  {
   "cell_type": "code",
   "execution_count": 75,
   "metadata": {},
   "outputs": [
    {
     "data": {
      "text/plain": [
       "<matplotlib.axes._subplots.AxesSubplot at 0x26967b1ba88>"
      ]
     },
     "execution_count": 75,
     "metadata": {},
     "output_type": "execute_result"
    },
    {
     "data": {
      "image/png": "[encoded data removed]",
      "text/plain": [
       "<Figure size 432x288 with 1 Axes>"
      ]
     },
     "metadata": {
      "needs_background": "light"
     },
     "output_type": "display_data"
    }
   ],
   "source": [
    "plot_importance(model)"
   ]
  },
  {
   "cell_type": "markdown",
   "metadata": {},
   "source": [
    "#### id의 중요도가 높아보인다. id는 아마도 가격이 높은 순으로 정렬해서 이런 결과가 나온듯 싶다. 그 다음은 나이 당 성장,성장,포지션 순으로 중요도가 높고 대륙,선호하는 발,계약년도는 지워야 할 듯 하다."
   ]
  },
  {
   "cell_type": "code",
   "execution_count": 76,
   "metadata": {},
   "outputs": [],
   "source": [
    "del data['contract_until_cut']\n",
    "del data['prefer_foot']\n",
    "del data['reputation']\n",
    "del test['contract_until_cut']\n",
    "del test['prefer_foot']\n",
    "del test['reputation']"
   ]
  },
  {
   "cell_type": "code",
   "execution_count": 77,
   "metadata": {},
   "outputs": [
    {
     "data": {
      "text/html": [
       "<div>\n",
       "<style scoped>\n",
       "    .dataframe tbody tr th:only-of-type {\n",
       "        vertical-align: middle;\n",
       "    }\n",
       "\n",
       "    .dataframe tbody tr th {\n",
       "        vertical-align: top;\n",
       "    }\n",
       "\n",
       "    .dataframe thead th {\n",
       "        text-align: right;\n",
       "    }\n",
       "</style>\n",
       "<table border=\"1\" class=\"dataframe\">\n",
       "  <thead>\n",
       "    <tr style=\"text-align: right;\">\n",
       "      <th></th>\n",
       "      <th>id</th>\n",
       "      <th>continent</th>\n",
       "      <th>position</th>\n",
       "      <th>stat_overall</th>\n",
       "      <th>stat_potential</th>\n",
       "      <th>stat_skill_moves</th>\n",
       "      <th>age_band</th>\n",
       "      <th>growth</th>\n",
       "      <th>age_per</th>\n",
       "    </tr>\n",
       "  </thead>\n",
       "  <tbody>\n",
       "    <tr>\n",
       "      <td>0</td>\n",
       "      <td>0</td>\n",
       "      <td>0</td>\n",
       "      <td>0</td>\n",
       "      <td>94</td>\n",
       "      <td>94</td>\n",
       "      <td>4.0</td>\n",
       "      <td>3.0</td>\n",
       "      <td>0</td>\n",
       "      <td>3.032258</td>\n",
       "    </tr>\n",
       "    <tr>\n",
       "      <td>1</td>\n",
       "      <td>3</td>\n",
       "      <td>1</td>\n",
       "      <td>3</td>\n",
       "      <td>91</td>\n",
       "      <td>93</td>\n",
       "      <td>1.0</td>\n",
       "      <td>2.0</td>\n",
       "      <td>2</td>\n",
       "      <td>3.370370</td>\n",
       "    </tr>\n",
       "    <tr>\n",
       "      <td>2</td>\n",
       "      <td>7</td>\n",
       "      <td>0</td>\n",
       "      <td>0</td>\n",
       "      <td>91</td>\n",
       "      <td>91</td>\n",
       "      <td>3.0</td>\n",
       "      <td>3.0</td>\n",
       "      <td>0</td>\n",
       "      <td>2.935484</td>\n",
       "    </tr>\n",
       "    <tr>\n",
       "      <td>3</td>\n",
       "      <td>8</td>\n",
       "      <td>1</td>\n",
       "      <td>2</td>\n",
       "      <td>91</td>\n",
       "      <td>91</td>\n",
       "      <td>3.0</td>\n",
       "      <td>3.0</td>\n",
       "      <td>0</td>\n",
       "      <td>2.843750</td>\n",
       "    </tr>\n",
       "    <tr>\n",
       "      <td>4</td>\n",
       "      <td>9</td>\n",
       "      <td>1</td>\n",
       "      <td>3</td>\n",
       "      <td>90</td>\n",
       "      <td>93</td>\n",
       "      <td>1.0</td>\n",
       "      <td>1.0</td>\n",
       "      <td>3</td>\n",
       "      <td>3.600000</td>\n",
       "    </tr>\n",
       "    <tr>\n",
       "      <td>...</td>\n",
       "      <td>...</td>\n",
       "      <td>...</td>\n",
       "      <td>...</td>\n",
       "      <td>...</td>\n",
       "      <td>...</td>\n",
       "      <td>...</td>\n",
       "      <td>...</td>\n",
       "      <td>...</td>\n",
       "      <td>...</td>\n",
       "    </tr>\n",
       "    <tr>\n",
       "      <td>8927</td>\n",
       "      <td>16925</td>\n",
       "      <td>2</td>\n",
       "      <td>1</td>\n",
       "      <td>48</td>\n",
       "      <td>63</td>\n",
       "      <td>3.0</td>\n",
       "      <td>0.0</td>\n",
       "      <td>15</td>\n",
       "      <td>2.666667</td>\n",
       "    </tr>\n",
       "    <tr>\n",
       "      <td>8928</td>\n",
       "      <td>16936</td>\n",
       "      <td>1</td>\n",
       "      <td>2</td>\n",
       "      <td>47</td>\n",
       "      <td>59</td>\n",
       "      <td>2.0</td>\n",
       "      <td>0.0</td>\n",
       "      <td>12</td>\n",
       "      <td>2.473684</td>\n",
       "    </tr>\n",
       "    <tr>\n",
       "      <td>8929</td>\n",
       "      <td>16941</td>\n",
       "      <td>0</td>\n",
       "      <td>2</td>\n",
       "      <td>47</td>\n",
       "      <td>64</td>\n",
       "      <td>2.0</td>\n",
       "      <td>0.0</td>\n",
       "      <td>17</td>\n",
       "      <td>2.611111</td>\n",
       "    </tr>\n",
       "    <tr>\n",
       "      <td>8930</td>\n",
       "      <td>16942</td>\n",
       "      <td>1</td>\n",
       "      <td>3</td>\n",
       "      <td>47</td>\n",
       "      <td>65</td>\n",
       "      <td>1.0</td>\n",
       "      <td>0.0</td>\n",
       "      <td>18</td>\n",
       "      <td>2.611111</td>\n",
       "    </tr>\n",
       "    <tr>\n",
       "      <td>8931</td>\n",
       "      <td>16948</td>\n",
       "      <td>1</td>\n",
       "      <td>0</td>\n",
       "      <td>47</td>\n",
       "      <td>63</td>\n",
       "      <td>2.0</td>\n",
       "      <td>0.0</td>\n",
       "      <td>16</td>\n",
       "      <td>2.473684</td>\n",
       "    </tr>\n",
       "  </tbody>\n",
       "</table>\n",
       "<p>8932 rows × 9 columns</p>\n",
       "</div>"
      ],
      "text/plain": [
       "         id  continent  position  stat_overall  stat_potential  \\\n",
       "0         0          0         0            94              94   \n",
       "1         3          1         3            91              93   \n",
       "2         7          0         0            91              91   \n",
       "3         8          1         2            91              91   \n",
       "4         9          1         3            90              93   \n",
       "...     ...        ...       ...           ...             ...   \n",
       "8927  16925          2         1            48              63   \n",
       "8928  16936          1         2            47              59   \n",
       "8929  16941          0         2            47              64   \n",
       "8930  16942          1         3            47              65   \n",
       "8931  16948          1         0            47              63   \n",
       "\n",
       "      stat_skill_moves  age_band  growth   age_per  \n",
       "0                  4.0       3.0       0  3.032258  \n",
       "1                  1.0       2.0       2  3.370370  \n",
       "2                  3.0       3.0       0  2.935484  \n",
       "3                  3.0       3.0       0  2.843750  \n",
       "4                  1.0       1.0       3  3.600000  \n",
       "...                ...       ...     ...       ...  \n",
       "8927               3.0       0.0      15  2.666667  \n",
       "8928               2.0       0.0      12  2.473684  \n",
       "8929               2.0       0.0      17  2.611111  \n",
       "8930               1.0       0.0      18  2.611111  \n",
       "8931               2.0       0.0      16  2.473684  \n",
       "\n",
       "[8932 rows x 9 columns]"
      ]
     },
     "execution_count": 77,
     "metadata": {},
     "output_type": "execute_result"
    }
   ],
   "source": [
    "data"
   ]
  },
  {
   "cell_type": "markdown",
   "metadata": {},
   "source": [
    "# Modeling"
   ]
  },
  {
   "cell_type": "code",
   "execution_count": 78,
   "metadata": {},
   "outputs": [],
   "source": [
    "from sklearn.linear_model import LinearRegression,Lasso,ElasticNet\n",
    "from lightgbm import LGBMRegressor\n",
    "from xgboost import XGBRegressor\n",
    "from sklearn.ensemble import RandomForestRegressor,GradientBoostingRegressor\n",
    "from sklearn.pipeline import make_pipeline\n",
    "from sklearn.preprocessing import RobustScaler\n",
    "from sklearn.model_selection import KFold, cross_val_score, train_test_split\n",
    "from sklearn.metrics import mean_squared_error"
   ]
  },
  {
   "cell_type": "code",
   "execution_count": 79,
   "metadata": {},
   "outputs": [
    {
     "name": "stdout",
     "output_type": "stream",
     "text": [
      "[20:28:48] WARNING: src/objective/regression_obj.cu:152: reg:linear is now deprecated in favor of reg:squarederror.\n",
      "[20:28:49] WARNING: src/objective/regression_obj.cu:152: reg:linear is now deprecated in favor of reg:squarederror.\n",
      "[20:28:49] WARNING: src/objective/regression_obj.cu:152: reg:linear is now deprecated in favor of reg:squarederror.\n",
      "[20:28:50] WARNING: src/objective/regression_obj.cu:152: reg:linear is now deprecated in favor of reg:squarederror.\n",
      "[20:28:50] WARNING: src/objective/regression_obj.cu:152: reg:linear is now deprecated in favor of reg:squarederror.\n",
      "[20:28:50] WARNING: src/objective/regression_obj.cu:152: reg:linear is now deprecated in favor of reg:squarederror.\n",
      "[20:28:51] WARNING: src/objective/regression_obj.cu:152: reg:linear is now deprecated in favor of reg:squarederror.\n",
      "[20:28:51] WARNING: src/objective/regression_obj.cu:152: reg:linear is now deprecated in favor of reg:squarederror.\n",
      "[20:28:52] WARNING: src/objective/regression_obj.cu:152: reg:linear is now deprecated in favor of reg:squarederror.\n",
      "[20:28:52] WARNING: src/objective/regression_obj.cu:152: reg:linear is now deprecated in favor of reg:squarederror.\n"
     ]
    }
   ],
   "source": [
    "kfold=KFold(n_splits=10,random_state=2)\n",
    "model_name=['LinearRegression','LassoRegression','ElasticNet','gboost','lgbm','xgboost','RandomForest']\n",
    "model_rmse=[]\n",
    "model_cv=[]\n",
    "models=[LinearRegression(),  # Linear Regression\n",
    "        make_pipeline(Lasso(alpha=0.001,random_state=1)),  # Lasso Regression\n",
    "        make_pipeline(RobustScaler(),ElasticNet(alpha=0.001,l1_ratio=0.9,random_state=1)), # ElasticNet인데 RobustScaler를 썼다.\n",
    "        GradientBoostingRegressor(random_state=1),  # GragientBoostionRegressor\n",
    "        LGBMRegressor(random_state=1),  # LGBRegressor\n",
    "        XGBRegressor(random_state=1),  # XGBoostRgressor\n",
    "        RandomForestRegressor(n_estimators=50,n_jobs=-1,random_state=1)]  # RandomForestRegressor\n",
    "for i in models:  #모델들의 rmse를 model_rmse에 저장\n",
    "    m_r=np.mean(np.sqrt(-cross_val_score(i,data.values,np.expm1(value),scoring='neg_mean_squared_error',cv=kfold)))\n",
    "    model_rmse.append(m_r)"
   ]
  },
  {
   "cell_type": "code",
   "execution_count": 80,
   "metadata": {},
   "outputs": [
    {
     "data": {
      "text/html": [
       "<div>\n",
       "<style scoped>\n",
       "    .dataframe tbody tr th:only-of-type {\n",
       "        vertical-align: middle;\n",
       "    }\n",
       "\n",
       "    .dataframe tbody tr th {\n",
       "        vertical-align: top;\n",
       "    }\n",
       "\n",
       "    .dataframe thead th {\n",
       "        text-align: right;\n",
       "    }\n",
       "</style>\n",
       "<table border=\"1\" class=\"dataframe\">\n",
       "  <thead>\n",
       "    <tr style=\"text-align: right;\">\n",
       "      <th></th>\n",
       "      <th>rmse_mean</th>\n",
       "    </tr>\n",
       "  </thead>\n",
       "  <tbody>\n",
       "    <tr>\n",
       "      <td>LinearRegression</td>\n",
       "      <td>4.277576e+06</td>\n",
       "    </tr>\n",
       "    <tr>\n",
       "      <td>LassoRegression</td>\n",
       "      <td>4.277576e+06</td>\n",
       "    </tr>\n",
       "    <tr>\n",
       "      <td>ElasticNet</td>\n",
       "      <td>4.270808e+06</td>\n",
       "    </tr>\n",
       "    <tr>\n",
       "      <td>gboost</td>\n",
       "      <td>1.556056e+06</td>\n",
       "    </tr>\n",
       "    <tr>\n",
       "      <td>lgbm</td>\n",
       "      <td>1.563684e+06</td>\n",
       "    </tr>\n",
       "    <tr>\n",
       "      <td>xgboost</td>\n",
       "      <td>1.565740e+06</td>\n",
       "    </tr>\n",
       "    <tr>\n",
       "      <td>RandomForest</td>\n",
       "      <td>1.527907e+06</td>\n",
       "    </tr>\n",
       "  </tbody>\n",
       "</table>\n",
       "</div>"
      ],
      "text/plain": [
       "                     rmse_mean\n",
       "LinearRegression  4.277576e+06\n",
       "LassoRegression   4.277576e+06\n",
       "ElasticNet        4.270808e+06\n",
       "gboost            1.556056e+06\n",
       "lgbm              1.563684e+06\n",
       "xgboost           1.565740e+06\n",
       "RandomForest      1.527907e+06"
      ]
     },
     "execution_count": 80,
     "metadata": {},
     "output_type": "execute_result"
    }
   ],
   "source": [
    "model_df=pd.DataFrame({'rmse_mean':model_rmse},index=model_name) # 모델들의 rmse를 data_frame으로 변환\n",
    "model_df"
   ]
  },
  {
   "cell_type": "code",
   "execution_count": 81,
   "metadata": {},
   "outputs": [],
   "source": [
    "from sklearn.model_selection import GridSearchCV "
   ]
  },
  {
   "cell_type": "code",
   "execution_count": 82,
   "metadata": {},
   "outputs": [
    {
     "name": "stdout",
     "output_type": "stream",
     "text": [
      "Fitting 3 folds for each of 9 candidates, totalling 27 fits\n"
     ]
    },
    {
     "name": "stderr",
     "output_type": "stream",
     "text": [
      "[Parallel(n_jobs=1)]: Using backend SequentialBackend with 1 concurrent workers.\n",
      "[Parallel(n_jobs=1)]: Done  27 out of  27 | elapsed:  4.4min finished\n",
      "C:\\Users\\icear\\Anaconda3\\lib\\site-packages\\sklearn\\model_selection\\_search.py:814: DeprecationWarning: The default of the `iid` parameter will change from True to False in version 0.22 and will be removed in 0.24. This will change numeric results when test-set sizes are unequal.\n",
      "  DeprecationWarning)\n"
     ]
    },
    {
     "name": "stdout",
     "output_type": "stream",
     "text": [
      "-31882358700399.906\n",
      "RandomForestRegressor(bootstrap=True, criterion='mse', max_depth=None,\n",
      "                      max_features='auto', max_leaf_nodes=None,\n",
      "                      min_impurity_decrease=0.0, min_impurity_split=None,\n",
      "                      min_samples_leaf=1, min_samples_split=2,\n",
      "                      min_weight_fraction_leaf=0.0, n_estimators=600,\n",
      "                      n_jobs=None, oob_score=False, random_state=1, verbose=0,\n",
      "                      warm_start=False)\n"
     ]
    }
   ],
   "source": [
    "# RandomForest 튜닝\n",
    "n_estimators=range(100,1000,100)\n",
    "hyper={'n_estimators':n_estimators}\n",
    "gd=GridSearchCV(estimator=RandomForestRegressor(random_state=1),param_grid=hyper,verbose=True,scoring='neg_mean_squared_error',)\n",
    "gd.fit(data,np.expm1(value))\n",
    "print(gd.best_score_)\n",
    "print(gd.best_estimator_)"
   ]
  },
  {
   "cell_type": "code",
   "execution_count": 83,
   "metadata": {},
   "outputs": [
    {
     "data": {
      "text/plain": [
       "1525456.2866517892"
      ]
     },
     "execution_count": 83,
     "metadata": {},
     "output_type": "execute_result"
    }
   ],
   "source": [
    "rf=RandomForestRegressor(n_estimators=600,n_jobs=-1,random_state=1)\n",
    "m_r=np.mean(np.sqrt(-cross_val_score(rf,data.values,np.expm1(value),scoring='neg_mean_squared_error',cv=kfold)))\n",
    "m_r"
   ]
  },
  {
   "cell_type": "code",
   "execution_count": 84,
   "metadata": {},
   "outputs": [
    {
     "data": {
      "text/plain": [
       "RandomForestRegressor(bootstrap=True, criterion='mse', max_depth=None,\n",
       "                      max_features='auto', max_leaf_nodes=None,\n",
       "                      min_impurity_decrease=0.0, min_impurity_split=None,\n",
       "                      min_samples_leaf=1, min_samples_split=2,\n",
       "                      min_weight_fraction_leaf=0.0, n_estimators=600, n_jobs=-1,\n",
       "                      oob_score=False, random_state=1, verbose=0,\n",
       "                      warm_start=False)"
      ]
     },
     "execution_count": 84,
     "metadata": {},
     "output_type": "execute_result"
    }
   ],
   "source": [
    "rf.fit(data,value)"
   ]
  },
  {
   "cell_type": "code",
   "execution_count": 85,
   "metadata": {},
   "outputs": [
    {
     "name": "stdout",
     "output_type": "stream",
     "text": [
      "Fitting 3 folds for each of 120 candidates, totalling 360 fits\n"
     ]
    },
    {
     "name": "stderr",
     "output_type": "stream",
     "text": [
      "[Parallel(n_jobs=1)]: Using backend SequentialBackend with 1 concurrent workers.\n",
      "[Parallel(n_jobs=1)]: Done 360 out of 360 | elapsed:  7.7min finished\n"
     ]
    },
    {
     "name": "stdout",
     "output_type": "stream",
     "text": [
      "0.0062058870785563205\n",
      "XGBRegressor(base_score=0.5, booster='gbtree', colsample_bylevel=1,\n",
      "             colsample_bynode=1, colsample_bytree=1, gamma=0,\n",
      "             importance_type='gain', learning_rate=0.25, max_delta_step=0,\n",
      "             max_depth=3, min_child_weight=1, missing=None, n_estimators=300,\n",
      "             n_jobs=1, nthread=None, objective='reg:squarederror',\n",
      "             random_state=0, reg_alpha=0, reg_lambda=1, scale_pos_weight=1,\n",
      "             seed=None, silent=None, subsample=1, verbosity=1)\n"
     ]
    }
   ],
   "source": [
    "# XGBooost 튜닝\n",
    "n_estimators=list(range(100,1100,100))\n",
    "learn_rate=[0.05,0.1,0.2,0.3,0.25,0.4,0.5,0.6,0.7,0.8,0.9,1]\n",
    "hyper={'n_estimators':n_estimators,'learning_rate':learn_rate}\n",
    "gd=GridSearchCV(estimator=XGBRegressor(objective='reg:squarederror'),param_grid=hyper,verbose=True)\n",
    "gd.fit(data,np.expm1(value))\n",
    "print(gd.best_score_)\n",
    "print(gd.best_estimator_)"
   ]
  },
  {
   "cell_type": "code",
   "execution_count": 86,
   "metadata": {},
   "outputs": [
    {
     "data": {
      "text/plain": [
       "XGBRegressor(base_score=0.5, booster='gbtree', colsample_bylevel=1,\n",
       "             colsample_bynode=1, colsample_bytree=1, gamma=0,\n",
       "             importance_type='gain', learning_rate=0.25, max_delta_step=0,\n",
       "             max_depth=3, min_child_weight=1, missing=None, n_estimators=300,\n",
       "             n_jobs=1, nthread=None, objective='reg:squarederror',\n",
       "             random_state=0, reg_alpha=0, reg_lambda=1, scale_pos_weight=1,\n",
       "             seed=None, silent=None, subsample=1, verbosity=1)"
      ]
     },
     "execution_count": 86,
     "metadata": {},
     "output_type": "execute_result"
    }
   ],
   "source": [
    "xgb=XGBRegressor(n_estimators=300,learning_rate=0.25,objective='reg:squarederror')\n",
    "xgb.fit(data,value)"
   ]
  },
  {
   "cell_type": "code",
   "execution_count": 87,
   "metadata": {},
   "outputs": [],
   "source": [
    "prediction=rf.predict(test)\n",
    "prediction2=xgb.predict(test)\n",
    "prediction=np.expm1(prediction)\n",
    "prediction2=np.expm1(prediction2)"
   ]
  },
  {
   "cell_type": "code",
   "execution_count": 88,
   "metadata": {},
   "outputs": [
    {
     "data": {
      "text/plain": [
       "1525456.2866517892"
      ]
     },
     "execution_count": 88,
     "metadata": {},
     "output_type": "execute_result"
    }
   ],
   "source": [
    "np.mean(np.sqrt(-cross_val_score(rf,data.values,np.expm1(value),scoring='neg_mean_squared_error',cv=kfold))) # RandomForest"
   ]
  },
  {
   "cell_type": "code",
   "execution_count": 89,
   "metadata": {},
   "outputs": [
    {
     "data": {
      "text/plain": [
       "1489117.1709825438"
      ]
     },
     "execution_count": 89,
     "metadata": {},
     "output_type": "execute_result"
    }
   ],
   "source": [
    "np.mean(np.sqrt(-cross_val_score(xgb,data.values,np.expm1(value),scoring='neg_mean_squared_error',cv=kfold))) # XGBoost"
   ]
  },
  {
   "cell_type": "markdown",
   "metadata": {},
   "source": [
    "#### 성능이 XGBoost 쪽이 높으므로 XGBoost로 예측한 것을 submit하기로 하겠다."
   ]
  },
  {
   "cell_type": "code",
   "execution_count": 90,
   "metadata": {},
   "outputs": [],
   "source": [
    "sub=pd.read_csv('C:/Users/icear/Desktop/DACON/해외 축구선수 이적료 예측/submission.csv')\n",
    "sub['value']=prediction2"
   ]
  },
  {
   "cell_type": "code",
   "execution_count": 91,
   "metadata": {},
   "outputs": [],
   "source": [
    "sub.to_csv('submission.csv',index=False)"
   ]
  },
  {
   "cell_type": "code",
   "execution_count": null,
   "metadata": {},
   "outputs": [],
   "source": []
  }
 ],
 "metadata": {
  "kernelspec": {
   "display_name": "Python 3",
   "language": "python",
   "name": "python3"
  },
  "language_info": {
   "codemirror_mode": {
    "name": "ipython",
    "version": 3
   },
   "file_extension": ".py",
   "mimetype": "text/x-python",
   "name": "python",
   "nbconvert_exporter": "python",
   "pygments_lexer": "ipython3",
   "version": "3.7.4"
  }
 },
 "nbformat": 4,
 "nbformat_minor": 2
}
