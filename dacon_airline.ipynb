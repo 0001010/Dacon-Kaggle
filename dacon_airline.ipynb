{
  "nbformat": 4,
  "nbformat_minor": 0,
  "metadata": {
    "colab": {
      "name": "dacon_airline.ipynb",
      "provenance": [],
      "collapsed_sections": [],
      "authorship_tag": "ABX9TyM8EM3PgDg0AX28iW6UCgKR"
    },
    "kernelspec": {
      "name": "python3",
      "display_name": "Python 3"
    },
    "language_info": {
      "name": "python"
    }
  },
  "cells": [
    {
      "cell_type": "code",
      "execution_count": null,
      "metadata": {
        "colab": {
          "base_uri": "https://localhost:8080/"
        },
        "id": "5psnFKzplEDK",
        "outputId": "f022de06-0578-4b34-d681-794d24c2d66d"
      },
      "outputs": [
        {
          "output_type": "stream",
          "name": "stdout",
          "text": [
            "Mounted at /content/drive\n"
          ]
        }
      ],
      "source": [
        "from google.colab import drive\n",
        "drive.mount('/content/drive')"
      ]
    },
    {
      "cell_type": "code",
      "source": [
        "import numpy as np\n",
        "import pandas as pd\n",
        "import matplotlib.pyplot as plt\n",
        "import seaborn as sns\n",
        "import os\n",
        "\n",
        "path = '/content/drive/MyDrive/data/airline'\n",
        "os.chdir(path)\n",
        "sns.color_palette(\"Set2\")\n",
        "\n",
        "train = pd.read_csv('train.csv')"
      ],
      "metadata": {
        "id": "QAdSXsONlI19"
      },
      "execution_count": null,
      "outputs": []
    },
    {
      "cell_type": "code",
      "source": [
        "train.info()"
      ],
      "metadata": {
        "colab": {
          "base_uri": "https://localhost:8080/"
        },
        "id": "I9V7P8Pglgk0",
        "outputId": "de7350de-e8d7-4e5e-f428-0b7327d9b441"
      },
      "execution_count": null,
      "outputs": [
        {
          "output_type": "stream",
          "name": "stdout",
          "text": [
            "<class 'pandas.core.frame.DataFrame'>\n",
            "RangeIndex: 3000 entries, 0 to 2999\n",
            "Data columns (total 24 columns):\n",
            " #   Column                             Non-Null Count  Dtype  \n",
            "---  ------                             --------------  -----  \n",
            " 0   id                                 3000 non-null   int64  \n",
            " 1   Gender                             3000 non-null   object \n",
            " 2   Customer Type                      3000 non-null   object \n",
            " 3   Age                                3000 non-null   int64  \n",
            " 4   Type of Travel                     3000 non-null   object \n",
            " 5   Class                              3000 non-null   object \n",
            " 6   Flight Distance                    3000 non-null   int64  \n",
            " 7   Seat comfort                       3000 non-null   int64  \n",
            " 8   Departure/Arrival time convenient  3000 non-null   int64  \n",
            " 9   Food and drink                     3000 non-null   int64  \n",
            " 10  Gate location                      3000 non-null   int64  \n",
            " 11  Inflight wifi service              3000 non-null   int64  \n",
            " 12  Inflight entertainment             3000 non-null   int64  \n",
            " 13  Online support                     3000 non-null   int64  \n",
            " 14  Ease of Online booking             3000 non-null   int64  \n",
            " 15  On-board service                   3000 non-null   int64  \n",
            " 16  Leg room service                   3000 non-null   int64  \n",
            " 17  Baggage handling                   3000 non-null   int64  \n",
            " 18  Checkin service                    3000 non-null   int64  \n",
            " 19  Cleanliness                        3000 non-null   int64  \n",
            " 20  Online boarding                    3000 non-null   int64  \n",
            " 21  Departure Delay in Minutes         3000 non-null   int64  \n",
            " 22  Arrival Delay in Minutes           3000 non-null   float64\n",
            " 23  target                             3000 non-null   int64  \n",
            "dtypes: float64(1), int64(19), object(4)\n",
            "memory usage: 562.6+ KB\n"
          ]
        }
      ]
    },
    {
      "cell_type": "markdown",
      "source": [
        "- null값은 없는듯하다"
      ],
      "metadata": {
        "id": "smopgrmul24Y"
      }
    },
    {
      "cell_type": "code",
      "source": [
        "train.head(10)"
      ],
      "metadata": {
        "colab": {
          "base_uri": "https://localhost:8080/",
          "height": 632
        },
        "id": "d9Nq22FuljSH",
        "outputId": "d1932e9d-d328-4b67-b8ea-3ee1a4e0ac28"
      },
      "execution_count": null,
      "outputs": [
        {
          "output_type": "execute_result",
          "data": {
            "text/html": [
              "\n",
              "  <div id=\"df-cc936f1a-2514-4b91-b928-887a328d860c\">\n",
              "    <div class=\"colab-df-container\">\n",
              "      <div>\n",
              "<style scoped>\n",
              "    .dataframe tbody tr th:only-of-type {\n",
              "        vertical-align: middle;\n",
              "    }\n",
              "\n",
              "    .dataframe tbody tr th {\n",
              "        vertical-align: top;\n",
              "    }\n",
              "\n",
              "    .dataframe thead th {\n",
              "        text-align: right;\n",
              "    }\n",
              "</style>\n",
              "<table border=\"1\" class=\"dataframe\">\n",
              "  <thead>\n",
              "    <tr style=\"text-align: right;\">\n",
              "      <th></th>\n",
              "      <th>id</th>\n",
              "      <th>Gender</th>\n",
              "      <th>Customer Type</th>\n",
              "      <th>Age</th>\n",
              "      <th>Type of Travel</th>\n",
              "      <th>Class</th>\n",
              "      <th>Flight Distance</th>\n",
              "      <th>Seat comfort</th>\n",
              "      <th>Departure/Arrival time convenient</th>\n",
              "      <th>Food and drink</th>\n",
              "      <th>Gate location</th>\n",
              "      <th>Inflight wifi service</th>\n",
              "      <th>Inflight entertainment</th>\n",
              "      <th>Online support</th>\n",
              "      <th>Ease of Online booking</th>\n",
              "      <th>On-board service</th>\n",
              "      <th>Leg room service</th>\n",
              "      <th>Baggage handling</th>\n",
              "      <th>Checkin service</th>\n",
              "      <th>Cleanliness</th>\n",
              "      <th>Online boarding</th>\n",
              "      <th>Departure Delay in Minutes</th>\n",
              "      <th>Arrival Delay in Minutes</th>\n",
              "      <th>target</th>\n",
              "    </tr>\n",
              "  </thead>\n",
              "  <tbody>\n",
              "    <tr>\n",
              "      <th>0</th>\n",
              "      <td>1</td>\n",
              "      <td>Female</td>\n",
              "      <td>disloyal Customer</td>\n",
              "      <td>22</td>\n",
              "      <td>Business travel</td>\n",
              "      <td>Eco</td>\n",
              "      <td>1599</td>\n",
              "      <td>3</td>\n",
              "      <td>0</td>\n",
              "      <td>3</td>\n",
              "      <td>3</td>\n",
              "      <td>4</td>\n",
              "      <td>3</td>\n",
              "      <td>4</td>\n",
              "      <td>4</td>\n",
              "      <td>5</td>\n",
              "      <td>4</td>\n",
              "      <td>4</td>\n",
              "      <td>4</td>\n",
              "      <td>5</td>\n",
              "      <td>4</td>\n",
              "      <td>0</td>\n",
              "      <td>0.0</td>\n",
              "      <td>0</td>\n",
              "    </tr>\n",
              "    <tr>\n",
              "      <th>1</th>\n",
              "      <td>2</td>\n",
              "      <td>Female</td>\n",
              "      <td>Loyal Customer</td>\n",
              "      <td>37</td>\n",
              "      <td>Business travel</td>\n",
              "      <td>Business</td>\n",
              "      <td>2810</td>\n",
              "      <td>2</td>\n",
              "      <td>4</td>\n",
              "      <td>4</td>\n",
              "      <td>4</td>\n",
              "      <td>1</td>\n",
              "      <td>4</td>\n",
              "      <td>3</td>\n",
              "      <td>5</td>\n",
              "      <td>5</td>\n",
              "      <td>4</td>\n",
              "      <td>2</td>\n",
              "      <td>1</td>\n",
              "      <td>5</td>\n",
              "      <td>2</td>\n",
              "      <td>18</td>\n",
              "      <td>18.0</td>\n",
              "      <td>0</td>\n",
              "    </tr>\n",
              "    <tr>\n",
              "      <th>2</th>\n",
              "      <td>3</td>\n",
              "      <td>Male</td>\n",
              "      <td>Loyal Customer</td>\n",
              "      <td>46</td>\n",
              "      <td>Business travel</td>\n",
              "      <td>Business</td>\n",
              "      <td>2622</td>\n",
              "      <td>1</td>\n",
              "      <td>1</td>\n",
              "      <td>1</td>\n",
              "      <td>1</td>\n",
              "      <td>4</td>\n",
              "      <td>5</td>\n",
              "      <td>5</td>\n",
              "      <td>4</td>\n",
              "      <td>4</td>\n",
              "      <td>4</td>\n",
              "      <td>4</td>\n",
              "      <td>5</td>\n",
              "      <td>4</td>\n",
              "      <td>3</td>\n",
              "      <td>0</td>\n",
              "      <td>0.0</td>\n",
              "      <td>1</td>\n",
              "    </tr>\n",
              "    <tr>\n",
              "      <th>3</th>\n",
              "      <td>4</td>\n",
              "      <td>Female</td>\n",
              "      <td>disloyal Customer</td>\n",
              "      <td>24</td>\n",
              "      <td>Business travel</td>\n",
              "      <td>Eco</td>\n",
              "      <td>2348</td>\n",
              "      <td>3</td>\n",
              "      <td>3</td>\n",
              "      <td>3</td>\n",
              "      <td>3</td>\n",
              "      <td>3</td>\n",
              "      <td>3</td>\n",
              "      <td>3</td>\n",
              "      <td>3</td>\n",
              "      <td>2</td>\n",
              "      <td>4</td>\n",
              "      <td>5</td>\n",
              "      <td>3</td>\n",
              "      <td>4</td>\n",
              "      <td>3</td>\n",
              "      <td>10</td>\n",
              "      <td>2.0</td>\n",
              "      <td>0</td>\n",
              "    </tr>\n",
              "    <tr>\n",
              "      <th>4</th>\n",
              "      <td>5</td>\n",
              "      <td>Female</td>\n",
              "      <td>Loyal Customer</td>\n",
              "      <td>58</td>\n",
              "      <td>Business travel</td>\n",
              "      <td>Business</td>\n",
              "      <td>105</td>\n",
              "      <td>3</td>\n",
              "      <td>3</td>\n",
              "      <td>3</td>\n",
              "      <td>3</td>\n",
              "      <td>4</td>\n",
              "      <td>4</td>\n",
              "      <td>5</td>\n",
              "      <td>4</td>\n",
              "      <td>4</td>\n",
              "      <td>4</td>\n",
              "      <td>4</td>\n",
              "      <td>4</td>\n",
              "      <td>4</td>\n",
              "      <td>5</td>\n",
              "      <td>0</td>\n",
              "      <td>0.0</td>\n",
              "      <td>1</td>\n",
              "    </tr>\n",
              "    <tr>\n",
              "      <th>5</th>\n",
              "      <td>6</td>\n",
              "      <td>Female</td>\n",
              "      <td>Loyal Customer</td>\n",
              "      <td>42</td>\n",
              "      <td>Business travel</td>\n",
              "      <td>Business</td>\n",
              "      <td>1780</td>\n",
              "      <td>4</td>\n",
              "      <td>4</td>\n",
              "      <td>4</td>\n",
              "      <td>4</td>\n",
              "      <td>3</td>\n",
              "      <td>3</td>\n",
              "      <td>4</td>\n",
              "      <td>5</td>\n",
              "      <td>5</td>\n",
              "      <td>4</td>\n",
              "      <td>5</td>\n",
              "      <td>3</td>\n",
              "      <td>5</td>\n",
              "      <td>4</td>\n",
              "      <td>0</td>\n",
              "      <td>0.0</td>\n",
              "      <td>1</td>\n",
              "    </tr>\n",
              "    <tr>\n",
              "      <th>6</th>\n",
              "      <td>7</td>\n",
              "      <td>Female</td>\n",
              "      <td>disloyal Customer</td>\n",
              "      <td>20</td>\n",
              "      <td>Business travel</td>\n",
              "      <td>Eco</td>\n",
              "      <td>2980</td>\n",
              "      <td>3</td>\n",
              "      <td>3</td>\n",
              "      <td>3</td>\n",
              "      <td>4</td>\n",
              "      <td>5</td>\n",
              "      <td>3</td>\n",
              "      <td>5</td>\n",
              "      <td>5</td>\n",
              "      <td>1</td>\n",
              "      <td>5</td>\n",
              "      <td>3</td>\n",
              "      <td>1</td>\n",
              "      <td>4</td>\n",
              "      <td>5</td>\n",
              "      <td>12</td>\n",
              "      <td>34.0</td>\n",
              "      <td>0</td>\n",
              "    </tr>\n",
              "    <tr>\n",
              "      <th>7</th>\n",
              "      <td>8</td>\n",
              "      <td>Male</td>\n",
              "      <td>Loyal Customer</td>\n",
              "      <td>38</td>\n",
              "      <td>Business travel</td>\n",
              "      <td>Eco</td>\n",
              "      <td>1386</td>\n",
              "      <td>4</td>\n",
              "      <td>3</td>\n",
              "      <td>3</td>\n",
              "      <td>3</td>\n",
              "      <td>4</td>\n",
              "      <td>4</td>\n",
              "      <td>4</td>\n",
              "      <td>4</td>\n",
              "      <td>1</td>\n",
              "      <td>2</td>\n",
              "      <td>2</td>\n",
              "      <td>1</td>\n",
              "      <td>5</td>\n",
              "      <td>4</td>\n",
              "      <td>0</td>\n",
              "      <td>0.0</td>\n",
              "      <td>1</td>\n",
              "    </tr>\n",
              "    <tr>\n",
              "      <th>8</th>\n",
              "      <td>9</td>\n",
              "      <td>Female</td>\n",
              "      <td>Loyal Customer</td>\n",
              "      <td>51</td>\n",
              "      <td>Business travel</td>\n",
              "      <td>Business</td>\n",
              "      <td>2346</td>\n",
              "      <td>2</td>\n",
              "      <td>2</td>\n",
              "      <td>2</td>\n",
              "      <td>2</td>\n",
              "      <td>3</td>\n",
              "      <td>4</td>\n",
              "      <td>5</td>\n",
              "      <td>3</td>\n",
              "      <td>3</td>\n",
              "      <td>3</td>\n",
              "      <td>3</td>\n",
              "      <td>3</td>\n",
              "      <td>3</td>\n",
              "      <td>3</td>\n",
              "      <td>0</td>\n",
              "      <td>0.0</td>\n",
              "      <td>1</td>\n",
              "    </tr>\n",
              "    <tr>\n",
              "      <th>9</th>\n",
              "      <td>10</td>\n",
              "      <td>Male</td>\n",
              "      <td>Loyal Customer</td>\n",
              "      <td>8</td>\n",
              "      <td>Personal Travel</td>\n",
              "      <td>Eco</td>\n",
              "      <td>1336</td>\n",
              "      <td>2</td>\n",
              "      <td>5</td>\n",
              "      <td>2</td>\n",
              "      <td>5</td>\n",
              "      <td>5</td>\n",
              "      <td>2</td>\n",
              "      <td>5</td>\n",
              "      <td>5</td>\n",
              "      <td>5</td>\n",
              "      <td>5</td>\n",
              "      <td>5</td>\n",
              "      <td>4</td>\n",
              "      <td>5</td>\n",
              "      <td>5</td>\n",
              "      <td>0</td>\n",
              "      <td>0.0</td>\n",
              "      <td>0</td>\n",
              "    </tr>\n",
              "  </tbody>\n",
              "</table>\n",
              "</div>\n",
              "      <button class=\"colab-df-convert\" onclick=\"convertToInteractive('df-cc936f1a-2514-4b91-b928-887a328d860c')\"\n",
              "              title=\"Convert this dataframe to an interactive table.\"\n",
              "              style=\"display:none;\">\n",
              "        \n",
              "  <svg xmlns=\"http://www.w3.org/2000/svg\" height=\"24px\"viewBox=\"0 0 24 24\"\n",
              "       width=\"24px\">\n",
              "    <path d=\"M0 0h24v24H0V0z\" fill=\"none\"/>\n",
              "    <path d=\"M18.56 5.44l.94 2.06.94-2.06 2.06-.94-2.06-.94-.94-2.06-.94 2.06-2.06.94zm-11 1L8.5 8.5l.94-2.06 2.06-.94-2.06-.94L8.5 2.5l-.94 2.06-2.06.94zm10 10l.94 2.06.94-2.06 2.06-.94-2.06-.94-.94-2.06-.94 2.06-2.06.94z\"/><path d=\"M17.41 7.96l-1.37-1.37c-.4-.4-.92-.59-1.43-.59-.52 0-1.04.2-1.43.59L10.3 9.45l-7.72 7.72c-.78.78-.78 2.05 0 2.83L4 21.41c.39.39.9.59 1.41.59.51 0 1.02-.2 1.41-.59l7.78-7.78 2.81-2.81c.8-.78.8-2.07 0-2.86zM5.41 20L4 18.59l7.72-7.72 1.47 1.35L5.41 20z\"/>\n",
              "  </svg>\n",
              "      </button>\n",
              "      \n",
              "  <style>\n",
              "    .colab-df-container {\n",
              "      display:flex;\n",
              "      flex-wrap:wrap;\n",
              "      gap: 12px;\n",
              "    }\n",
              "\n",
              "    .colab-df-convert {\n",
              "      background-color: #E8F0FE;\n",
              "      border: none;\n",
              "      border-radius: 50%;\n",
              "      cursor: pointer;\n",
              "      display: none;\n",
              "      fill: #1967D2;\n",
              "      height: 32px;\n",
              "      padding: 0 0 0 0;\n",
              "      width: 32px;\n",
              "    }\n",
              "\n",
              "    .colab-df-convert:hover {\n",
              "      background-color: #E2EBFA;\n",
              "      box-shadow: 0px 1px 2px rgba(60, 64, 67, 0.3), 0px 1px 3px 1px rgba(60, 64, 67, 0.15);\n",
              "      fill: #174EA6;\n",
              "    }\n",
              "\n",
              "    [theme=dark] .colab-df-convert {\n",
              "      background-color: #3B4455;\n",
              "      fill: #D2E3FC;\n",
              "    }\n",
              "\n",
              "    [theme=dark] .colab-df-convert:hover {\n",
              "      background-color: #434B5C;\n",
              "      box-shadow: 0px 1px 3px 1px rgba(0, 0, 0, 0.15);\n",
              "      filter: drop-shadow(0px 1px 2px rgba(0, 0, 0, 0.3));\n",
              "      fill: #FFFFFF;\n",
              "    }\n",
              "  </style>\n",
              "\n",
              "      <script>\n",
              "        const buttonEl =\n",
              "          document.querySelector('#df-cc936f1a-2514-4b91-b928-887a328d860c button.colab-df-convert');\n",
              "        buttonEl.style.display =\n",
              "          google.colab.kernel.accessAllowed ? 'block' : 'none';\n",
              "\n",
              "        async function convertToInteractive(key) {\n",
              "          const element = document.querySelector('#df-cc936f1a-2514-4b91-b928-887a328d860c');\n",
              "          const dataTable =\n",
              "            await google.colab.kernel.invokeFunction('convertToInteractive',\n",
              "                                                     [key], {});\n",
              "          if (!dataTable) return;\n",
              "\n",
              "          const docLinkHtml = 'Like what you see? Visit the ' +\n",
              "            '<a target=\"_blank\" href=https://colab.research.google.com/notebooks/data_table.ipynb>data table notebook</a>'\n",
              "            + ' to learn more about interactive tables.';\n",
              "          element.innerHTML = '';\n",
              "          dataTable['output_type'] = 'display_data';\n",
              "          await google.colab.output.renderOutput(dataTable, element);\n",
              "          const docLink = document.createElement('div');\n",
              "          docLink.innerHTML = docLinkHtml;\n",
              "          element.appendChild(docLink);\n",
              "        }\n",
              "      </script>\n",
              "    </div>\n",
              "  </div>\n",
              "  "
            ],
            "text/plain": [
              "   id  Gender  ... Arrival Delay in Minutes  target\n",
              "0   1  Female  ...                      0.0       0\n",
              "1   2  Female  ...                     18.0       0\n",
              "2   3    Male  ...                      0.0       1\n",
              "3   4  Female  ...                      2.0       0\n",
              "4   5  Female  ...                      0.0       1\n",
              "5   6  Female  ...                      0.0       1\n",
              "6   7  Female  ...                     34.0       0\n",
              "7   8    Male  ...                      0.0       1\n",
              "8   9  Female  ...                      0.0       1\n",
              "9  10    Male  ...                      0.0       0\n",
              "\n",
              "[10 rows x 24 columns]"
            ]
          },
          "metadata": {},
          "execution_count": 4
        }
      ]
    },
    {
      "cell_type": "markdown",
      "source": [
        "- target을 맞춰야하는데 0, 1 인 이진분류인듯하다."
      ],
      "metadata": {
        "id": "ewPGDqVbltJ3"
      }
    },
    {
      "cell_type": "code",
      "source": [
        "colors = ['#8fd9b6', '#ff9999']\n",
        "\n",
        "plt.subplots(figsize = (5,5))\n",
        "train['target'].value_counts(normalize = True).plot(kind = 'pie', \n",
        "                                                    autopct = '%.1f%%', \n",
        "                                                    fontsize = 12, \n",
        "                                                    explode = [0, 0.05], \n",
        "                                                    shadow = True, \n",
        "                                                    colors = colors)\n",
        "plt.title('Targets Ratio', fontsize = 14)\n",
        "plt.show()"
      ],
      "metadata": {
        "colab": {
          "base_uri": "https://localhost:8080/",
          "height": 320
        },
        "id": "sm_M46Ealngl",
        "outputId": "034e14fc-0381-45bc-fa65-c2513605d6cd"
      },
      "execution_count": null,
      "outputs": [
        {
          "output_type": "display_data",
          "data": {
            "image/png": "[encoded data removed]",
            "text/plain": [
              "<Figure size 360x360 with 1 Axes>"
            ]
          },
          "metadata": {}
        }
      ]
    },
    {
      "cell_type": "markdown",
      "source": [
        "- target에 약간의 불균형이 있는듯 하지만 심하지는 않아 보인다. 그냥 진행해도 무방하겠다."
      ],
      "metadata": {
        "id": "KE3HGcFLoPng"
      }
    },
    {
      "cell_type": "code",
      "source": [
        "print('Genger Unique is', train['Gender'].unique())\n",
        "\n",
        "train['Gender'].value_counts()"
      ],
      "metadata": {
        "id": "78hP8OsYu2uf",
        "colab": {
          "base_uri": "https://localhost:8080/"
        },
        "outputId": "c4abafa5-6af0-4da1-9ebc-7b49a3667615"
      },
      "execution_count": null,
      "outputs": [
        {
          "output_type": "stream",
          "name": "stdout",
          "text": [
            "Genger Unique is ['Female' 'Male']\n"
          ]
        },
        {
          "output_type": "execute_result",
          "data": {
            "text/plain": [
              "Male      1502\n",
              "Female    1498\n",
              "Name: Gender, dtype: int64"
            ]
          },
          "metadata": {},
          "execution_count": 6
        }
      ]
    },
    {
      "cell_type": "markdown",
      "source": [
        "- 설문의 대상, 즉 성별이 하나로 치우쳐지지 않은 듯 하다."
      ],
      "metadata": {
        "id": "cwrStK337FxU"
      }
    },
    {
      "cell_type": "code",
      "source": [
        "train.groupby(['Gender'])['target'].describe()"
      ],
      "metadata": {
        "colab": {
          "base_uri": "https://localhost:8080/",
          "height": 143
        },
        "id": "JuEh5hep62Ri",
        "outputId": "1b6f31ea-6a0f-4113-ff5c-2b7ee7df9186"
      },
      "execution_count": null,
      "outputs": [
        {
          "output_type": "execute_result",
          "data": {
            "text/html": [
              "\n",
              "  <div id=\"df-afcca216-85ee-4fea-985c-4054b31e8de5\">\n",
              "    <div class=\"colab-df-container\">\n",
              "      <div>\n",
              "<style scoped>\n",
              "    .dataframe tbody tr th:only-of-type {\n",
              "        vertical-align: middle;\n",
              "    }\n",
              "\n",
              "    .dataframe tbody tr th {\n",
              "        vertical-align: top;\n",
              "    }\n",
              "\n",
              "    .dataframe thead th {\n",
              "        text-align: right;\n",
              "    }\n",
              "</style>\n",
              "<table border=\"1\" class=\"dataframe\">\n",
              "  <thead>\n",
              "    <tr style=\"text-align: right;\">\n",
              "      <th></th>\n",
              "      <th>count</th>\n",
              "      <th>mean</th>\n",
              "      <th>std</th>\n",
              "      <th>min</th>\n",
              "      <th>25%</th>\n",
              "      <th>50%</th>\n",
              "      <th>75%</th>\n",
              "      <th>max</th>\n",
              "    </tr>\n",
              "    <tr>\n",
              "      <th>Gender</th>\n",
              "      <th></th>\n",
              "      <th></th>\n",
              "      <th></th>\n",
              "      <th></th>\n",
              "      <th></th>\n",
              "      <th></th>\n",
              "      <th></th>\n",
              "      <th></th>\n",
              "    </tr>\n",
              "  </thead>\n",
              "  <tbody>\n",
              "    <tr>\n",
              "      <th>Female</th>\n",
              "      <td>1498.0</td>\n",
              "      <td>0.67223</td>\n",
              "      <td>0.469557</td>\n",
              "      <td>0.0</td>\n",
              "      <td>0.0</td>\n",
              "      <td>1.0</td>\n",
              "      <td>1.0</td>\n",
              "      <td>1.0</td>\n",
              "    </tr>\n",
              "    <tr>\n",
              "      <th>Male</th>\n",
              "      <td>1502.0</td>\n",
              "      <td>0.44008</td>\n",
              "      <td>0.496562</td>\n",
              "      <td>0.0</td>\n",
              "      <td>0.0</td>\n",
              "      <td>0.0</td>\n",
              "      <td>1.0</td>\n",
              "      <td>1.0</td>\n",
              "    </tr>\n",
              "  </tbody>\n",
              "</table>\n",
              "</div>\n",
              "      <button class=\"colab-df-convert\" onclick=\"convertToInteractive('df-afcca216-85ee-4fea-985c-4054b31e8de5')\"\n",
              "              title=\"Convert this dataframe to an interactive table.\"\n",
              "              style=\"display:none;\">\n",
              "        \n",
              "  <svg xmlns=\"http://www.w3.org/2000/svg\" height=\"24px\"viewBox=\"0 0 24 24\"\n",
              "       width=\"24px\">\n",
              "    <path d=\"M0 0h24v24H0V0z\" fill=\"none\"/>\n",
              "    <path d=\"M18.56 5.44l.94 2.06.94-2.06 2.06-.94-2.06-.94-.94-2.06-.94 2.06-2.06.94zm-11 1L8.5 8.5l.94-2.06 2.06-.94-2.06-.94L8.5 2.5l-.94 2.06-2.06.94zm10 10l.94 2.06.94-2.06 2.06-.94-2.06-.94-.94-2.06-.94 2.06-2.06.94z\"/><path d=\"M17.41 7.96l-1.37-1.37c-.4-.4-.92-.59-1.43-.59-.52 0-1.04.2-1.43.59L10.3 9.45l-7.72 7.72c-.78.78-.78 2.05 0 2.83L4 21.41c.39.39.9.59 1.41.59.51 0 1.02-.2 1.41-.59l7.78-7.78 2.81-2.81c.8-.78.8-2.07 0-2.86zM5.41 20L4 18.59l7.72-7.72 1.47 1.35L5.41 20z\"/>\n",
              "  </svg>\n",
              "      </button>\n",
              "      \n",
              "  <style>\n",
              "    .colab-df-container {\n",
              "      display:flex;\n",
              "      flex-wrap:wrap;\n",
              "      gap: 12px;\n",
              "    }\n",
              "\n",
              "    .colab-df-convert {\n",
              "      background-color: #E8F0FE;\n",
              "      border: none;\n",
              "      border-radius: 50%;\n",
              "      cursor: pointer;\n",
              "      display: none;\n",
              "      fill: #1967D2;\n",
              "      height: 32px;\n",
              "      padding: 0 0 0 0;\n",
              "      width: 32px;\n",
              "    }\n",
              "\n",
              "    .colab-df-convert:hover {\n",
              "      background-color: #E2EBFA;\n",
              "      box-shadow: 0px 1px 2px rgba(60, 64, 67, 0.3), 0px 1px 3px 1px rgba(60, 64, 67, 0.15);\n",
              "      fill: #174EA6;\n",
              "    }\n",
              "\n",
              "    [theme=dark] .colab-df-convert {\n",
              "      background-color: #3B4455;\n",
              "      fill: #D2E3FC;\n",
              "    }\n",
              "\n",
              "    [theme=dark] .colab-df-convert:hover {\n",
              "      background-color: #434B5C;\n",
              "      box-shadow: 0px 1px 3px 1px rgba(0, 0, 0, 0.15);\n",
              "      filter: drop-shadow(0px 1px 2px rgba(0, 0, 0, 0.3));\n",
              "      fill: #FFFFFF;\n",
              "    }\n",
              "  </style>\n",
              "\n",
              "      <script>\n",
              "        const buttonEl =\n",
              "          document.querySelector('#df-afcca216-85ee-4fea-985c-4054b31e8de5 button.colab-df-convert');\n",
              "        buttonEl.style.display =\n",
              "          google.colab.kernel.accessAllowed ? 'block' : 'none';\n",
              "\n",
              "        async function convertToInteractive(key) {\n",
              "          const element = document.querySelector('#df-afcca216-85ee-4fea-985c-4054b31e8de5');\n",
              "          const dataTable =\n",
              "            await google.colab.kernel.invokeFunction('convertToInteractive',\n",
              "                                                     [key], {});\n",
              "          if (!dataTable) return;\n",
              "\n",
              "          const docLinkHtml = 'Like what you see? Visit the ' +\n",
              "            '<a target=\"_blank\" href=https://colab.research.google.com/notebooks/data_table.ipynb>data table notebook</a>'\n",
              "            + ' to learn more about interactive tables.';\n",
              "          element.innerHTML = '';\n",
              "          dataTable['output_type'] = 'display_data';\n",
              "          await google.colab.output.renderOutput(dataTable, element);\n",
              "          const docLink = document.createElement('div');\n",
              "          docLink.innerHTML = docLinkHtml;\n",
              "          element.appendChild(docLink);\n",
              "        }\n",
              "      </script>\n",
              "    </div>\n",
              "  </div>\n",
              "  "
            ],
            "text/plain": [
              "         count     mean       std  min  25%  50%  75%  max\n",
              "Gender                                                    \n",
              "Female  1498.0  0.67223  0.469557  0.0  0.0  1.0  1.0  1.0\n",
              "Male    1502.0  0.44008  0.496562  0.0  0.0  0.0  1.0  1.0"
            ]
          },
          "metadata": {},
          "execution_count": 7
        }
      ]
    },
    {
      "cell_type": "markdown",
      "source": [
        "- 주로 여성분들이 만족한다고 응답했다. 평균치로 봤을때 약 67%정도의 여성이 만족으로 응답했고 약 44%의 남성이 만족한다고 응답했다."
      ],
      "metadata": {
        "id": "-DvEgH8N8VX2"
      }
    },
    {
      "cell_type": "code",
      "source": [
        "print('Customer Type is', train['Customer Type'].unique())\n",
        "\n",
        "train['Customer Type'].value_counts()"
      ],
      "metadata": {
        "colab": {
          "base_uri": "https://localhost:8080/"
        },
        "id": "WMV2BMur7S0u",
        "outputId": "022922fe-3f27-41cd-d3e8-8ea85e3795f9"
      },
      "execution_count": null,
      "outputs": [
        {
          "output_type": "stream",
          "name": "stdout",
          "text": [
            "Customer Type is ['disloyal Customer' 'Loyal Customer']\n"
          ]
        },
        {
          "output_type": "execute_result",
          "data": {
            "text/plain": [
              "Loyal Customer       2489\n",
              "disloyal Customer     511\n",
              "Name: Customer Type, dtype: int64"
            ]
          },
          "metadata": {},
          "execution_count": 8
        }
      ]
    },
    {
      "cell_type": "markdown",
      "source": [
        "- loyal customer가 많다. loyal인 사람들의 의견이 많이 설문에 반영되었을 것 같다."
      ],
      "metadata": {
        "id": "il_41jgF_d6_"
      }
    },
    {
      "cell_type": "code",
      "source": [
        "train.groupby(['Customer Type'])['target'].describe()"
      ],
      "metadata": {
        "colab": {
          "base_uri": "https://localhost:8080/",
          "height": 143
        },
        "id": "gn-JAinV-AIw",
        "outputId": "d0f481dc-5a61-41a3-b516-89c43b522af7"
      },
      "execution_count": null,
      "outputs": [
        {
          "output_type": "execute_result",
          "data": {
            "text/html": [
              "\n",
              "  <div id=\"df-0df1d6ca-9c2c-4dfe-ba2c-350ca170eef7\">\n",
              "    <div class=\"colab-df-container\">\n",
              "      <div>\n",
              "<style scoped>\n",
              "    .dataframe tbody tr th:only-of-type {\n",
              "        vertical-align: middle;\n",
              "    }\n",
              "\n",
              "    .dataframe tbody tr th {\n",
              "        vertical-align: top;\n",
              "    }\n",
              "\n",
              "    .dataframe thead th {\n",
              "        text-align: right;\n",
              "    }\n",
              "</style>\n",
              "<table border=\"1\" class=\"dataframe\">\n",
              "  <thead>\n",
              "    <tr style=\"text-align: right;\">\n",
              "      <th></th>\n",
              "      <th>count</th>\n",
              "      <th>mean</th>\n",
              "      <th>std</th>\n",
              "      <th>min</th>\n",
              "      <th>25%</th>\n",
              "      <th>50%</th>\n",
              "      <th>75%</th>\n",
              "      <th>max</th>\n",
              "    </tr>\n",
              "    <tr>\n",
              "      <th>Customer Type</th>\n",
              "      <th></th>\n",
              "      <th></th>\n",
              "      <th></th>\n",
              "      <th></th>\n",
              "      <th></th>\n",
              "      <th></th>\n",
              "      <th></th>\n",
              "      <th></th>\n",
              "    </tr>\n",
              "  </thead>\n",
              "  <tbody>\n",
              "    <tr>\n",
              "      <th>Loyal Customer</th>\n",
              "      <td>2489.0</td>\n",
              "      <td>0.617115</td>\n",
              "      <td>0.486188</td>\n",
              "      <td>0.0</td>\n",
              "      <td>0.0</td>\n",
              "      <td>1.0</td>\n",
              "      <td>1.0</td>\n",
              "      <td>1.0</td>\n",
              "    </tr>\n",
              "    <tr>\n",
              "      <th>disloyal Customer</th>\n",
              "      <td>511.0</td>\n",
              "      <td>0.258317</td>\n",
              "      <td>0.438138</td>\n",
              "      <td>0.0</td>\n",
              "      <td>0.0</td>\n",
              "      <td>0.0</td>\n",
              "      <td>1.0</td>\n",
              "      <td>1.0</td>\n",
              "    </tr>\n",
              "  </tbody>\n",
              "</table>\n",
              "</div>\n",
              "      <button class=\"colab-df-convert\" onclick=\"convertToInteractive('df-0df1d6ca-9c2c-4dfe-ba2c-350ca170eef7')\"\n",
              "              title=\"Convert this dataframe to an interactive table.\"\n",
              "              style=\"display:none;\">\n",
              "        \n",
              "  <svg xmlns=\"http://www.w3.org/2000/svg\" height=\"24px\"viewBox=\"0 0 24 24\"\n",
              "       width=\"24px\">\n",
              "    <path d=\"M0 0h24v24H0V0z\" fill=\"none\"/>\n",
              "    <path d=\"M18.56 5.44l.94 2.06.94-2.06 2.06-.94-2.06-.94-.94-2.06-.94 2.06-2.06.94zm-11 1L8.5 8.5l.94-2.06 2.06-.94-2.06-.94L8.5 2.5l-.94 2.06-2.06.94zm10 10l.94 2.06.94-2.06 2.06-.94-2.06-.94-.94-2.06-.94 2.06-2.06.94z\"/><path d=\"M17.41 7.96l-1.37-1.37c-.4-.4-.92-.59-1.43-.59-.52 0-1.04.2-1.43.59L10.3 9.45l-7.72 7.72c-.78.78-.78 2.05 0 2.83L4 21.41c.39.39.9.59 1.41.59.51 0 1.02-.2 1.41-.59l7.78-7.78 2.81-2.81c.8-.78.8-2.07 0-2.86zM5.41 20L4 18.59l7.72-7.72 1.47 1.35L5.41 20z\"/>\n",
              "  </svg>\n",
              "      </button>\n",
              "      \n",
              "  <style>\n",
              "    .colab-df-container {\n",
              "      display:flex;\n",
              "      flex-wrap:wrap;\n",
              "      gap: 12px;\n",
              "    }\n",
              "\n",
              "    .colab-df-convert {\n",
              "      background-color: #E8F0FE;\n",
              "      border: none;\n",
              "      border-radius: 50%;\n",
              "      cursor: pointer;\n",
              "      display: none;\n",
              "      fill: #1967D2;\n",
              "      height: 32px;\n",
              "      padding: 0 0 0 0;\n",
              "      width: 32px;\n",
              "    }\n",
              "\n",
              "    .colab-df-convert:hover {\n",
              "      background-color: #E2EBFA;\n",
              "      box-shadow: 0px 1px 2px rgba(60, 64, 67, 0.3), 0px 1px 3px 1px rgba(60, 64, 67, 0.15);\n",
              "      fill: #174EA6;\n",
              "    }\n",
              "\n",
              "    [theme=dark] .colab-df-convert {\n",
              "      background-color: #3B4455;\n",
              "      fill: #D2E3FC;\n",
              "    }\n",
              "\n",
              "    [theme=dark] .colab-df-convert:hover {\n",
              "      background-color: #434B5C;\n",
              "      box-shadow: 0px 1px 3px 1px rgba(0, 0, 0, 0.15);\n",
              "      filter: drop-shadow(0px 1px 2px rgba(0, 0, 0, 0.3));\n",
              "      fill: #FFFFFF;\n",
              "    }\n",
              "  </style>\n",
              "\n",
              "      <script>\n",
              "        const buttonEl =\n",
              "          document.querySelector('#df-0df1d6ca-9c2c-4dfe-ba2c-350ca170eef7 button.colab-df-convert');\n",
              "        buttonEl.style.display =\n",
              "          google.colab.kernel.accessAllowed ? 'block' : 'none';\n",
              "\n",
              "        async function convertToInteractive(key) {\n",
              "          const element = document.querySelector('#df-0df1d6ca-9c2c-4dfe-ba2c-350ca170eef7');\n",
              "          const dataTable =\n",
              "            await google.colab.kernel.invokeFunction('convertToInteractive',\n",
              "                                                     [key], {});\n",
              "          if (!dataTable) return;\n",
              "\n",
              "          const docLinkHtml = 'Like what you see? Visit the ' +\n",
              "            '<a target=\"_blank\" href=https://colab.research.google.com/notebooks/data_table.ipynb>data table notebook</a>'\n",
              "            + ' to learn more about interactive tables.';\n",
              "          element.innerHTML = '';\n",
              "          dataTable['output_type'] = 'display_data';\n",
              "          await google.colab.output.renderOutput(dataTable, element);\n",
              "          const docLink = document.createElement('div');\n",
              "          docLink.innerHTML = docLinkHtml;\n",
              "          element.appendChild(docLink);\n",
              "        }\n",
              "      </script>\n",
              "    </div>\n",
              "  </div>\n",
              "  "
            ],
            "text/plain": [
              "                    count      mean       std  min  25%  50%  75%  max\n",
              "Customer Type                                                         \n",
              "Loyal Customer     2489.0  0.617115  0.486188  0.0  0.0  1.0  1.0  1.0\n",
              "disloyal Customer   511.0  0.258317  0.438138  0.0  0.0  0.0  1.0  1.0"
            ]
          },
          "metadata": {},
          "execution_count": 9
        }
      ]
    },
    {
      "cell_type": "markdown",
      "source": [
        "- 역시 loyal customer의 경우 약 61%를 만족한다고 했고 disloyal customer의 경우 약 25%만 만족한다고 했다. \n",
        "- 특정계층이 많으므로 조금의 분석이 필요한것 같다."
      ],
      "metadata": {
        "id": "1J5krZOE_3Ey"
      }
    },
    {
      "cell_type": "code",
      "source": [
        "f, ax = plt.subplots(figsize = (5,5))\n",
        "plt.hist(train['Age'], bins = 15, alpha = 0.5)\n",
        "plt.xlabel('Age')\n",
        "plt.ylabel('Count')\n",
        "plt.title('Age hist', fontsize = 14)\n",
        "\n",
        "plt.show()"
      ],
      "metadata": {
        "colab": {
          "base_uri": "https://localhost:8080/",
          "height": 351
        },
        "id": "_9o6wL4yAKEF",
        "outputId": "705c03a9-23ee-4d96-d860-f76af6018777"
      },
      "execution_count": null,
      "outputs": [
        {
          "output_type": "display_data",
          "data": {
            "image/png": "[encoded data removed]",
            "text/plain": [
              "<Figure size 360x360 with 1 Axes>"
            ]
          },
          "metadata": {
            "needs_background": "light"
          }
        }
      ]
    },
    {
      "cell_type": "markdown",
      "source": [
        "- 나이는 정규분포랑 비슷한 모양을 띄고 있다."
      ],
      "metadata": {
        "id": "Eh_FzRym2zXq"
      }
    },
    {
      "cell_type": "code",
      "source": [
        "f, ax = plt.subplots(figsize = (15,4))\n",
        "\n",
        "train.groupby(['Age'])['target'].mean().plot(kind = 'bar')\n",
        "plt.ylabel('Ratio')\n",
        "plt.axhline(y= 0.5 , color = 'r', linewidth = 2)\n",
        "plt.title('Age & target', fontsize = 14)\n",
        "plt.show()"
      ],
      "metadata": {
        "id": "c7CjL04Y_zKe",
        "colab": {
          "base_uri": "https://localhost:8080/",
          "height": 298
        },
        "outputId": "2b0e9dab-4e76-439d-c162-ec010ee5d660"
      },
      "execution_count": null,
      "outputs": [
        {
          "output_type": "display_data",
          "data": {
            "image/png": "[encoded data removed]",
            "text/plain": [
              "<Figure size 1080x288 with 1 Axes>"
            ]
          },
          "metadata": {
            "needs_background": "light"
          }
        }
      ]
    },
    {
      "cell_type": "markdown",
      "source": [
        "- age와 target의 ratio를 보려고 한다. 빨간선은 0.5를 기준으로 잡은것으로 7세부터 30대 후반까지는 0.5를 넘는 연령이 많지 않지만 40대부터 50대 후반까지는 0.5가 넘는 연령이 많다.\n",
        "\n",
        "- age를 연속형으로 써도 되겠지만 이산형으로 바꿔서 10대 20대 이런식으로 써도 괜찮을 듯하다."
      ],
      "metadata": {
        "id": "tfYZS5et4c1P"
      }
    },
    {
      "cell_type": "code",
      "source": [
        "print('Type of Travel Value_counts','\\n',\n",
        "      train['Type of Travel'].value_counts(normalize = True),'\\n')\n",
        "print('Type of Travel & Target','\\n',\n",
        "      train.groupby(['Type of Travel'])['target'].mean())"
      ],
      "metadata": {
        "colab": {
          "base_uri": "https://localhost:8080/"
        },
        "id": "Xv6vDd8c2GU3",
        "outputId": "4b15b646-0374-4c60-de1e-64797bd1afa4"
      },
      "execution_count": null,
      "outputs": [
        {
          "output_type": "stream",
          "name": "stdout",
          "text": [
            "Type of Travel Value_counts \n",
            " Business travel    0.684333\n",
            "Personal Travel    0.315667\n",
            "Name: Type of Travel, dtype: float64 \n",
            "\n",
            "Type of Travel & Target \n",
            " Type of Travel\n",
            "Business travel    0.601072\n",
            "Personal Travel    0.458289\n",
            "Name: target, dtype: float64\n"
          ]
        }
      ]
    },
    {
      "cell_type": "code",
      "source": [
        "train.groupby(['target'])['Flight Distance'].describe()"
      ],
      "metadata": {
        "id": "6M1NBmZv4F8C",
        "colab": {
          "base_uri": "https://localhost:8080/",
          "height": 143
        },
        "outputId": "a52cdf49-3324-483c-b9a6-8b055fdeb686"
      },
      "execution_count": null,
      "outputs": [
        {
          "output_type": "execute_result",
          "data": {
            "text/html": [
              "\n",
              "  <div id=\"df-4a83ccd0-5cc8-4a92-b215-de2b33314e33\">\n",
              "    <div class=\"colab-df-container\">\n",
              "      <div>\n",
              "<style scoped>\n",
              "    .dataframe tbody tr th:only-of-type {\n",
              "        vertical-align: middle;\n",
              "    }\n",
              "\n",
              "    .dataframe tbody tr th {\n",
              "        vertical-align: top;\n",
              "    }\n",
              "\n",
              "    .dataframe thead th {\n",
              "        text-align: right;\n",
              "    }\n",
              "</style>\n",
              "<table border=\"1\" class=\"dataframe\">\n",
              "  <thead>\n",
              "    <tr style=\"text-align: right;\">\n",
              "      <th></th>\n",
              "      <th>count</th>\n",
              "      <th>mean</th>\n",
              "      <th>std</th>\n",
              "      <th>min</th>\n",
              "      <th>25%</th>\n",
              "      <th>50%</th>\n",
              "      <th>75%</th>\n",
              "      <th>max</th>\n",
              "    </tr>\n",
              "    <tr>\n",
              "      <th>target</th>\n",
              "      <th></th>\n",
              "      <th></th>\n",
              "      <th></th>\n",
              "      <th></th>\n",
              "      <th></th>\n",
              "      <th></th>\n",
              "      <th></th>\n",
              "      <th></th>\n",
              "    </tr>\n",
              "  </thead>\n",
              "  <tbody>\n",
              "    <tr>\n",
              "      <th>0</th>\n",
              "      <td>1332.0</td>\n",
              "      <td>2042.963213</td>\n",
              "      <td>882.121266</td>\n",
              "      <td>63.0</td>\n",
              "      <td>1524.5</td>\n",
              "      <td>1978.5</td>\n",
              "      <td>2481.25</td>\n",
              "      <td>6882.0</td>\n",
              "    </tr>\n",
              "    <tr>\n",
              "      <th>1</th>\n",
              "      <td>1668.0</td>\n",
              "      <td>1935.258393</td>\n",
              "      <td>1129.225482</td>\n",
              "      <td>52.0</td>\n",
              "      <td>1061.0</td>\n",
              "      <td>1868.5</td>\n",
              "      <td>2654.00</td>\n",
              "      <td>6232.0</td>\n",
              "    </tr>\n",
              "  </tbody>\n",
              "</table>\n",
              "</div>\n",
              "      <button class=\"colab-df-convert\" onclick=\"convertToInteractive('df-4a83ccd0-5cc8-4a92-b215-de2b33314e33')\"\n",
              "              title=\"Convert this dataframe to an interactive table.\"\n",
              "              style=\"display:none;\">\n",
              "        \n",
              "  <svg xmlns=\"http://www.w3.org/2000/svg\" height=\"24px\"viewBox=\"0 0 24 24\"\n",
              "       width=\"24px\">\n",
              "    <path d=\"M0 0h24v24H0V0z\" fill=\"none\"/>\n",
              "    <path d=\"M18.56 5.44l.94 2.06.94-2.06 2.06-.94-2.06-.94-.94-2.06-.94 2.06-2.06.94zm-11 1L8.5 8.5l.94-2.06 2.06-.94-2.06-.94L8.5 2.5l-.94 2.06-2.06.94zm10 10l.94 2.06.94-2.06 2.06-.94-2.06-.94-.94-2.06-.94 2.06-2.06.94z\"/><path d=\"M17.41 7.96l-1.37-1.37c-.4-.4-.92-.59-1.43-.59-.52 0-1.04.2-1.43.59L10.3 9.45l-7.72 7.72c-.78.78-.78 2.05 0 2.83L4 21.41c.39.39.9.59 1.41.59.51 0 1.02-.2 1.41-.59l7.78-7.78 2.81-2.81c.8-.78.8-2.07 0-2.86zM5.41 20L4 18.59l7.72-7.72 1.47 1.35L5.41 20z\"/>\n",
              "  </svg>\n",
              "      </button>\n",
              "      \n",
              "  <style>\n",
              "    .colab-df-container {\n",
              "      display:flex;\n",
              "      flex-wrap:wrap;\n",
              "      gap: 12px;\n",
              "    }\n",
              "\n",
              "    .colab-df-convert {\n",
              "      background-color: #E8F0FE;\n",
              "      border: none;\n",
              "      border-radius: 50%;\n",
              "      cursor: pointer;\n",
              "      display: none;\n",
              "      fill: #1967D2;\n",
              "      height: 32px;\n",
              "      padding: 0 0 0 0;\n",
              "      width: 32px;\n",
              "    }\n",
              "\n",
              "    .colab-df-convert:hover {\n",
              "      background-color: #E2EBFA;\n",
              "      box-shadow: 0px 1px 2px rgba(60, 64, 67, 0.3), 0px 1px 3px 1px rgba(60, 64, 67, 0.15);\n",
              "      fill: #174EA6;\n",
              "    }\n",
              "\n",
              "    [theme=dark] .colab-df-convert {\n",
              "      background-color: #3B4455;\n",
              "      fill: #D2E3FC;\n",
              "    }\n",
              "\n",
              "    [theme=dark] .colab-df-convert:hover {\n",
              "      background-color: #434B5C;\n",
              "      box-shadow: 0px 1px 3px 1px rgba(0, 0, 0, 0.15);\n",
              "      filter: drop-shadow(0px 1px 2px rgba(0, 0, 0, 0.3));\n",
              "      fill: #FFFFFF;\n",
              "    }\n",
              "  </style>\n",
              "\n",
              "      <script>\n",
              "        const buttonEl =\n",
              "          document.querySelector('#df-4a83ccd0-5cc8-4a92-b215-de2b33314e33 button.colab-df-convert');\n",
              "        buttonEl.style.display =\n",
              "          google.colab.kernel.accessAllowed ? 'block' : 'none';\n",
              "\n",
              "        async function convertToInteractive(key) {\n",
              "          const element = document.querySelector('#df-4a83ccd0-5cc8-4a92-b215-de2b33314e33');\n",
              "          const dataTable =\n",
              "            await google.colab.kernel.invokeFunction('convertToInteractive',\n",
              "                                                     [key], {});\n",
              "          if (!dataTable) return;\n",
              "\n",
              "          const docLinkHtml = 'Like what you see? Visit the ' +\n",
              "            '<a target=\"_blank\" href=https://colab.research.google.com/notebooks/data_table.ipynb>data table notebook</a>'\n",
              "            + ' to learn more about interactive tables.';\n",
              "          element.innerHTML = '';\n",
              "          dataTable['output_type'] = 'display_data';\n",
              "          await google.colab.output.renderOutput(dataTable, element);\n",
              "          const docLink = document.createElement('div');\n",
              "          docLink.innerHTML = docLinkHtml;\n",
              "          element.appendChild(docLink);\n",
              "        }\n",
              "      </script>\n",
              "    </div>\n",
              "  </div>\n",
              "  "
            ],
            "text/plain": [
              "         count         mean          std   min     25%     50%      75%     max\n",
              "target                                                                         \n",
              "0       1332.0  2042.963213   882.121266  63.0  1524.5  1978.5  2481.25  6882.0\n",
              "1       1668.0  1935.258393  1129.225482  52.0  1061.0  1868.5  2654.00  6232.0"
            ]
          },
          "metadata": {},
          "execution_count": 28
        }
      ]
    },
    {
      "cell_type": "markdown",
      "source": [
        "- 크게 차이나보이지는 않다. "
      ],
      "metadata": {
        "id": "2MVojJ961z85"
      }
    },
    {
      "cell_type": "code",
      "source": [
        "column_list = train.columns[7:-1]\n",
        "def plotting(column_list):\n",
        "\n",
        "  plt.subplots(figsize = (5, 5))\n",
        "\n",
        "  train.groupby([column_list])['target'].mean().plot(kind = 'bar', alpha = 0.7)\n",
        "  plt.ylabel('target rate')\n",
        "  plt.title(str(column_list)+ ' & Target', fontsize = 14)\n",
        "  plt.show()\n",
        "\n",
        "for i in column_list:\n",
        "  plotting(i)"
      ],
      "metadata": {
        "colab": {
          "base_uri": "https://localhost:8080/",
          "height": 1000
        },
        "id": "heG18IaK0CtN",
        "outputId": "559d8f4a-ddcd-43df-a666-9ed9c74610b3"
      },
      "execution_count": null,
      "outputs": [
        {
          "output_type": "display_data",
          "data": {
            "image/png": "[encoded data removed]",
            "text/plain": [
              "<Figure size 360x360 with 1 Axes>"
            ]
          },
          "metadata": {
            "needs_background": "light"
          }
        },
        {
          "output_type": "display_data",
          "data": {
            "image/png": "[encoded data removed]",
            "text/plain": [
              "<Figure size 360x360 with 1 Axes>"
            ]
          },
          "metadata": {
            "needs_background": "light"
          }
        },
        {
          "output_type": "display_data",
          "data": {
            "image/png": "[encoded data removed]",
            "text/plain": [
              "<Figure size 360x360 with 1 Axes>"
            ]
          },
          "metadata": {
            "needs_background": "light"
          }
        },
        {
          "output_type": "display_data",
          "data": {
            "image/png": "[encoded data removed]",
            "text/plain": [
              "<Figure size 360x360 with 1 Axes>"
            ]
          },
          "metadata": {
            "needs_background": "light"
          }
        },
        {
          "output_type": "display_data",
          "data": {
            "image/png": "[encoded data removed]",
            "text/plain": [
              "<Figure size 360x360 with 1 Axes>"
            ]
          },
          "metadata": {
            "needs_background": "light"
          }
        },
        {
          "output_type": "display_data",
          "data": {
            "image/png": "[encoded data removed]",
            "text/plain": [
              "<Figure size 360x360 with 1 Axes>"
            ]
          },
          "metadata": {
            "needs_background": "light"
          }
        },
        {
          "output_type": "display_data",
          "data": {
            "image/png": "[encoded data removed]",
            "text/plain": [
              "<Figure size 360x360 with 1 Axes>"
            ]
          },
          "metadata": {
            "needs_background": "light"
          }
        },
        {
          "output_type": "display_data",
          "data": {
            "image/png": "[encoded data removed]",
            "text/plain": [
              "<Figure size 360x360 with 1 Axes>"
            ]
          },
          "metadata": {
            "needs_background": "light"
          }
        },
        {
          "output_type": "display_data",
          "data": {
            "image/png": "[encoded data removed]",
            "text/plain": [
              "<Figure size 360x360 with 1 Axes>"
            ]
          },
          "metadata": {
            "needs_background": "light"
          }
        },
        {
          "output_type": "display_data",
          "data": {
            "image/png": "[encoded data removed]",
            "text/plain": [
              "<Figure size 360x360 with 1 Axes>"
            ]
          },
          "metadata": {
            "needs_background": "light"
          }
        },
        {
          "output_type": "display_data",
          "data": {
            "image/png": "[encoded data removed]",
            "text/plain": [
              "<Figure size 360x360 with 1 Axes>"
            ]
          },
          "metadata": {
            "needs_background": "light"
          }
        },
        {
          "output_type": "display_data",
          "data": {
            "image/png": "[encoded data removed]",
            "text/plain": [
              "<Figure size 360x360 with 1 Axes>"
            ]
          },
          "metadata": {
            "needs_background": "light"
          }
        },
        {
          "output_type": "display_data",
          "data": {
            "image/png": "[encoded data removed]",
            "text/plain": [
              "<Figure size 360x360 with 1 Axes>"
            ]
          },
          "metadata": {
            "needs_background": "light"
          }
        },
        {
          "output_type": "display_data",
          "data": {
            "image/png": "[encoded data removed]",
            "text/plain": [
              "<Figure size 360x360 with 1 Axes>"
            ]
          },
          "metadata": {
            "needs_background": "light"
          }
        },
        {
          "output_type": "display_data",
          "data": {
            "image/png": "[encoded data removed]",
            "text/plain": [
              "<Figure size 360x360 with 1 Axes>"
            ]
          },
          "metadata": {
            "needs_background": "light"
          }
        },
        {
          "output_type": "display_data",
          "data": {
            "image/png": "[encoded data removed]",
            "text/plain": [
              "<Figure size 360x360 with 1 Axes>"
            ]
          },
          "metadata": {
            "needs_background": "light"
          }
        }
      ]
    },
    {
      "cell_type": "code",
      "source": [
        "train['Departure Delay in Minutes'].describe()"
      ],
      "metadata": {
        "colab": {
          "base_uri": "https://localhost:8080/"
        },
        "id": "0I2zoSufsELV",
        "outputId": "8cf9bf1c-779e-4a40-c41f-f32aa98f5151"
      },
      "execution_count": null,
      "outputs": [
        {
          "output_type": "execute_result",
          "data": {
            "text/plain": [
              "count    3000.000000\n",
              "mean       15.634333\n",
              "std        45.083228\n",
              "min         0.000000\n",
              "25%         0.000000\n",
              "50%         0.000000\n",
              "75%        12.000000\n",
              "max      1128.000000\n",
              "Name: Departure Delay in Minutes, dtype: float64"
            ]
          },
          "metadata": {},
          "execution_count": 23
        }
      ]
    },
    {
      "cell_type": "code",
      "source": [
        "train.groupby(['target'])['Departure Delay in Minutes'].describe()"
      ],
      "metadata": {
        "colab": {
          "base_uri": "https://localhost:8080/",
          "height": 143
        },
        "id": "V9mGa2wEs5mK",
        "outputId": "a5cb4973-716e-4093-b46f-02a53a1bfc3d"
      },
      "execution_count": null,
      "outputs": [
        {
          "output_type": "execute_result",
          "data": {
            "text/html": [
              "\n",
              "  <div id=\"df-ca8f0a5b-89ec-4884-b3a6-0defc22ba422\">\n",
              "    <div class=\"colab-df-container\">\n",
              "      <div>\n",
              "<style scoped>\n",
              "    .dataframe tbody tr th:only-of-type {\n",
              "        vertical-align: middle;\n",
              "    }\n",
              "\n",
              "    .dataframe tbody tr th {\n",
              "        vertical-align: top;\n",
              "    }\n",
              "\n",
              "    .dataframe thead th {\n",
              "        text-align: right;\n",
              "    }\n",
              "</style>\n",
              "<table border=\"1\" class=\"dataframe\">\n",
              "  <thead>\n",
              "    <tr style=\"text-align: right;\">\n",
              "      <th></th>\n",
              "      <th>count</th>\n",
              "      <th>mean</th>\n",
              "      <th>std</th>\n",
              "      <th>min</th>\n",
              "      <th>25%</th>\n",
              "      <th>50%</th>\n",
              "      <th>75%</th>\n",
              "      <th>max</th>\n",
              "    </tr>\n",
              "    <tr>\n",
              "      <th>target</th>\n",
              "      <th></th>\n",
              "      <th></th>\n",
              "      <th></th>\n",
              "      <th></th>\n",
              "      <th></th>\n",
              "      <th></th>\n",
              "      <th></th>\n",
              "      <th></th>\n",
              "    </tr>\n",
              "  </thead>\n",
              "  <tbody>\n",
              "    <tr>\n",
              "      <th>0</th>\n",
              "      <td>1332.0</td>\n",
              "      <td>20.929429</td>\n",
              "      <td>57.729423</td>\n",
              "      <td>0.0</td>\n",
              "      <td>0.0</td>\n",
              "      <td>0.0</td>\n",
              "      <td>18.0</td>\n",
              "      <td>1128.0</td>\n",
              "    </tr>\n",
              "    <tr>\n",
              "      <th>1</th>\n",
              "      <td>1668.0</td>\n",
              "      <td>11.405875</td>\n",
              "      <td>30.907919</td>\n",
              "      <td>0.0</td>\n",
              "      <td>0.0</td>\n",
              "      <td>0.0</td>\n",
              "      <td>9.0</td>\n",
              "      <td>435.0</td>\n",
              "    </tr>\n",
              "  </tbody>\n",
              "</table>\n",
              "</div>\n",
              "      <button class=\"colab-df-convert\" onclick=\"convertToInteractive('df-ca8f0a5b-89ec-4884-b3a6-0defc22ba422')\"\n",
              "              title=\"Convert this dataframe to an interactive table.\"\n",
              "              style=\"display:none;\">\n",
              "        \n",
              "  <svg xmlns=\"http://www.w3.org/2000/svg\" height=\"24px\"viewBox=\"0 0 24 24\"\n",
              "       width=\"24px\">\n",
              "    <path d=\"M0 0h24v24H0V0z\" fill=\"none\"/>\n",
              "    <path d=\"M18.56 5.44l.94 2.06.94-2.06 2.06-.94-2.06-.94-.94-2.06-.94 2.06-2.06.94zm-11 1L8.5 8.5l.94-2.06 2.06-.94-2.06-.94L8.5 2.5l-.94 2.06-2.06.94zm10 10l.94 2.06.94-2.06 2.06-.94-2.06-.94-.94-2.06-.94 2.06-2.06.94z\"/><path d=\"M17.41 7.96l-1.37-1.37c-.4-.4-.92-.59-1.43-.59-.52 0-1.04.2-1.43.59L10.3 9.45l-7.72 7.72c-.78.78-.78 2.05 0 2.83L4 21.41c.39.39.9.59 1.41.59.51 0 1.02-.2 1.41-.59l7.78-7.78 2.81-2.81c.8-.78.8-2.07 0-2.86zM5.41 20L4 18.59l7.72-7.72 1.47 1.35L5.41 20z\"/>\n",
              "  </svg>\n",
              "      </button>\n",
              "      \n",
              "  <style>\n",
              "    .colab-df-container {\n",
              "      display:flex;\n",
              "      flex-wrap:wrap;\n",
              "      gap: 12px;\n",
              "    }\n",
              "\n",
              "    .colab-df-convert {\n",
              "      background-color: #E8F0FE;\n",
              "      border: none;\n",
              "      border-radius: 50%;\n",
              "      cursor: pointer;\n",
              "      display: none;\n",
              "      fill: #1967D2;\n",
              "      height: 32px;\n",
              "      padding: 0 0 0 0;\n",
              "      width: 32px;\n",
              "    }\n",
              "\n",
              "    .colab-df-convert:hover {\n",
              "      background-color: #E2EBFA;\n",
              "      box-shadow: 0px 1px 2px rgba(60, 64, 67, 0.3), 0px 1px 3px 1px rgba(60, 64, 67, 0.15);\n",
              "      fill: #174EA6;\n",
              "    }\n",
              "\n",
              "    [theme=dark] .colab-df-convert {\n",
              "      background-color: #3B4455;\n",
              "      fill: #D2E3FC;\n",
              "    }\n",
              "\n",
              "    [theme=dark] .colab-df-convert:hover {\n",
              "      background-color: #434B5C;\n",
              "      box-shadow: 0px 1px 3px 1px rgba(0, 0, 0, 0.15);\n",
              "      filter: drop-shadow(0px 1px 2px rgba(0, 0, 0, 0.3));\n",
              "      fill: #FFFFFF;\n",
              "    }\n",
              "  </style>\n",
              "\n",
              "      <script>\n",
              "        const buttonEl =\n",
              "          document.querySelector('#df-ca8f0a5b-89ec-4884-b3a6-0defc22ba422 button.colab-df-convert');\n",
              "        buttonEl.style.display =\n",
              "          google.colab.kernel.accessAllowed ? 'block' : 'none';\n",
              "\n",
              "        async function convertToInteractive(key) {\n",
              "          const element = document.querySelector('#df-ca8f0a5b-89ec-4884-b3a6-0defc22ba422');\n",
              "          const dataTable =\n",
              "            await google.colab.kernel.invokeFunction('convertToInteractive',\n",
              "                                                     [key], {});\n",
              "          if (!dataTable) return;\n",
              "\n",
              "          const docLinkHtml = 'Like what you see? Visit the ' +\n",
              "            '<a target=\"_blank\" href=https://colab.research.google.com/notebooks/data_table.ipynb>data table notebook</a>'\n",
              "            + ' to learn more about interactive tables.';\n",
              "          element.innerHTML = '';\n",
              "          dataTable['output_type'] = 'display_data';\n",
              "          await google.colab.output.renderOutput(dataTable, element);\n",
              "          const docLink = document.createElement('div');\n",
              "          docLink.innerHTML = docLinkHtml;\n",
              "          element.appendChild(docLink);\n",
              "        }\n",
              "      </script>\n",
              "    </div>\n",
              "  </div>\n",
              "  "
            ],
            "text/plain": [
              "         count       mean        std  min  25%  50%   75%     max\n",
              "target                                                           \n",
              "0       1332.0  20.929429  57.729423  0.0  0.0  0.0  18.0  1128.0\n",
              "1       1668.0  11.405875  30.907919  0.0  0.0  0.0   9.0   435.0"
            ]
          },
          "metadata": {},
          "execution_count": 25
        }
      ]
    },
    {
      "cell_type": "code",
      "source": [
        "f, ax = plt.subplots(figsize = (5,5))\n",
        "plt.hist(train['Flight Distance'], bins = 20, alpha = 0.5)\n",
        "plt.xlabel('Flight Distance')\n",
        "plt.ylabel('Count')\n",
        "plt.title('Flight Distance hist', fontsize = 14)\n",
        "\n",
        "plt.show()"
      ],
      "metadata": {
        "colab": {
          "base_uri": "https://localhost:8080/",
          "height": 351
        },
        "id": "M3SXNY-i6p4p",
        "outputId": "f67ff4b0-60bf-4e4f-aec2-d46622cc17fe"
      },
      "execution_count": null,
      "outputs": [
        {
          "output_type": "display_data",
          "data": {
            "image/png": "[encoded data removed]",
            "text/plain": [
              "<Figure size 360x360 with 1 Axes>"
            ]
          },
          "metadata": {
            "needs_background": "light"
          }
        }
      ]
    },
    {
      "cell_type": "code",
      "source": [
        "train.groupby(['target'])['Flight Distance'].describe()"
      ],
      "metadata": {
        "colab": {
          "base_uri": "https://localhost:8080/",
          "height": 143
        },
        "id": "V5JmiKXqLLrO",
        "outputId": "5e70b2a2-3dea-4f51-a9f0-36c83ae89d43"
      },
      "execution_count": null,
      "outputs": [
        {
          "output_type": "execute_result",
          "data": {
            "text/html": [
              "\n",
              "  <div id=\"df-344fc8dc-6678-4ff6-89a2-004814378558\">\n",
              "    <div class=\"colab-df-container\">\n",
              "      <div>\n",
              "<style scoped>\n",
              "    .dataframe tbody tr th:only-of-type {\n",
              "        vertical-align: middle;\n",
              "    }\n",
              "\n",
              "    .dataframe tbody tr th {\n",
              "        vertical-align: top;\n",
              "    }\n",
              "\n",
              "    .dataframe thead th {\n",
              "        text-align: right;\n",
              "    }\n",
              "</style>\n",
              "<table border=\"1\" class=\"dataframe\">\n",
              "  <thead>\n",
              "    <tr style=\"text-align: right;\">\n",
              "      <th></th>\n",
              "      <th>count</th>\n",
              "      <th>mean</th>\n",
              "      <th>std</th>\n",
              "      <th>min</th>\n",
              "      <th>25%</th>\n",
              "      <th>50%</th>\n",
              "      <th>75%</th>\n",
              "      <th>max</th>\n",
              "    </tr>\n",
              "    <tr>\n",
              "      <th>target</th>\n",
              "      <th></th>\n",
              "      <th></th>\n",
              "      <th></th>\n",
              "      <th></th>\n",
              "      <th></th>\n",
              "      <th></th>\n",
              "      <th></th>\n",
              "      <th></th>\n",
              "    </tr>\n",
              "  </thead>\n",
              "  <tbody>\n",
              "    <tr>\n",
              "      <th>0</th>\n",
              "      <td>1332.0</td>\n",
              "      <td>2042.963213</td>\n",
              "      <td>882.121266</td>\n",
              "      <td>63.0</td>\n",
              "      <td>1524.5</td>\n",
              "      <td>1978.5</td>\n",
              "      <td>2481.25</td>\n",
              "      <td>6882.0</td>\n",
              "    </tr>\n",
              "    <tr>\n",
              "      <th>1</th>\n",
              "      <td>1668.0</td>\n",
              "      <td>1935.258393</td>\n",
              "      <td>1129.225482</td>\n",
              "      <td>52.0</td>\n",
              "      <td>1061.0</td>\n",
              "      <td>1868.5</td>\n",
              "      <td>2654.00</td>\n",
              "      <td>6232.0</td>\n",
              "    </tr>\n",
              "  </tbody>\n",
              "</table>\n",
              "</div>\n",
              "      <button class=\"colab-df-convert\" onclick=\"convertToInteractive('df-344fc8dc-6678-4ff6-89a2-004814378558')\"\n",
              "              title=\"Convert this dataframe to an interactive table.\"\n",
              "              style=\"display:none;\">\n",
              "        \n",
              "  <svg xmlns=\"http://www.w3.org/2000/svg\" height=\"24px\"viewBox=\"0 0 24 24\"\n",
              "       width=\"24px\">\n",
              "    <path d=\"M0 0h24v24H0V0z\" fill=\"none\"/>\n",
              "    <path d=\"M18.56 5.44l.94 2.06.94-2.06 2.06-.94-2.06-.94-.94-2.06-.94 2.06-2.06.94zm-11 1L8.5 8.5l.94-2.06 2.06-.94-2.06-.94L8.5 2.5l-.94 2.06-2.06.94zm10 10l.94 2.06.94-2.06 2.06-.94-2.06-.94-.94-2.06-.94 2.06-2.06.94z\"/><path d=\"M17.41 7.96l-1.37-1.37c-.4-.4-.92-.59-1.43-.59-.52 0-1.04.2-1.43.59L10.3 9.45l-7.72 7.72c-.78.78-.78 2.05 0 2.83L4 21.41c.39.39.9.59 1.41.59.51 0 1.02-.2 1.41-.59l7.78-7.78 2.81-2.81c.8-.78.8-2.07 0-2.86zM5.41 20L4 18.59l7.72-7.72 1.47 1.35L5.41 20z\"/>\n",
              "  </svg>\n",
              "      </button>\n",
              "      \n",
              "  <style>\n",
              "    .colab-df-container {\n",
              "      display:flex;\n",
              "      flex-wrap:wrap;\n",
              "      gap: 12px;\n",
              "    }\n",
              "\n",
              "    .colab-df-convert {\n",
              "      background-color: #E8F0FE;\n",
              "      border: none;\n",
              "      border-radius: 50%;\n",
              "      cursor: pointer;\n",
              "      display: none;\n",
              "      fill: #1967D2;\n",
              "      height: 32px;\n",
              "      padding: 0 0 0 0;\n",
              "      width: 32px;\n",
              "    }\n",
              "\n",
              "    .colab-df-convert:hover {\n",
              "      background-color: #E2EBFA;\n",
              "      box-shadow: 0px 1px 2px rgba(60, 64, 67, 0.3), 0px 1px 3px 1px rgba(60, 64, 67, 0.15);\n",
              "      fill: #174EA6;\n",
              "    }\n",
              "\n",
              "    [theme=dark] .colab-df-convert {\n",
              "      background-color: #3B4455;\n",
              "      fill: #D2E3FC;\n",
              "    }\n",
              "\n",
              "    [theme=dark] .colab-df-convert:hover {\n",
              "      background-color: #434B5C;\n",
              "      box-shadow: 0px 1px 3px 1px rgba(0, 0, 0, 0.15);\n",
              "      filter: drop-shadow(0px 1px 2px rgba(0, 0, 0, 0.3));\n",
              "      fill: #FFFFFF;\n",
              "    }\n",
              "  </style>\n",
              "\n",
              "      <script>\n",
              "        const buttonEl =\n",
              "          document.querySelector('#df-344fc8dc-6678-4ff6-89a2-004814378558 button.colab-df-convert');\n",
              "        buttonEl.style.display =\n",
              "          google.colab.kernel.accessAllowed ? 'block' : 'none';\n",
              "\n",
              "        async function convertToInteractive(key) {\n",
              "          const element = document.querySelector('#df-344fc8dc-6678-4ff6-89a2-004814378558');\n",
              "          const dataTable =\n",
              "            await google.colab.kernel.invokeFunction('convertToInteractive',\n",
              "                                                     [key], {});\n",
              "          if (!dataTable) return;\n",
              "\n",
              "          const docLinkHtml = 'Like what you see? Visit the ' +\n",
              "            '<a target=\"_blank\" href=https://colab.research.google.com/notebooks/data_table.ipynb>data table notebook</a>'\n",
              "            + ' to learn more about interactive tables.';\n",
              "          element.innerHTML = '';\n",
              "          dataTable['output_type'] = 'display_data';\n",
              "          await google.colab.output.renderOutput(dataTable, element);\n",
              "          const docLink = document.createElement('div');\n",
              "          docLink.innerHTML = docLinkHtml;\n",
              "          element.appendChild(docLink);\n",
              "        }\n",
              "      </script>\n",
              "    </div>\n",
              "  </div>\n",
              "  "
            ],
            "text/plain": [
              "         count         mean          std   min     25%     50%      75%     max\n",
              "target                                                                         \n",
              "0       1332.0  2042.963213   882.121266  63.0  1524.5  1978.5  2481.25  6882.0\n",
              "1       1668.0  1935.258393  1129.225482  52.0  1061.0  1868.5  2654.00  6232.0"
            ]
          },
          "metadata": {},
          "execution_count": 84
        }
      ]
    },
    {
      "cell_type": "code",
      "source": [
        "f, ax = plt.subplots(figsize = (5,5))\n",
        "plt.hist(train['Departure Delay in Minutes'], bins = 10, alpha = 0.5)\n",
        "plt.xlabel('Departure Delay in Minutes')\n",
        "plt.ylabel('Count')\n",
        "plt.title('Departure Delay in Minutes hist', fontsize = 14)\n",
        "\n",
        "plt.show()"
      ],
      "metadata": {
        "colab": {
          "base_uri": "https://localhost:8080/",
          "height": 351
        },
        "id": "YJh3kKRl684d",
        "outputId": "43fd7321-a34a-48e4-de82-493ae9c47558"
      },
      "execution_count": null,
      "outputs": [
        {
          "output_type": "display_data",
          "data": {
            "image/png": "[encoded data removed]",
            "text/plain": [
              "<Figure size 360x360 with 1 Axes>"
            ]
          },
          "metadata": {
            "needs_background": "light"
          }
        }
      ]
    },
    {
      "cell_type": "code",
      "source": [
        "f, ax = plt.subplots(figsize = (5,5))\n",
        "plt.hist(train['Arrival Delay in Minutes'], bins = 10, alpha = 0.5)\n",
        "plt.xlabel('Arrival Delay in Minutes')\n",
        "plt.ylabel('Count')\n",
        "plt.title('Arrival Delay in Minutes hist', fontsize = 14)\n",
        "\n",
        "plt.show()"
      ],
      "metadata": {
        "colab": {
          "base_uri": "https://localhost:8080/",
          "height": 351
        },
        "id": "U_nW4xEN83hA",
        "outputId": "5fa02644-61b6-4390-d31c-675f54b20e78"
      },
      "execution_count": null,
      "outputs": [
        {
          "output_type": "display_data",
          "data": {
            "image/png": "[encoded data removed]",
            "text/plain": [
              "<Figure size 360x360 with 1 Axes>"
            ]
          },
          "metadata": {
            "needs_background": "light"
          }
        }
      ]
    },
    {
      "cell_type": "code",
      "source": [
        "train['minus'] = train['Departure Delay in Minutes']-train['Arrival Delay in Minutes']\n",
        "train.groupby(['target'])['minus'].describe()"
      ],
      "metadata": {
        "colab": {
          "base_uri": "https://localhost:8080/",
          "height": 143
        },
        "id": "ND0qk5kA9DqO",
        "outputId": "7a7533d6-0b1f-41d8-a1ba-cba5d3ec8bdd"
      },
      "execution_count": null,
      "outputs": [
        {
          "output_type": "execute_result",
          "data": {
            "text/html": [
              "\n",
              "  <div id=\"df-47229219-2bd8-4fb6-8935-11e7fe0b60a0\">\n",
              "    <div class=\"colab-df-container\">\n",
              "      <div>\n",
              "<style scoped>\n",
              "    .dataframe tbody tr th:only-of-type {\n",
              "        vertical-align: middle;\n",
              "    }\n",
              "\n",
              "    .dataframe tbody tr th {\n",
              "        vertical-align: top;\n",
              "    }\n",
              "\n",
              "    .dataframe thead th {\n",
              "        text-align: right;\n",
              "    }\n",
              "</style>\n",
              "<table border=\"1\" class=\"dataframe\">\n",
              "  <thead>\n",
              "    <tr style=\"text-align: right;\">\n",
              "      <th></th>\n",
              "      <th>count</th>\n",
              "      <th>mean</th>\n",
              "      <th>std</th>\n",
              "      <th>min</th>\n",
              "      <th>25%</th>\n",
              "      <th>50%</th>\n",
              "      <th>75%</th>\n",
              "      <th>max</th>\n",
              "    </tr>\n",
              "    <tr>\n",
              "      <th>target</th>\n",
              "      <th></th>\n",
              "      <th></th>\n",
              "      <th></th>\n",
              "      <th></th>\n",
              "      <th></th>\n",
              "      <th></th>\n",
              "      <th></th>\n",
              "      <th></th>\n",
              "    </tr>\n",
              "  </thead>\n",
              "  <tbody>\n",
              "    <tr>\n",
              "      <th>0</th>\n",
              "      <td>1332.0</td>\n",
              "      <td>-0.674174</td>\n",
              "      <td>10.934151</td>\n",
              "      <td>-104.0</td>\n",
              "      <td>-1.0</td>\n",
              "      <td>0.0</td>\n",
              "      <td>3.0</td>\n",
              "      <td>35.0</td>\n",
              "    </tr>\n",
              "    <tr>\n",
              "      <th>1</th>\n",
              "      <td>1668.0</td>\n",
              "      <td>0.020983</td>\n",
              "      <td>8.598359</td>\n",
              "      <td>-98.0</td>\n",
              "      <td>0.0</td>\n",
              "      <td>0.0</td>\n",
              "      <td>2.0</td>\n",
              "      <td>40.0</td>\n",
              "    </tr>\n",
              "  </tbody>\n",
              "</table>\n",
              "</div>\n",
              "      <button class=\"colab-df-convert\" onclick=\"convertToInteractive('df-47229219-2bd8-4fb6-8935-11e7fe0b60a0')\"\n",
              "              title=\"Convert this dataframe to an interactive table.\"\n",
              "              style=\"display:none;\">\n",
              "        \n",
              "  <svg xmlns=\"http://www.w3.org/2000/svg\" height=\"24px\"viewBox=\"0 0 24 24\"\n",
              "       width=\"24px\">\n",
              "    <path d=\"M0 0h24v24H0V0z\" fill=\"none\"/>\n",
              "    <path d=\"M18.56 5.44l.94 2.06.94-2.06 2.06-.94-2.06-.94-.94-2.06-.94 2.06-2.06.94zm-11 1L8.5 8.5l.94-2.06 2.06-.94-2.06-.94L8.5 2.5l-.94 2.06-2.06.94zm10 10l.94 2.06.94-2.06 2.06-.94-2.06-.94-.94-2.06-.94 2.06-2.06.94z\"/><path d=\"M17.41 7.96l-1.37-1.37c-.4-.4-.92-.59-1.43-.59-.52 0-1.04.2-1.43.59L10.3 9.45l-7.72 7.72c-.78.78-.78 2.05 0 2.83L4 21.41c.39.39.9.59 1.41.59.51 0 1.02-.2 1.41-.59l7.78-7.78 2.81-2.81c.8-.78.8-2.07 0-2.86zM5.41 20L4 18.59l7.72-7.72 1.47 1.35L5.41 20z\"/>\n",
              "  </svg>\n",
              "      </button>\n",
              "      \n",
              "  <style>\n",
              "    .colab-df-container {\n",
              "      display:flex;\n",
              "      flex-wrap:wrap;\n",
              "      gap: 12px;\n",
              "    }\n",
              "\n",
              "    .colab-df-convert {\n",
              "      background-color: #E8F0FE;\n",
              "      border: none;\n",
              "      border-radius: 50%;\n",
              "      cursor: pointer;\n",
              "      display: none;\n",
              "      fill: #1967D2;\n",
              "      height: 32px;\n",
              "      padding: 0 0 0 0;\n",
              "      width: 32px;\n",
              "    }\n",
              "\n",
              "    .colab-df-convert:hover {\n",
              "      background-color: #E2EBFA;\n",
              "      box-shadow: 0px 1px 2px rgba(60, 64, 67, 0.3), 0px 1px 3px 1px rgba(60, 64, 67, 0.15);\n",
              "      fill: #174EA6;\n",
              "    }\n",
              "\n",
              "    [theme=dark] .colab-df-convert {\n",
              "      background-color: #3B4455;\n",
              "      fill: #D2E3FC;\n",
              "    }\n",
              "\n",
              "    [theme=dark] .colab-df-convert:hover {\n",
              "      background-color: #434B5C;\n",
              "      box-shadow: 0px 1px 3px 1px rgba(0, 0, 0, 0.15);\n",
              "      filter: drop-shadow(0px 1px 2px rgba(0, 0, 0, 0.3));\n",
              "      fill: #FFFFFF;\n",
              "    }\n",
              "  </style>\n",
              "\n",
              "      <script>\n",
              "        const buttonEl =\n",
              "          document.querySelector('#df-47229219-2bd8-4fb6-8935-11e7fe0b60a0 button.colab-df-convert');\n",
              "        buttonEl.style.display =\n",
              "          google.colab.kernel.accessAllowed ? 'block' : 'none';\n",
              "\n",
              "        async function convertToInteractive(key) {\n",
              "          const element = document.querySelector('#df-47229219-2bd8-4fb6-8935-11e7fe0b60a0');\n",
              "          const dataTable =\n",
              "            await google.colab.kernel.invokeFunction('convertToInteractive',\n",
              "                                                     [key], {});\n",
              "          if (!dataTable) return;\n",
              "\n",
              "          const docLinkHtml = 'Like what you see? Visit the ' +\n",
              "            '<a target=\"_blank\" href=https://colab.research.google.com/notebooks/data_table.ipynb>data table notebook</a>'\n",
              "            + ' to learn more about interactive tables.';\n",
              "          element.innerHTML = '';\n",
              "          dataTable['output_type'] = 'display_data';\n",
              "          await google.colab.output.renderOutput(dataTable, element);\n",
              "          const docLink = document.createElement('div');\n",
              "          docLink.innerHTML = docLinkHtml;\n",
              "          element.appendChild(docLink);\n",
              "        }\n",
              "      </script>\n",
              "    </div>\n",
              "  </div>\n",
              "  "
            ],
            "text/plain": [
              "         count      mean        std    min  25%  50%  75%   max\n",
              "target                                                         \n",
              "0       1332.0 -0.674174  10.934151 -104.0 -1.0  0.0  3.0  35.0\n",
              "1       1668.0  0.020983   8.598359  -98.0  0.0  0.0  2.0  40.0"
            ]
          },
          "metadata": {},
          "execution_count": 65
        }
      ]
    },
    {
      "cell_type": "code",
      "source": [
        "plt.subplots(figsize = (5,5))\n",
        "\n",
        "sns.scatterplot(x = train['Departure Delay in Minutes'], y = train['target'])\n",
        "plt.show()"
      ],
      "metadata": {
        "colab": {
          "base_uri": "https://localhost:8080/",
          "height": 334
        },
        "id": "e5cBKm1rAV78",
        "outputId": "7c30ac49-bf23-474e-a0f9-c8907ace82c8"
      },
      "execution_count": null,
      "outputs": [
        {
          "output_type": "display_data",
          "data": {
            "image/png": "[encoded data removed]",
            "text/plain": [
              "<Figure size 360x360 with 1 Axes>"
            ]
          },
          "metadata": {
            "needs_background": "light"
          }
        }
      ]
    },
    {
      "cell_type": "code",
      "source": [
        "train[train['Departure Delay in Minutes']>=200]['target'].value_counts(normalize = True)"
      ],
      "metadata": {
        "colab": {
          "base_uri": "https://localhost:8080/"
        },
        "id": "zNvAGfavAz7S",
        "outputId": "9a397574-6cac-4d5d-a332-fe08e8900db0"
      },
      "execution_count": null,
      "outputs": [
        {
          "output_type": "execute_result",
          "data": {
            "text/plain": [
              "0    0.727273\n",
              "1    0.272727\n",
              "Name: target, dtype: float64"
            ]
          },
          "metadata": {},
          "execution_count": 9
        }
      ]
    },
    {
      "cell_type": "code",
      "source": [
        "M = list(range(-10,45,5))\n",
        "for i in M:\n",
        "\n",
        "  print('minus & target minus : '+ str(i),'\\n',train[train['minus']>=i]['target'].value_counts(normalize = True))"
      ],
      "metadata": {
        "colab": {
          "base_uri": "https://localhost:8080/"
        },
        "id": "2tYPnHYyBhsz",
        "outputId": "5ae06e04-6f47-4291-fbff-1160d879b186"
      },
      "execution_count": null,
      "outputs": [
        {
          "output_type": "stream",
          "name": "stdout",
          "text": [
            "minus & target minus : -10 \n",
            " 1    0.564855\n",
            "0    0.435145\n",
            "Name: target, dtype: float64\n",
            "minus & target minus : -5 \n",
            " 1    0.575369\n",
            "0    0.424631\n",
            "Name: target, dtype: float64\n",
            "minus & target minus : 0 \n",
            " 1    0.576346\n",
            "0    0.423654\n",
            "Name: target, dtype: float64\n",
            "minus & target minus : 5 \n",
            " 1    0.507353\n",
            "0    0.492647\n",
            "Name: target, dtype: float64\n",
            "minus & target minus : 10 \n",
            " 1    0.5\n",
            "0    0.5\n",
            "Name: target, dtype: float64\n",
            "minus & target minus : 15 \n",
            " 0    0.519084\n",
            "1    0.480916\n",
            "Name: target, dtype: float64\n",
            "minus & target minus : 20 \n",
            " 0    0.592593\n",
            "1    0.407407\n",
            "Name: target, dtype: float64\n",
            "minus & target minus : 25 \n",
            " 0    0.590909\n",
            "1    0.409091\n",
            "Name: target, dtype: float64\n",
            "minus & target minus : 30 \n",
            " 1    0.8\n",
            "0    0.2\n",
            "Name: target, dtype: float64\n",
            "minus & target minus : 35 \n",
            " 1    0.666667\n",
            "0    0.333333\n",
            "Name: target, dtype: float64\n",
            "minus & target minus : 40 \n",
            " 1    1.0\n",
            "Name: target, dtype: float64\n"
          ]
        }
      ]
    },
    {
      "cell_type": "code",
      "source": [
        "con = pd.DataFrame()\n",
        "for i in M:\n",
        "  a = train[train['minus']>=i]['target'].value_counts(normalize = True).to_frame().T\n",
        "  con = pd.concat([con,a])\n",
        "con['idx'] = M\n",
        "\n",
        "con.set_index('idx', inplace = True)\n",
        "con"
      ],
      "metadata": {
        "colab": {
          "base_uri": "https://localhost:8080/",
          "height": 425
        },
        "id": "wv-HF6E9C4oC",
        "outputId": "aed2003d-4b2f-41d3-c6be-8da29dbec7ad"
      },
      "execution_count": null,
      "outputs": [
        {
          "output_type": "execute_result",
          "data": {
            "text/html": [
              "\n",
              "  <div id=\"df-541319ae-3cc9-4a3c-9563-54db89ca4347\">\n",
              "    <div class=\"colab-df-container\">\n",
              "      <div>\n",
              "<style scoped>\n",
              "    .dataframe tbody tr th:only-of-type {\n",
              "        vertical-align: middle;\n",
              "    }\n",
              "\n",
              "    .dataframe tbody tr th {\n",
              "        vertical-align: top;\n",
              "    }\n",
              "\n",
              "    .dataframe thead th {\n",
              "        text-align: right;\n",
              "    }\n",
              "</style>\n",
              "<table border=\"1\" class=\"dataframe\">\n",
              "  <thead>\n",
              "    <tr style=\"text-align: right;\">\n",
              "      <th></th>\n",
              "      <th>0</th>\n",
              "      <th>1</th>\n",
              "    </tr>\n",
              "    <tr>\n",
              "      <th>idx</th>\n",
              "      <th></th>\n",
              "      <th></th>\n",
              "    </tr>\n",
              "  </thead>\n",
              "  <tbody>\n",
              "    <tr>\n",
              "      <th>-10</th>\n",
              "      <td>0.435145</td>\n",
              "      <td>0.564855</td>\n",
              "    </tr>\n",
              "    <tr>\n",
              "      <th>-5</th>\n",
              "      <td>0.424631</td>\n",
              "      <td>0.575369</td>\n",
              "    </tr>\n",
              "    <tr>\n",
              "      <th>0</th>\n",
              "      <td>0.423654</td>\n",
              "      <td>0.576346</td>\n",
              "    </tr>\n",
              "    <tr>\n",
              "      <th>5</th>\n",
              "      <td>0.492647</td>\n",
              "      <td>0.507353</td>\n",
              "    </tr>\n",
              "    <tr>\n",
              "      <th>10</th>\n",
              "      <td>0.500000</td>\n",
              "      <td>0.500000</td>\n",
              "    </tr>\n",
              "    <tr>\n",
              "      <th>15</th>\n",
              "      <td>0.519084</td>\n",
              "      <td>0.480916</td>\n",
              "    </tr>\n",
              "    <tr>\n",
              "      <th>20</th>\n",
              "      <td>0.592593</td>\n",
              "      <td>0.407407</td>\n",
              "    </tr>\n",
              "    <tr>\n",
              "      <th>25</th>\n",
              "      <td>0.590909</td>\n",
              "      <td>0.409091</td>\n",
              "    </tr>\n",
              "    <tr>\n",
              "      <th>30</th>\n",
              "      <td>0.200000</td>\n",
              "      <td>0.800000</td>\n",
              "    </tr>\n",
              "    <tr>\n",
              "      <th>35</th>\n",
              "      <td>0.333333</td>\n",
              "      <td>0.666667</td>\n",
              "    </tr>\n",
              "    <tr>\n",
              "      <th>40</th>\n",
              "      <td>NaN</td>\n",
              "      <td>1.000000</td>\n",
              "    </tr>\n",
              "  </tbody>\n",
              "</table>\n",
              "</div>\n",
              "      <button class=\"colab-df-convert\" onclick=\"convertToInteractive('df-541319ae-3cc9-4a3c-9563-54db89ca4347')\"\n",
              "              title=\"Convert this dataframe to an interactive table.\"\n",
              "              style=\"display:none;\">\n",
              "        \n",
              "  <svg xmlns=\"http://www.w3.org/2000/svg\" height=\"24px\"viewBox=\"0 0 24 24\"\n",
              "       width=\"24px\">\n",
              "    <path d=\"M0 0h24v24H0V0z\" fill=\"none\"/>\n",
              "    <path d=\"M18.56 5.44l.94 2.06.94-2.06 2.06-.94-2.06-.94-.94-2.06-.94 2.06-2.06.94zm-11 1L8.5 8.5l.94-2.06 2.06-.94-2.06-.94L8.5 2.5l-.94 2.06-2.06.94zm10 10l.94 2.06.94-2.06 2.06-.94-2.06-.94-.94-2.06-.94 2.06-2.06.94z\"/><path d=\"M17.41 7.96l-1.37-1.37c-.4-.4-.92-.59-1.43-.59-.52 0-1.04.2-1.43.59L10.3 9.45l-7.72 7.72c-.78.78-.78 2.05 0 2.83L4 21.41c.39.39.9.59 1.41.59.51 0 1.02-.2 1.41-.59l7.78-7.78 2.81-2.81c.8-.78.8-2.07 0-2.86zM5.41 20L4 18.59l7.72-7.72 1.47 1.35L5.41 20z\"/>\n",
              "  </svg>\n",
              "      </button>\n",
              "      \n",
              "  <style>\n",
              "    .colab-df-container {\n",
              "      display:flex;\n",
              "      flex-wrap:wrap;\n",
              "      gap: 12px;\n",
              "    }\n",
              "\n",
              "    .colab-df-convert {\n",
              "      background-color: #E8F0FE;\n",
              "      border: none;\n",
              "      border-radius: 50%;\n",
              "      cursor: pointer;\n",
              "      display: none;\n",
              "      fill: #1967D2;\n",
              "      height: 32px;\n",
              "      padding: 0 0 0 0;\n",
              "      width: 32px;\n",
              "    }\n",
              "\n",
              "    .colab-df-convert:hover {\n",
              "      background-color: #E2EBFA;\n",
              "      box-shadow: 0px 1px 2px rgba(60, 64, 67, 0.3), 0px 1px 3px 1px rgba(60, 64, 67, 0.15);\n",
              "      fill: #174EA6;\n",
              "    }\n",
              "\n",
              "    [theme=dark] .colab-df-convert {\n",
              "      background-color: #3B4455;\n",
              "      fill: #D2E3FC;\n",
              "    }\n",
              "\n",
              "    [theme=dark] .colab-df-convert:hover {\n",
              "      background-color: #434B5C;\n",
              "      box-shadow: 0px 1px 3px 1px rgba(0, 0, 0, 0.15);\n",
              "      filter: drop-shadow(0px 1px 2px rgba(0, 0, 0, 0.3));\n",
              "      fill: #FFFFFF;\n",
              "    }\n",
              "  </style>\n",
              "\n",
              "      <script>\n",
              "        const buttonEl =\n",
              "          document.querySelector('#df-541319ae-3cc9-4a3c-9563-54db89ca4347 button.colab-df-convert');\n",
              "        buttonEl.style.display =\n",
              "          google.colab.kernel.accessAllowed ? 'block' : 'none';\n",
              "\n",
              "        async function convertToInteractive(key) {\n",
              "          const element = document.querySelector('#df-541319ae-3cc9-4a3c-9563-54db89ca4347');\n",
              "          const dataTable =\n",
              "            await google.colab.kernel.invokeFunction('convertToInteractive',\n",
              "                                                     [key], {});\n",
              "          if (!dataTable) return;\n",
              "\n",
              "          const docLinkHtml = 'Like what you see? Visit the ' +\n",
              "            '<a target=\"_blank\" href=https://colab.research.google.com/notebooks/data_table.ipynb>data table notebook</a>'\n",
              "            + ' to learn more about interactive tables.';\n",
              "          element.innerHTML = '';\n",
              "          dataTable['output_type'] = 'display_data';\n",
              "          await google.colab.output.renderOutput(dataTable, element);\n",
              "          const docLink = document.createElement('div');\n",
              "          docLink.innerHTML = docLinkHtml;\n",
              "          element.appendChild(docLink);\n",
              "        }\n",
              "      </script>\n",
              "    </div>\n",
              "  </div>\n",
              "  "
            ],
            "text/plain": [
              "            0         1\n",
              "idx                    \n",
              "-10  0.435145  0.564855\n",
              "-5   0.424631  0.575369\n",
              " 0   0.423654  0.576346\n",
              " 5   0.492647  0.507353\n",
              " 10  0.500000  0.500000\n",
              " 15  0.519084  0.480916\n",
              " 20  0.592593  0.407407\n",
              " 25  0.590909  0.409091\n",
              " 30  0.200000  0.800000\n",
              " 35  0.333333  0.666667\n",
              " 40       NaN  1.000000"
            ]
          },
          "metadata": {},
          "execution_count": 80
        }
      ]
    },
    {
      "cell_type": "code",
      "source": [
        "plt.subplots(figsize = (8,5))\n",
        "\n",
        "con[0].plot()\n",
        "con[1].plot()\n",
        "plt.legend(fontsize = 12)\n",
        "plt.title('Minus & target', fontsize = 14)\n",
        "plt.xlabel('delay min')\n",
        "plt.show()"
      ],
      "metadata": {
        "colab": {
          "base_uri": "https://localhost:8080/",
          "height": 351
        },
        "id": "UzX6vCexIb_G",
        "outputId": "369faaf7-c3d4-4c05-e901-0ee3a3707f67"
      },
      "execution_count": null,
      "outputs": [
        {
          "output_type": "display_data",
          "data": {
            "image/png": "[encoded data removed]",
            "text/plain": [
              "<Figure size 576x360 with 1 Axes>"
            ]
          },
          "metadata": {
            "needs_background": "light"
          }
        }
      ]
    },
    {
      "cell_type": "markdown",
      "source": [
        "- 아니 좀 희안하네 minus라는 변수는 출발지연시간-도착지연시간인데 당연히 -라면 좋아해야하는거 아닌가.. "
      ],
      "metadata": {
        "id": "5hf2EPibCh9U"
      }
    },
    {
      "cell_type": "code",
      "source": [
        "con = pd.DataFrame()\n",
        "M = list(range(min(train['Departure Delay in Minutes']), max(train['Departure Delay in Minutes']),10))\n",
        "for i in M:\n",
        "  a = train[train['Departure Delay in Minutes']>=i]['target'].value_counts(normalize = True).to_frame().T\n",
        "  con = pd.concat([con,a])\n",
        "con['idx'] = M\n",
        "\n",
        "con.set_index('idx', inplace = True)\n",
        "con"
      ],
      "metadata": {
        "colab": {
          "base_uri": "https://localhost:8080/",
          "height": 454
        },
        "id": "1IbAvzGhBzbW",
        "outputId": "c95b5453-0ecb-4b9e-8223-83930e6d8747"
      },
      "execution_count": null,
      "outputs": [
        {
          "output_type": "execute_result",
          "data": {
            "text/html": [
              "\n",
              "  <div id=\"df-910ae972-1d48-4116-9a8e-7841639f1da6\">\n",
              "    <div class=\"colab-df-container\">\n",
              "      <div>\n",
              "<style scoped>\n",
              "    .dataframe tbody tr th:only-of-type {\n",
              "        vertical-align: middle;\n",
              "    }\n",
              "\n",
              "    .dataframe tbody tr th {\n",
              "        vertical-align: top;\n",
              "    }\n",
              "\n",
              "    .dataframe thead th {\n",
              "        text-align: right;\n",
              "    }\n",
              "</style>\n",
              "<table border=\"1\" class=\"dataframe\">\n",
              "  <thead>\n",
              "    <tr style=\"text-align: right;\">\n",
              "      <th></th>\n",
              "      <th>0</th>\n",
              "      <th>1</th>\n",
              "    </tr>\n",
              "    <tr>\n",
              "      <th>idx</th>\n",
              "      <th></th>\n",
              "      <th></th>\n",
              "    </tr>\n",
              "  </thead>\n",
              "  <tbody>\n",
              "    <tr>\n",
              "      <th>0</th>\n",
              "      <td>0.444000</td>\n",
              "      <td>0.556000</td>\n",
              "    </tr>\n",
              "    <tr>\n",
              "      <th>10</th>\n",
              "      <td>0.508314</td>\n",
              "      <td>0.491686</td>\n",
              "    </tr>\n",
              "    <tr>\n",
              "      <th>20</th>\n",
              "      <td>0.544068</td>\n",
              "      <td>0.455932</td>\n",
              "    </tr>\n",
              "    <tr>\n",
              "      <th>30</th>\n",
              "      <td>0.576923</td>\n",
              "      <td>0.423077</td>\n",
              "    </tr>\n",
              "    <tr>\n",
              "      <th>40</th>\n",
              "      <td>0.597101</td>\n",
              "      <td>0.402899</td>\n",
              "    </tr>\n",
              "    <tr>\n",
              "      <th>...</th>\n",
              "      <td>...</td>\n",
              "      <td>...</td>\n",
              "    </tr>\n",
              "    <tr>\n",
              "      <th>1080</th>\n",
              "      <td>1.000000</td>\n",
              "      <td>NaN</td>\n",
              "    </tr>\n",
              "    <tr>\n",
              "      <th>1090</th>\n",
              "      <td>1.000000</td>\n",
              "      <td>NaN</td>\n",
              "    </tr>\n",
              "    <tr>\n",
              "      <th>1100</th>\n",
              "      <td>1.000000</td>\n",
              "      <td>NaN</td>\n",
              "    </tr>\n",
              "    <tr>\n",
              "      <th>1110</th>\n",
              "      <td>1.000000</td>\n",
              "      <td>NaN</td>\n",
              "    </tr>\n",
              "    <tr>\n",
              "      <th>1120</th>\n",
              "      <td>1.000000</td>\n",
              "      <td>NaN</td>\n",
              "    </tr>\n",
              "  </tbody>\n",
              "</table>\n",
              "<p>113 rows × 2 columns</p>\n",
              "</div>\n",
              "      <button class=\"colab-df-convert\" onclick=\"convertToInteractive('df-910ae972-1d48-4116-9a8e-7841639f1da6')\"\n",
              "              title=\"Convert this dataframe to an interactive table.\"\n",
              "              style=\"display:none;\">\n",
              "        \n",
              "  <svg xmlns=\"http://www.w3.org/2000/svg\" height=\"24px\"viewBox=\"0 0 24 24\"\n",
              "       width=\"24px\">\n",
              "    <path d=\"M0 0h24v24H0V0z\" fill=\"none\"/>\n",
              "    <path d=\"M18.56 5.44l.94 2.06.94-2.06 2.06-.94-2.06-.94-.94-2.06-.94 2.06-2.06.94zm-11 1L8.5 8.5l.94-2.06 2.06-.94-2.06-.94L8.5 2.5l-.94 2.06-2.06.94zm10 10l.94 2.06.94-2.06 2.06-.94-2.06-.94-.94-2.06-.94 2.06-2.06.94z\"/><path d=\"M17.41 7.96l-1.37-1.37c-.4-.4-.92-.59-1.43-.59-.52 0-1.04.2-1.43.59L10.3 9.45l-7.72 7.72c-.78.78-.78 2.05 0 2.83L4 21.41c.39.39.9.59 1.41.59.51 0 1.02-.2 1.41-.59l7.78-7.78 2.81-2.81c.8-.78.8-2.07 0-2.86zM5.41 20L4 18.59l7.72-7.72 1.47 1.35L5.41 20z\"/>\n",
              "  </svg>\n",
              "      </button>\n",
              "      \n",
              "  <style>\n",
              "    .colab-df-container {\n",
              "      display:flex;\n",
              "      flex-wrap:wrap;\n",
              "      gap: 12px;\n",
              "    }\n",
              "\n",
              "    .colab-df-convert {\n",
              "      background-color: #E8F0FE;\n",
              "      border: none;\n",
              "      border-radius: 50%;\n",
              "      cursor: pointer;\n",
              "      display: none;\n",
              "      fill: #1967D2;\n",
              "      height: 32px;\n",
              "      padding: 0 0 0 0;\n",
              "      width: 32px;\n",
              "    }\n",
              "\n",
              "    .colab-df-convert:hover {\n",
              "      background-color: #E2EBFA;\n",
              "      box-shadow: 0px 1px 2px rgba(60, 64, 67, 0.3), 0px 1px 3px 1px rgba(60, 64, 67, 0.15);\n",
              "      fill: #174EA6;\n",
              "    }\n",
              "\n",
              "    [theme=dark] .colab-df-convert {\n",
              "      background-color: #3B4455;\n",
              "      fill: #D2E3FC;\n",
              "    }\n",
              "\n",
              "    [theme=dark] .colab-df-convert:hover {\n",
              "      background-color: #434B5C;\n",
              "      box-shadow: 0px 1px 3px 1px rgba(0, 0, 0, 0.15);\n",
              "      filter: drop-shadow(0px 1px 2px rgba(0, 0, 0, 0.3));\n",
              "      fill: #FFFFFF;\n",
              "    }\n",
              "  </style>\n",
              "\n",
              "      <script>\n",
              "        const buttonEl =\n",
              "          document.querySelector('#df-910ae972-1d48-4116-9a8e-7841639f1da6 button.colab-df-convert');\n",
              "        buttonEl.style.display =\n",
              "          google.colab.kernel.accessAllowed ? 'block' : 'none';\n",
              "\n",
              "        async function convertToInteractive(key) {\n",
              "          const element = document.querySelector('#df-910ae972-1d48-4116-9a8e-7841639f1da6');\n",
              "          const dataTable =\n",
              "            await google.colab.kernel.invokeFunction('convertToInteractive',\n",
              "                                                     [key], {});\n",
              "          if (!dataTable) return;\n",
              "\n",
              "          const docLinkHtml = 'Like what you see? Visit the ' +\n",
              "            '<a target=\"_blank\" href=https://colab.research.google.com/notebooks/data_table.ipynb>data table notebook</a>'\n",
              "            + ' to learn more about interactive tables.';\n",
              "          element.innerHTML = '';\n",
              "          dataTable['output_type'] = 'display_data';\n",
              "          await google.colab.output.renderOutput(dataTable, element);\n",
              "          const docLink = document.createElement('div');\n",
              "          docLink.innerHTML = docLinkHtml;\n",
              "          element.appendChild(docLink);\n",
              "        }\n",
              "      </script>\n",
              "    </div>\n",
              "  </div>\n",
              "  "
            ],
            "text/plain": [
              "             0         1\n",
              "idx                     \n",
              "0     0.444000  0.556000\n",
              "10    0.508314  0.491686\n",
              "20    0.544068  0.455932\n",
              "30    0.576923  0.423077\n",
              "40    0.597101  0.402899\n",
              "...        ...       ...\n",
              "1080  1.000000       NaN\n",
              "1090  1.000000       NaN\n",
              "1100  1.000000       NaN\n",
              "1110  1.000000       NaN\n",
              "1120  1.000000       NaN\n",
              "\n",
              "[113 rows x 2 columns]"
            ]
          },
          "metadata": {},
          "execution_count": 64
        }
      ]
    },
    {
      "cell_type": "code",
      "source": [
        "plt.subplots(figsize = (8,5))\n",
        "\n",
        "con[0].plot()\n",
        "con[1].plot()\n",
        "plt.legend(fontsize = 12)\n",
        "plt.title('Departure Delay in Minutes & target', fontsize = 14)\n",
        "plt.xlabel('delay min')\n",
        "plt.show()"
      ],
      "metadata": {
        "colab": {
          "base_uri": "https://localhost:8080/",
          "height": 351
        },
        "id": "gC_Pt2J3CC_g",
        "outputId": "bc1d4d39-f10d-45ca-d477-17c9ac373b5d"
      },
      "execution_count": null,
      "outputs": [
        {
          "output_type": "display_data",
          "data": {
            "image/png": "[encoded data removed]",
            "text/plain": [
              "<Figure size 576x360 with 1 Axes>"
            ]
          },
          "metadata": {
            "needs_background": "light"
          }
        }
      ]
    },
    {
      "cell_type": "code",
      "source": [
        "con = pd.DataFrame()\n",
        "M = list(range(int(min(train['Arrival Delay in Minutes'])), int(max(train['Arrival Delay in Minutes'])),10))\n",
        "for i in M:\n",
        "  a = train[train['Arrival Delay in Minutes']>=i]['target'].value_counts(normalize = True).to_frame().T\n",
        "  con = pd.concat([con,a])\n",
        "con['idx'] = M\n",
        "\n",
        "con.set_index('idx', inplace = True)\n",
        "con"
      ],
      "metadata": {
        "colab": {
          "base_uri": "https://localhost:8080/",
          "height": 454
        },
        "id": "KJ_mAuwzDoAP",
        "outputId": "a538492c-321a-4ce3-f3b7-d32e9d8ac3e1"
      },
      "execution_count": null,
      "outputs": [
        {
          "output_type": "execute_result",
          "data": {
            "text/html": [
              "\n",
              "  <div id=\"df-06e2c971-f408-4827-91a3-4697d1907e17\">\n",
              "    <div class=\"colab-df-container\">\n",
              "      <div>\n",
              "<style scoped>\n",
              "    .dataframe tbody tr th:only-of-type {\n",
              "        vertical-align: middle;\n",
              "    }\n",
              "\n",
              "    .dataframe tbody tr th {\n",
              "        vertical-align: top;\n",
              "    }\n",
              "\n",
              "    .dataframe thead th {\n",
              "        text-align: right;\n",
              "    }\n",
              "</style>\n",
              "<table border=\"1\" class=\"dataframe\">\n",
              "  <thead>\n",
              "    <tr style=\"text-align: right;\">\n",
              "      <th></th>\n",
              "      <th>0</th>\n",
              "      <th>1</th>\n",
              "    </tr>\n",
              "    <tr>\n",
              "      <th>idx</th>\n",
              "      <th></th>\n",
              "      <th></th>\n",
              "    </tr>\n",
              "  </thead>\n",
              "  <tbody>\n",
              "    <tr>\n",
              "      <th>0</th>\n",
              "      <td>0.444000</td>\n",
              "      <td>0.556000</td>\n",
              "    </tr>\n",
              "    <tr>\n",
              "      <th>10</th>\n",
              "      <td>0.538553</td>\n",
              "      <td>0.461447</td>\n",
              "    </tr>\n",
              "    <tr>\n",
              "      <th>20</th>\n",
              "      <td>0.552721</td>\n",
              "      <td>0.447279</td>\n",
              "    </tr>\n",
              "    <tr>\n",
              "      <th>30</th>\n",
              "      <td>0.585421</td>\n",
              "      <td>0.414579</td>\n",
              "    </tr>\n",
              "    <tr>\n",
              "      <th>40</th>\n",
              "      <td>0.608696</td>\n",
              "      <td>0.391304</td>\n",
              "    </tr>\n",
              "    <tr>\n",
              "      <th>...</th>\n",
              "      <td>...</td>\n",
              "      <td>...</td>\n",
              "    </tr>\n",
              "    <tr>\n",
              "      <th>1070</th>\n",
              "      <td>1.000000</td>\n",
              "      <td>NaN</td>\n",
              "    </tr>\n",
              "    <tr>\n",
              "      <th>1080</th>\n",
              "      <td>1.000000</td>\n",
              "      <td>NaN</td>\n",
              "    </tr>\n",
              "    <tr>\n",
              "      <th>1090</th>\n",
              "      <td>1.000000</td>\n",
              "      <td>NaN</td>\n",
              "    </tr>\n",
              "    <tr>\n",
              "      <th>1100</th>\n",
              "      <td>1.000000</td>\n",
              "      <td>NaN</td>\n",
              "    </tr>\n",
              "    <tr>\n",
              "      <th>1110</th>\n",
              "      <td>1.000000</td>\n",
              "      <td>NaN</td>\n",
              "    </tr>\n",
              "  </tbody>\n",
              "</table>\n",
              "<p>112 rows × 2 columns</p>\n",
              "</div>\n",
              "      <button class=\"colab-df-convert\" onclick=\"convertToInteractive('df-06e2c971-f408-4827-91a3-4697d1907e17')\"\n",
              "              title=\"Convert this dataframe to an interactive table.\"\n",
              "              style=\"display:none;\">\n",
              "        \n",
              "  <svg xmlns=\"http://www.w3.org/2000/svg\" height=\"24px\"viewBox=\"0 0 24 24\"\n",
              "       width=\"24px\">\n",
              "    <path d=\"M0 0h24v24H0V0z\" fill=\"none\"/>\n",
              "    <path d=\"M18.56 5.44l.94 2.06.94-2.06 2.06-.94-2.06-.94-.94-2.06-.94 2.06-2.06.94zm-11 1L8.5 8.5l.94-2.06 2.06-.94-2.06-.94L8.5 2.5l-.94 2.06-2.06.94zm10 10l.94 2.06.94-2.06 2.06-.94-2.06-.94-.94-2.06-.94 2.06-2.06.94z\"/><path d=\"M17.41 7.96l-1.37-1.37c-.4-.4-.92-.59-1.43-.59-.52 0-1.04.2-1.43.59L10.3 9.45l-7.72 7.72c-.78.78-.78 2.05 0 2.83L4 21.41c.39.39.9.59 1.41.59.51 0 1.02-.2 1.41-.59l7.78-7.78 2.81-2.81c.8-.78.8-2.07 0-2.86zM5.41 20L4 18.59l7.72-7.72 1.47 1.35L5.41 20z\"/>\n",
              "  </svg>\n",
              "      </button>\n",
              "      \n",
              "  <style>\n",
              "    .colab-df-container {\n",
              "      display:flex;\n",
              "      flex-wrap:wrap;\n",
              "      gap: 12px;\n",
              "    }\n",
              "\n",
              "    .colab-df-convert {\n",
              "      background-color: #E8F0FE;\n",
              "      border: none;\n",
              "      border-radius: 50%;\n",
              "      cursor: pointer;\n",
              "      display: none;\n",
              "      fill: #1967D2;\n",
              "      height: 32px;\n",
              "      padding: 0 0 0 0;\n",
              "      width: 32px;\n",
              "    }\n",
              "\n",
              "    .colab-df-convert:hover {\n",
              "      background-color: #E2EBFA;\n",
              "      box-shadow: 0px 1px 2px rgba(60, 64, 67, 0.3), 0px 1px 3px 1px rgba(60, 64, 67, 0.15);\n",
              "      fill: #174EA6;\n",
              "    }\n",
              "\n",
              "    [theme=dark] .colab-df-convert {\n",
              "      background-color: #3B4455;\n",
              "      fill: #D2E3FC;\n",
              "    }\n",
              "\n",
              "    [theme=dark] .colab-df-convert:hover {\n",
              "      background-color: #434B5C;\n",
              "      box-shadow: 0px 1px 3px 1px rgba(0, 0, 0, 0.15);\n",
              "      filter: drop-shadow(0px 1px 2px rgba(0, 0, 0, 0.3));\n",
              "      fill: #FFFFFF;\n",
              "    }\n",
              "  </style>\n",
              "\n",
              "      <script>\n",
              "        const buttonEl =\n",
              "          document.querySelector('#df-06e2c971-f408-4827-91a3-4697d1907e17 button.colab-df-convert');\n",
              "        buttonEl.style.display =\n",
              "          google.colab.kernel.accessAllowed ? 'block' : 'none';\n",
              "\n",
              "        async function convertToInteractive(key) {\n",
              "          const element = document.querySelector('#df-06e2c971-f408-4827-91a3-4697d1907e17');\n",
              "          const dataTable =\n",
              "            await google.colab.kernel.invokeFunction('convertToInteractive',\n",
              "                                                     [key], {});\n",
              "          if (!dataTable) return;\n",
              "\n",
              "          const docLinkHtml = 'Like what you see? Visit the ' +\n",
              "            '<a target=\"_blank\" href=https://colab.research.google.com/notebooks/data_table.ipynb>data table notebook</a>'\n",
              "            + ' to learn more about interactive tables.';\n",
              "          element.innerHTML = '';\n",
              "          dataTable['output_type'] = 'display_data';\n",
              "          await google.colab.output.renderOutput(dataTable, element);\n",
              "          const docLink = document.createElement('div');\n",
              "          docLink.innerHTML = docLinkHtml;\n",
              "          element.appendChild(docLink);\n",
              "        }\n",
              "      </script>\n",
              "    </div>\n",
              "  </div>\n",
              "  "
            ],
            "text/plain": [
              "             0         1\n",
              "idx                     \n",
              "0     0.444000  0.556000\n",
              "10    0.538553  0.461447\n",
              "20    0.552721  0.447279\n",
              "30    0.585421  0.414579\n",
              "40    0.608696  0.391304\n",
              "...        ...       ...\n",
              "1070  1.000000       NaN\n",
              "1080  1.000000       NaN\n",
              "1090  1.000000       NaN\n",
              "1100  1.000000       NaN\n",
              "1110  1.000000       NaN\n",
              "\n",
              "[112 rows x 2 columns]"
            ]
          },
          "metadata": {},
          "execution_count": 73
        }
      ]
    },
    {
      "cell_type": "code",
      "source": [
        "plt.subplots(figsize = (8,5))\n",
        "\n",
        "con[0].plot()\n",
        "con[1].plot()\n",
        "plt.legend(fontsize = 12)\n",
        "plt.title('Arrival Delay in Minutes & target', fontsize = 14)\n",
        "plt.xlabel('delay min')\n",
        "plt.show()"
      ],
      "metadata": {
        "colab": {
          "base_uri": "https://localhost:8080/",
          "height": 351
        },
        "id": "siJRFuKSDzvb",
        "outputId": "7190eaca-6b77-4426-ad4f-ff4c46c848d6"
      },
      "execution_count": null,
      "outputs": [
        {
          "output_type": "display_data",
          "data": {
            "image/png": "[encoded data removed]",
            "text/plain": [
              "<Figure size 576x360 with 1 Axes>"
            ]
          },
          "metadata": {
            "needs_background": "light"
          }
        }
      ]
    },
    {
      "cell_type": "markdown",
      "source": [
        "- 기본적으로 출발과 도착 딜레이시간이 길어지면 0에 해당하는 비율이 올라가는건 사실이다. 하지만 계속 우상향은 아니고 어느 순간에 올라갔다 내려갔다를 반복한다.\n",
        "\n",
        "- 저 0과 1은 누적된 수치라 확실히 딜레이 시간이 길어지면 1은 감소하는게 보인다.\n",
        "\n",
        "- 딜레이를 100단위로 쪼개서 feature로 만들면 괜찮을듯하다.\n",
        "\n",
        "- log정규화나 gussian dist는 안쓸예정이다. 너무 심하게 분포가 치우쳐져있어서 그걸로 해결 안되고 category화 해서 쓰면 괜찮겠다."
      ],
      "metadata": {
        "id": "ndilIaUhJNz5"
      }
    },
    {
      "cell_type": "markdown",
      "source": [
        "- 전처리 과정해서 건드릴 feature는 [Arrival Delay in Minutes, Departure Delay in Minutes, Age]정도가 되겠다.\n",
        "\n",
        "  ** Flight Distance는 수치형이긴하지만 groupby해서 target으로 묶어보니 크게 차이나지 않아서 그냥 둬도 괜찮을거같다.\n",
        "  - Age는 로그 정규화 혹은 category화 진행예정\n",
        "  -  Arrival Delay in Minutes, Departure Delay in Minutes는 categroy화 할 예정이다."
      ],
      "metadata": {
        "id": "taEq5emoKsgA"
      }
    },
    {
      "cell_type": "code",
      "source": [
        "f, ax = plt.subplots(figsize = (7, 5))\n",
        "sns.distplot(train['Age'], color = 'red')\n",
        "plt.title('Age Distplot')\n",
        "plt.show()"
      ],
      "metadata": {
        "colab": {
          "base_uri": "https://localhost:8080/",
          "height": 406
        },
        "id": "7HmfUlmqIF5v",
        "outputId": "ef2a403b-f556-4996-f316-7fb0c15f232c"
      },
      "execution_count": null,
      "outputs": [
        {
          "output_type": "stream",
          "name": "stderr",
          "text": [
            "/usr/local/lib/python3.7/dist-packages/seaborn/distributions.py:2619: FutureWarning: `distplot` is a deprecated function and will be removed in a future version. Please adapt your code to use either `displot` (a figure-level function with similar flexibility) or `histplot` (an axes-level function for histograms).\n",
            "  warnings.warn(msg, FutureWarning)\n"
          ]
        },
        {
          "output_type": "display_data",
          "data": {
            "image/png": "[encoded data removed]",
            "text/plain": [
              "<Figure size 504x360 with 1 Axes>"
            ]
          },
          "metadata": {
            "needs_background": "light"
          }
        }
      ]
    },
    {
      "cell_type": "code",
      "source": [
        "train['Age_band'] = 0\n",
        "train['arrive_delay'] = 0\n",
        "train['departure_delay'] = 0\n",
        "\n",
        "train.loc[train['Age']<=10, 'Age_band'] = 0\n",
        "train.loc[train['Departure Delay in Minutes']<=100, 'Departure Delay in Minutes'] = 0\n",
        "train.loc[train['Arrival Delay in Minutes']<=100, 'Arrival Delay in Minutes'] = 0\n",
        "\n",
        "for i in range(1, 13):\n",
        "  train.loc[(train['Age']>i*10) & (train['Age']<=(i*10)+10),'Age_band'] = i\n",
        "  train.loc[(train['Departure Delay in Minutes']>i*100) & (train['Departure Delay in Minutes']<=(i*100)+100),'departure_delay'] = i\n",
        "  train.loc[(train['Arrival Delay in Minutes']>i*100) & (train['Arrival Delay in Minutes']<=(i*100)+100),'arrive_delay'] = i\n",
        "\n",
        "del train['Age']\n",
        "del train['Departure Delay in Minutes']\n",
        "del train['Arrival Delay in Minutes']\n",
        "del train['id']\n",
        "\n",
        "x = train.copy()\n",
        "y = train['target']\n",
        "del x['target']\n",
        "\n",
        "cat_features = ['Gender', 'Customer Type', 'Type of Travel', 'Class']\n",
        "for i in enumerate(cat_features): \n",
        "  ca = i[1]\n",
        "  x[ca] = x[ca].astype('category') "
      ],
      "metadata": {
        "id": "KJFWmjscMMw6"
      },
      "execution_count": null,
      "outputs": []
    },
    {
      "cell_type": "code",
      "source": [
        "from sklearn.model_selection import train_test_split\n",
        "\n",
        "x_train, x_test, y_train, y_test = train_test_split(x, y, test_size = 0.25, random_state = 12346789)"
      ],
      "metadata": {
        "id": "BImRbJxcNZ32"
      },
      "execution_count": null,
      "outputs": []
    },
    {
      "cell_type": "code",
      "source": [
        "print(x_train.shape, y_train.shape)\n",
        "print(x_test.shape, y_test.shape)"
      ],
      "metadata": {
        "colab": {
          "base_uri": "https://localhost:8080/"
        },
        "id": "Yb3-jnaZNcQP",
        "outputId": "60c5c3c0-ba15-41ee-ca9c-559e91007822"
      },
      "execution_count": null,
      "outputs": [
        {
          "output_type": "stream",
          "name": "stdout",
          "text": [
            "(2250, 23) (2250,)\n",
            "(750, 23) (750,)\n"
          ]
        }
      ]
    },
    {
      "cell_type": "code",
      "source": [
        "from sklearn.model_selection import cross_val_score\n",
        "import lightgbm\n",
        "\n",
        "#lgbm = lightgbm.LGBMClassifier(boosting_type = 'gbdt',random_state = 123456789, colsample_bytree=0.9, max_depth = 5, subsample=0.9, n_estimators = 300)\n",
        "lgbm = lightgbm.LGBMClassifier(random_state = 123456789)\n",
        "scores = cross_val_score(lgbm, x_train, y_train, cv = 5)\n",
        "print('Average Accuarcy :',np.mean(scores))"
      ],
      "metadata": {
        "colab": {
          "base_uri": "https://localhost:8080/"
        },
        "id": "Iy-LVZ0_QBgG",
        "outputId": "d5a902a1-9737-4f90-c043-34bb7632759c"
      },
      "execution_count": null,
      "outputs": [
        {
          "output_type": "stream",
          "name": "stdout",
          "text": [
            "Average Accuarcy : 0.9195555555555555\n"
          ]
        }
      ]
    },
    {
      "cell_type": "code",
      "source": [
        "from sklearn.metrics import confusion_matrix, accuracy_score\n",
        "\n",
        "lgbm.fit(x_train, y_train)\n",
        "pred = lgbm.predict(x_test)\n",
        "print('Accuarcy :', accuracy_score(y_test, pred))\n",
        "print('*' * 150)\n",
        "print('\\n','Confusion matrix','\\n',confusion_matrix(y_test, pred))"
      ],
      "metadata": {
        "colab": {
          "base_uri": "https://localhost:8080/"
        },
        "id": "6tH0U2FWT43T",
        "outputId": "71dfffa9-d3f1-4e98-9e97-fe9745d0dd90"
      },
      "execution_count": null,
      "outputs": [
        {
          "output_type": "stream",
          "name": "stdout",
          "text": [
            "Accuarcy : 0.936\n",
            "******************************************************************************************************************************************************\n",
            "\n",
            " Confusion matrix \n",
            " [[300  19]\n",
            " [ 29 402]]\n"
          ]
        }
      ]
    },
    {
      "cell_type": "code",
      "source": [
        "plt.subplots(figsize = (10,5))\n",
        "plt.barh(x_train.columns, lgbm.feature_importances_, alpha = 0.5)\n",
        "plt.title('Feature Importance', fontsize = 14)\n",
        "plt.show()"
      ],
      "metadata": {
        "colab": {
          "base_uri": "https://localhost:8080/",
          "height": 336
        },
        "id": "6Oxgd7gaZPIi",
        "outputId": "de94ab77-7df1-4c33-8987-92c04e2a4daf"
      },
      "execution_count": null,
      "outputs": [
        {
          "output_type": "display_data",
          "data": {
            "image/png": "[encoded data removed]",
            "text/plain": [
              "<Figure size 720x360 with 1 Axes>"
            ]
          },
          "metadata": {
            "needs_background": "light"
          }
        }
      ]
    },
    {
      "cell_type": "code",
      "source": [
        "!pip install optuna\n",
        "\n",
        "from optuna.samplers import TPESampler\n",
        "import optuna\n",
        "\n",
        "sampler = TPESampler(seed = 42)\n",
        "\n",
        "def obj(trial):\n",
        "  param = {'objective': 'binary',\n",
        "          'verbose': -1,\n",
        "          'metric': 'accuarcy', \n",
        "          'max_depth': trial.suggest_int('max_depth',3, 15),\n",
        "          'learning_rate': trial.suggest_loguniform(\"learning_rate\", 1e-5, 1e-2),\n",
        "          'n_estimators': trial.suggest_int('n_estimators', 500, 3000),\n",
        "          'min_child_samples': trial.suggest_int('min_child_samples', 5, 20),\n",
        "          'subsample': trial.suggest_loguniform('subsample', 0.4, 1)}\n",
        "\n",
        "  lgbm = lightgbm.LGBMClassifier(**param)\n",
        "  lgbm.fit(x_train, y_train)\n",
        "  acc = accuracy_score(y_test ,lgbm.predict(x_test))\n",
        "\n",
        "  return acc\n",
        "\n",
        "study_lgb = optuna.create_study(direction = 'maximize', sampler = sampler)\n",
        "study_lgb.optimize(obj, n_trials = 100)"
      ],
      "metadata": {
        "colab": {
          "base_uri": "https://localhost:8080/"
        },
        "id": "7gRBtMtyQW1P",
        "outputId": "492c7330-728d-4d24-9a91-c141ca580ca5"
      },
      "execution_count": null,
      "outputs": [
        {
          "output_type": "stream",
          "name": "stdout",
          "text": [
            "Requirement already satisfied: optuna in /usr/local/lib/python3.7/dist-packages (2.10.0)\n",
            "Requirement already satisfied: alembic in /usr/local/lib/python3.7/dist-packages (from optuna) (1.7.6)\n",
            "Requirement already satisfied: numpy in /usr/local/lib/python3.7/dist-packages (from optuna) (1.21.5)\n",
            "Requirement already satisfied: colorlog in /usr/local/lib/python3.7/dist-packages (from optuna) (6.6.0)\n",
            "Requirement already satisfied: packaging>=20.0 in /usr/local/lib/python3.7/dist-packages (from optuna) (21.3)\n",
            "Requirement already satisfied: scipy!=1.4.0 in /usr/local/lib/python3.7/dist-packages (from optuna) (1.4.1)\n",
            "Requirement already satisfied: PyYAML in /usr/local/lib/python3.7/dist-packages (from optuna) (3.13)\n",
            "Requirement already satisfied: cliff in /usr/local/lib/python3.7/dist-packages (from optuna) (3.10.1)\n",
            "Requirement already satisfied: tqdm in /usr/local/lib/python3.7/dist-packages (from optuna) (4.62.3)\n",
            "Requirement already satisfied: sqlalchemy>=1.1.0 in /usr/local/lib/python3.7/dist-packages (from optuna) (1.4.31)\n",
            "Requirement already satisfied: cmaes>=0.8.2 in /usr/local/lib/python3.7/dist-packages (from optuna) (0.8.2)\n",
            "Requirement already satisfied: pyparsing!=3.0.5,>=2.0.2 in /usr/local/lib/python3.7/dist-packages (from packaging>=20.0->optuna) (3.0.7)\n",
            "Requirement already satisfied: importlib-metadata in /usr/local/lib/python3.7/dist-packages (from sqlalchemy>=1.1.0->optuna) (4.11.0)\n",
            "Requirement already satisfied: greenlet!=0.4.17 in /usr/local/lib/python3.7/dist-packages (from sqlalchemy>=1.1.0->optuna) (1.1.2)\n",
            "Requirement already satisfied: importlib-resources in /usr/local/lib/python3.7/dist-packages (from alembic->optuna) (5.4.0)\n",
            "Requirement already satisfied: Mako in /usr/local/lib/python3.7/dist-packages (from alembic->optuna) (1.1.6)\n",
            "Requirement already satisfied: autopage>=0.4.0 in /usr/local/lib/python3.7/dist-packages (from cliff->optuna) (0.5.0)\n",
            "Requirement already satisfied: PrettyTable>=0.7.2 in /usr/local/lib/python3.7/dist-packages (from cliff->optuna) (3.0.0)\n",
            "Requirement already satisfied: stevedore>=2.0.1 in /usr/local/lib/python3.7/dist-packages (from cliff->optuna) (3.5.0)\n",
            "Requirement already satisfied: cmd2>=1.0.0 in /usr/local/lib/python3.7/dist-packages (from cliff->optuna) (2.3.3)\n",
            "Requirement already satisfied: pbr!=2.1.0,>=2.0.0 in /usr/local/lib/python3.7/dist-packages (from cliff->optuna) (5.8.1)\n",
            "Requirement already satisfied: pyperclip>=1.6 in /usr/local/lib/python3.7/dist-packages (from cmd2>=1.0.0->cliff->optuna) (1.8.2)\n",
            "Requirement already satisfied: typing-extensions in /usr/local/lib/python3.7/dist-packages (from cmd2>=1.0.0->cliff->optuna) (3.10.0.2)\n",
            "Requirement already satisfied: attrs>=16.3.0 in /usr/local/lib/python3.7/dist-packages (from cmd2>=1.0.0->cliff->optuna) (21.4.0)\n",
            "Requirement already satisfied: wcwidth>=0.1.7 in /usr/local/lib/python3.7/dist-packages (from cmd2>=1.0.0->cliff->optuna) (0.2.5)\n",
            "Requirement already satisfied: zipp>=0.5 in /usr/local/lib/python3.7/dist-packages (from importlib-metadata->sqlalchemy>=1.1.0->optuna) (3.7.0)\n",
            "Requirement already satisfied: MarkupSafe>=0.9.2 in /usr/local/lib/python3.7/dist-packages (from Mako->alembic->optuna) (2.0.1)\n"
          ]
        },
        {
          "output_type": "stream",
          "name": "stderr",
          "text": [
            "\u001b[32m[I 2022-02-19 14:50:18,573]\u001b[0m A new study created in memory with name: no-name-8b9f04bf-6df9-4f92-8568-50ae3f809f4d\u001b[0m\n",
            "\u001b[32m[I 2022-02-19 14:50:21,347]\u001b[0m Trial 0 finished with value: 0.928 and parameters: {'max_depth': 7, 'learning_rate': 0.0071144760093434225, 'n_estimators': 2330, 'min_child_samples': 14, 'subsample': 0.46147273880126555}. Best is trial 0 with value: 0.928.\u001b[0m\n",
            "\u001b[32m[I 2022-02-19 14:50:24,065]\u001b[0m Trial 1 finished with value: 0.5746666666666667 and parameters: {'max_depth': 5, 'learning_rate': 1.493656855461762e-05, 'n_estimators': 2666, 'min_child_samples': 14, 'subsample': 0.765297684068612}. Best is trial 0 with value: 0.928.\u001b[0m\n",
            "\u001b[32m[I 2022-02-19 14:50:25,355]\u001b[0m Trial 2 finished with value: 0.916 and parameters: {'max_depth': 3, 'learning_rate': 0.008123245085588688, 'n_estimators': 2581, 'min_child_samples': 8, 'subsample': 0.4725148048142631}. Best is trial 0 with value: 0.928.\u001b[0m\n",
            "\u001b[32m[I 2022-02-19 14:50:27,272]\u001b[0m Trial 3 finished with value: 0.8253333333333334 and parameters: {'max_depth': 5, 'learning_rate': 8.17949947521167e-05, 'n_estimators': 1812, 'min_child_samples': 11, 'subsample': 0.5223381155442193}. Best is trial 0 with value: 0.928.\u001b[0m\n",
            "\u001b[32m[I 2022-02-19 14:50:28,952]\u001b[0m Trial 4 finished with value: 0.5746666666666667 and parameters: {'max_depth': 10, 'learning_rate': 2.621087878265438e-05, 'n_estimators': 1230, 'min_child_samples': 10, 'subsample': 0.607503080954597}. Best is trial 0 with value: 0.928.\u001b[0m\n",
            "\u001b[32m[I 2022-02-19 14:50:31,324]\u001b[0m Trial 5 finished with value: 0.5746666666666667 and parameters: {'max_depth': 13, 'learning_rate': 3.972110727381908e-05, 'n_estimators': 1786, 'min_child_samples': 14, 'subsample': 0.4173923345744613}. Best is trial 0 with value: 0.928.\u001b[0m\n",
            "\u001b[32m[I 2022-02-19 14:50:34,544]\u001b[0m Trial 6 finished with value: 0.5746666666666667 and parameters: {'max_depth': 10, 'learning_rate': 3.247673570627447e-05, 'n_estimators': 662, 'min_child_samples': 20, 'subsample': 0.9689996293810518}. Best is trial 0 with value: 0.928.\u001b[0m\n",
            "\u001b[32m[I 2022-02-19 14:50:39,440]\u001b[0m Trial 7 finished with value: 0.5746666666666667 and parameters: {'max_depth': 13, 'learning_rate': 8.200518402245828e-05, 'n_estimators': 744, 'min_child_samples': 15, 'subsample': 0.5987069208932017}. Best is trial 0 with value: 0.928.\u001b[0m\n",
            "\u001b[32m[I 2022-02-19 14:50:41,560]\u001b[0m Trial 8 finished with value: 0.8506666666666667 and parameters: {'max_depth': 4, 'learning_rate': 0.0003058656666978527, 'n_estimators': 586, 'min_child_samples': 19, 'subsample': 0.5070361211081488}. Best is trial 0 with value: 0.928.\u001b[0m\n",
            "\u001b[32m[I 2022-02-19 14:50:55,654]\u001b[0m Trial 9 finished with value: 0.8653333333333333 and parameters: {'max_depth': 11, 'learning_rate': 8.612579192594876e-05, 'n_estimators': 1800, 'min_child_samples': 13, 'subsample': 0.47382827709841974}. Best is trial 0 with value: 0.928.\u001b[0m\n",
            "\u001b[32m[I 2022-02-19 14:50:59,410]\u001b[0m Trial 10 finished with value: 0.932 and parameters: {'max_depth': 7, 'learning_rate': 0.006289063790493162, 'n_estimators': 2240, 'min_child_samples': 5, 'subsample': 0.405672369598035}. Best is trial 10 with value: 0.932.\u001b[0m\n",
            "\u001b[32m[I 2022-02-19 14:51:02,284]\u001b[0m Trial 11 finished with value: 0.9306666666666666 and parameters: {'max_depth': 7, 'learning_rate': 0.008918189072731406, 'n_estimators': 2281, 'min_child_samples': 6, 'subsample': 0.4013720109047739}. Best is trial 10 with value: 0.932.\u001b[0m\n",
            "\u001b[32m[I 2022-02-19 14:51:05,104]\u001b[0m Trial 12 finished with value: 0.9266666666666666 and parameters: {'max_depth': 7, 'learning_rate': 0.002124002941541091, 'n_estimators': 2189, 'min_child_samples': 5, 'subsample': 0.4060696340155517}. Best is trial 10 with value: 0.932.\u001b[0m\n",
            "\u001b[32m[I 2022-02-19 14:51:09,091]\u001b[0m Trial 13 finished with value: 0.912 and parameters: {'max_depth': 7, 'learning_rate': 0.0011740085777673128, 'n_estimators': 2992, 'min_child_samples': 5, 'subsample': 0.7228898200777368}. Best is trial 10 with value: 0.932.\u001b[0m\n",
            "\u001b[32m[I 2022-02-19 14:51:11,994]\u001b[0m Trial 14 finished with value: 0.9306666666666666 and parameters: {'max_depth': 8, 'learning_rate': 0.002357802341549107, 'n_estimators': 2172, 'min_child_samples': 8, 'subsample': 0.4053520710295914}. Best is trial 10 with value: 0.932.\u001b[0m\n",
            "\u001b[32m[I 2022-02-19 14:51:14,587]\u001b[0m Trial 15 finished with value: 0.896 and parameters: {'max_depth': 15, 'learning_rate': 0.0005668753041010327, 'n_estimators': 1357, 'min_child_samples': 7, 'subsample': 0.5373828382104522}. Best is trial 10 with value: 0.932.\u001b[0m\n",
            "\u001b[32m[I 2022-02-19 14:51:16,612]\u001b[0m Trial 16 finished with value: 0.9293333333333333 and parameters: {'max_depth': 6, 'learning_rate': 0.004001807274027241, 'n_estimators': 1426, 'min_child_samples': 6, 'subsample': 0.7368481236544839}. Best is trial 10 with value: 0.932.\u001b[0m\n",
            "\u001b[32m[I 2022-02-19 14:51:19,359]\u001b[0m Trial 17 finished with value: 0.9293333333333333 and parameters: {'max_depth': 9, 'learning_rate': 0.002279893032880141, 'n_estimators': 1984, 'min_child_samples': 9, 'subsample': 0.9963570559467907}. Best is trial 10 with value: 0.932.\u001b[0m\n",
            "\u001b[32m[I 2022-02-19 14:51:22,989]\u001b[0m Trial 18 finished with value: 0.912 and parameters: {'max_depth': 9, 'learning_rate': 0.0005691349481267339, 'n_estimators': 2633, 'min_child_samples': 11, 'subsample': 0.4433640219457644}. Best is trial 10 with value: 0.932.\u001b[0m\n",
            "\u001b[32m[I 2022-02-19 14:51:26,763]\u001b[0m Trial 19 finished with value: 0.9346666666666666 and parameters: {'max_depth': 8, 'learning_rate': 0.0031798522230522554, 'n_estimators': 2924, 'min_child_samples': 8, 'subsample': 0.5520069211471134}. Best is trial 19 with value: 0.9346666666666666.\u001b[0m\n",
            "\u001b[32m[I 2022-02-19 14:51:30,815]\u001b[0m Trial 20 finished with value: 0.9346666666666666 and parameters: {'max_depth': 12, 'learning_rate': 0.004174176678718747, 'n_estimators': 2995, 'min_child_samples': 7, 'subsample': 0.6769433599947854}. Best is trial 19 with value: 0.9346666666666666.\u001b[0m\n",
            "\u001b[32m[I 2022-02-19 14:51:34,845]\u001b[0m Trial 21 finished with value: 0.9306666666666666 and parameters: {'max_depth': 13, 'learning_rate': 0.004054412947484626, 'n_estimators': 2989, 'min_child_samples': 7, 'subsample': 0.6786582776541814}. Best is trial 19 with value: 0.9346666666666666.\u001b[0m\n",
            "\u001b[32m[I 2022-02-19 14:51:38,852]\u001b[0m Trial 22 finished with value: 0.9133333333333333 and parameters: {'max_depth': 12, 'learning_rate': 0.0010947658877565477, 'n_estimators': 2789, 'min_child_samples': 9, 'subsample': 0.8882141869904981}. Best is trial 19 with value: 0.9346666666666666.\u001b[0m\n",
            "\u001b[32m[I 2022-02-19 14:51:42,167]\u001b[0m Trial 23 finished with value: 0.9346666666666666 and parameters: {'max_depth': 15, 'learning_rate': 0.0048850481980887905, 'n_estimators': 2416, 'min_child_samples': 5, 'subsample': 0.574959787686107}. Best is trial 19 with value: 0.9346666666666666.\u001b[0m\n",
            "\u001b[32m[I 2022-02-19 14:51:45,883]\u001b[0m Trial 24 finished with value: 0.9386666666666666 and parameters: {'max_depth': 15, 'learning_rate': 0.003649928744203053, 'n_estimators': 2800, 'min_child_samples': 17, 'subsample': 0.5650433540729568}. Best is trial 24 with value: 0.9386666666666666.\u001b[0m\n",
            "\u001b[32m[I 2022-02-19 14:51:49,627]\u001b[0m Trial 25 finished with value: 0.9266666666666666 and parameters: {'max_depth': 14, 'learning_rate': 0.0013502075401281026, 'n_estimators': 2828, 'min_child_samples': 18, 'subsample': 0.6575240925970954}. Best is trial 24 with value: 0.9386666666666666.\u001b[0m\n",
            "\u001b[32m[I 2022-02-19 14:51:52,869]\u001b[0m Trial 26 finished with value: 0.8946666666666667 and parameters: {'max_depth': 15, 'learning_rate': 0.0002695099216300054, 'n_estimators': 2486, 'min_child_samples': 17, 'subsample': 0.5883959804605798}. Best is trial 24 with value: 0.9386666666666666.\u001b[0m\n",
            "\u001b[32m[I 2022-02-19 14:51:56,052]\u001b[0m Trial 27 finished with value: 0.9346666666666666 and parameters: {'max_depth': 14, 'learning_rate': 0.004835340156987764, 'n_estimators': 2425, 'min_child_samples': 17, 'subsample': 0.7995570852793343}. Best is trial 24 with value: 0.9386666666666666.\u001b[0m\n",
            "\u001b[32m[I 2022-02-19 14:51:59,341]\u001b[0m Trial 28 finished with value: 0.9093333333333333 and parameters: {'max_depth': 15, 'learning_rate': 0.0008223393484563603, 'n_estimators': 2412, 'min_child_samples': 16, 'subsample': 0.8183803908708329}. Best is trial 24 with value: 0.9386666666666666.\u001b[0m\n",
            "\u001b[32m[I 2022-02-19 14:52:03,078]\u001b[0m Trial 29 finished with value: 0.9306666666666666 and parameters: {'max_depth': 12, 'learning_rate': 0.0017562617100981982, 'n_estimators': 2718, 'min_child_samples': 12, 'subsample': 0.5670120228346632}. Best is trial 24 with value: 0.9386666666666666.\u001b[0m\n",
            "\u001b[32m[I 2022-02-19 14:52:05,704]\u001b[0m Trial 30 finished with value: 0.9373333333333334 and parameters: {'max_depth': 14, 'learning_rate': 0.006346363232091608, 'n_estimators': 2025, 'min_child_samples': 17, 'subsample': 0.6245069748937094}. Best is trial 24 with value: 0.9386666666666666.\u001b[0m\n",
            "\u001b[32m[I 2022-02-19 14:52:08,433]\u001b[0m Trial 31 finished with value: 0.9346666666666666 and parameters: {'max_depth': 14, 'learning_rate': 0.00573721694243117, 'n_estimators': 2054, 'min_child_samples': 17, 'subsample': 0.6156627312899285}. Best is trial 24 with value: 0.9386666666666666.\u001b[0m\n",
            "\u001b[32m[I 2022-02-19 14:52:11,123]\u001b[0m Trial 32 finished with value: 0.9333333333333333 and parameters: {'max_depth': 14, 'learning_rate': 0.009440799378476639, 'n_estimators': 2038, 'min_child_samples': 17, 'subsample': 0.6284242072457105}. Best is trial 24 with value: 0.9386666666666666.\u001b[0m\n",
            "\u001b[32m[I 2022-02-19 14:52:14,546]\u001b[0m Trial 33 finished with value: 0.9293333333333333 and parameters: {'max_depth': 14, 'learning_rate': 0.005428964354636173, 'n_estimators': 2495, 'min_child_samples': 15, 'subsample': 0.8027959994074951}. Best is trial 24 with value: 0.9386666666666666.\u001b[0m\n",
            "\u001b[32m[I 2022-02-19 14:52:16,709]\u001b[0m Trial 34 finished with value: 0.9346666666666666 and parameters: {'max_depth': 14, 'learning_rate': 0.006811406403253023, 'n_estimators': 1552, 'min_child_samples': 18, 'subsample': 0.6408197780413328}. Best is trial 24 with value: 0.9386666666666666.\u001b[0m\n",
            "\u001b[32m[I 2022-02-19 14:52:21,332]\u001b[0m Trial 35 finished with value: 0.9266666666666666 and parameters: {'max_depth': 13, 'learning_rate': 0.0030044217684940017, 'n_estimators': 1535, 'min_child_samples': 20, 'subsample': 0.6368217951720208}. Best is trial 24 with value: 0.9386666666666666.\u001b[0m\n",
            "\u001b[32m[I 2022-02-19 14:52:24,039]\u001b[0m Trial 36 finished with value: 0.936 and parameters: {'max_depth': 15, 'learning_rate': 0.009058658329249448, 'n_estimators': 2024, 'min_child_samples': 15, 'subsample': 0.48565162926226607}. Best is trial 24 with value: 0.9386666666666666.\u001b[0m\n",
            "\u001b[32m[I 2022-02-19 14:52:26,671]\u001b[0m Trial 37 finished with value: 0.5746666666666667 and parameters: {'max_depth': 11, 'learning_rate': 1.0657547501064686e-05, 'n_estimators': 2021, 'min_child_samples': 15, 'subsample': 0.5078126505833214}. Best is trial 24 with value: 0.9386666666666666.\u001b[0m\n",
            "\u001b[32m[I 2022-02-19 14:52:30,507]\u001b[0m Trial 38 finished with value: 0.876 and parameters: {'max_depth': 15, 'learning_rate': 0.0001611388253128299, 'n_estimators': 1662, 'min_child_samples': 13, 'subsample': 0.4847682577464299}. Best is trial 24 with value: 0.9386666666666666.\u001b[0m\n",
            "\u001b[32m[I 2022-02-19 14:52:34,245]\u001b[0m Trial 39 finished with value: 0.928 and parameters: {'max_depth': 8, 'learning_rate': 0.0030570441963530728, 'n_estimators': 2863, 'min_child_samples': 16, 'subsample': 0.5492987616663387}. Best is trial 24 with value: 0.9386666666666666.\u001b[0m\n",
            "\u001b[32m[I 2022-02-19 14:52:35,704]\u001b[0m Trial 40 finished with value: 0.9173333333333333 and parameters: {'max_depth': 10, 'learning_rate': 0.0031857247709912886, 'n_estimators': 1058, 'min_child_samples': 14, 'subsample': 0.45959171460828707}. Best is trial 24 with value: 0.9386666666666666.\u001b[0m\n",
            "\u001b[32m[I 2022-02-19 14:52:38,250]\u001b[0m Trial 41 finished with value: 0.9293333333333333 and parameters: {'max_depth': 15, 'learning_rate': 0.005385568230583776, 'n_estimators': 1902, 'min_child_samples': 19, 'subsample': 0.5785506530086064}. Best is trial 24 with value: 0.9386666666666666.\u001b[0m\n",
            "\u001b[32m[I 2022-02-19 14:52:41,590]\u001b[0m Trial 42 finished with value: 0.9373333333333334 and parameters: {'max_depth': 12, 'learning_rate': 0.008537071961671352, 'n_estimators': 2597, 'min_child_samples': 16, 'subsample': 0.6709822624831699}. Best is trial 24 with value: 0.9386666666666666.\u001b[0m\n",
            "\u001b[32m[I 2022-02-19 14:52:43,175]\u001b[0m Trial 43 finished with value: 0.9333333333333333 and parameters: {'max_depth': 13, 'learning_rate': 0.007988063786155592, 'n_estimators': 1162, 'min_child_samples': 18, 'subsample': 0.6556272189451541}. Best is trial 24 with value: 0.9386666666666666.\u001b[0m\n",
            "\u001b[32m[I 2022-02-19 14:52:45,409]\u001b[0m Trial 44 finished with value: 0.9386666666666666 and parameters: {'max_depth': 14, 'learning_rate': 0.007573059651830978, 'n_estimators': 1692, 'min_child_samples': 16, 'subsample': 0.6873677568503057}. Best is trial 24 with value: 0.9386666666666666.\u001b[0m\n",
            "\u001b[32m[I 2022-02-19 14:52:47,873]\u001b[0m Trial 45 finished with value: 0.9293333333333333 and parameters: {'max_depth': 11, 'learning_rate': 0.009601792409190167, 'n_estimators': 1887, 'min_child_samples': 15, 'subsample': 0.7113241713280526}. Best is trial 24 with value: 0.9386666666666666.\u001b[0m\n",
            "\u001b[32m[I 2022-02-19 14:52:50,194]\u001b[0m Trial 46 finished with value: 0.936 and parameters: {'max_depth': 13, 'learning_rate': 0.007080431526606052, 'n_estimators': 1722, 'min_child_samples': 16, 'subsample': 0.7549595684526131}. Best is trial 24 with value: 0.9386666666666666.\u001b[0m\n",
            "\u001b[32m[I 2022-02-19 14:52:52,422]\u001b[0m Trial 47 finished with value: 0.9133333333333333 and parameters: {'max_depth': 12, 'learning_rate': 0.0017003290841990327, 'n_estimators': 1630, 'min_child_samples': 16, 'subsample': 0.7718853948023088}. Best is trial 24 with value: 0.9386666666666666.\u001b[0m\n",
            "\u001b[32m[I 2022-02-19 14:52:55,869]\u001b[0m Trial 48 finished with value: 0.94 and parameters: {'max_depth': 14, 'learning_rate': 0.007275261453567249, 'n_estimators': 2636, 'min_child_samples': 19, 'subsample': 0.6042222512604795}. Best is trial 48 with value: 0.94.\u001b[0m\n",
            "\u001b[32m[I 2022-02-19 14:52:59,245]\u001b[0m Trial 49 finished with value: 0.9333333333333333 and parameters: {'max_depth': 13, 'learning_rate': 0.006710358604849524, 'n_estimators': 2585, 'min_child_samples': 19, 'subsample': 0.6979538697930349}. Best is trial 48 with value: 0.94.\u001b[0m\n",
            "\u001b[32m[I 2022-02-19 14:53:00,571]\u001b[0m Trial 50 finished with value: 0.9093333333333333 and parameters: {'max_depth': 3, 'learning_rate': 0.003736176260378902, 'n_estimators': 2707, 'min_child_samples': 20, 'subsample': 0.6031069509573732}. Best is trial 48 with value: 0.94.\u001b[0m\n",
            "\u001b[32m[I 2022-02-19 14:53:03,298]\u001b[0m Trial 51 finished with value: 0.932 and parameters: {'max_depth': 14, 'learning_rate': 0.009993765493741497, 'n_estimators': 2131, 'min_child_samples': 14, 'subsample': 0.5316301252541975}. Best is trial 48 with value: 0.94.\u001b[0m\n",
            "\u001b[32m[I 2022-02-19 14:53:05,669]\u001b[0m Trial 52 finished with value: 0.9413333333333334 and parameters: {'max_depth': 13, 'learning_rate': 0.006990109362719175, 'n_estimators': 1795, 'min_child_samples': 16, 'subsample': 0.7320748270920473}. Best is trial 52 with value: 0.9413333333333334.\u001b[0m\n",
            "\u001b[32m[I 2022-02-19 14:53:08,651]\u001b[0m Trial 53 finished with value: 0.864 and parameters: {'max_depth': 13, 'learning_rate': 5.437446995297546e-05, 'n_estimators': 2317, 'min_child_samples': 19, 'subsample': 0.683192175406526}. Best is trial 52 with value: 0.9413333333333334.\u001b[0m\n",
            "\u001b[32m[I 2022-02-19 14:53:11,209]\u001b[0m Trial 54 finished with value: 0.936 and parameters: {'max_depth': 12, 'learning_rate': 0.007330563185066032, 'n_estimators': 1885, 'min_child_samples': 18, 'subsample': 0.7322382229969945}. Best is trial 52 with value: 0.9413333333333334.\u001b[0m\n",
            "\u001b[32m[I 2022-02-19 14:53:13,132]\u001b[0m Trial 55 finished with value: 0.9213333333333333 and parameters: {'max_depth': 14, 'learning_rate': 0.002387049331721168, 'n_estimators': 1415, 'min_child_samples': 17, 'subsample': 0.6650408842563958}. Best is trial 52 with value: 0.9413333333333334.\u001b[0m\n",
            "\u001b[32m[I 2022-02-19 14:53:16,485]\u001b[0m Trial 56 finished with value: 0.936 and parameters: {'max_depth': 13, 'learning_rate': 0.004492419577249978, 'n_estimators': 2534, 'min_child_samples': 16, 'subsample': 0.6135074539713053}. Best is trial 52 with value: 0.9413333333333334.\u001b[0m\n",
            "\u001b[32m[I 2022-02-19 14:53:19,922]\u001b[0m Trial 57 finished with value: 0.936 and parameters: {'max_depth': 11, 'learning_rate': 0.0060949499049577915, 'n_estimators': 2644, 'min_child_samples': 18, 'subsample': 0.6982536198297085}. Best is trial 52 with value: 0.9413333333333334.\u001b[0m\n",
            "\u001b[32m[I 2022-02-19 14:53:23,523]\u001b[0m Trial 58 finished with value: 0.936 and parameters: {'max_depth': 15, 'learning_rate': 0.0027124553883134525, 'n_estimators': 2748, 'min_child_samples': 20, 'subsample': 0.859525606998413}. Best is trial 52 with value: 0.9413333333333334.\u001b[0m\n",
            "\u001b[32m[I 2022-02-19 14:53:24,597]\u001b[0m Trial 59 finished with value: 0.5746666666666667 and parameters: {'max_depth': 14, 'learning_rate': 2.0821995046104252e-05, 'n_estimators': 821, 'min_child_samples': 17, 'subsample': 0.5611759690027811}. Best is trial 52 with value: 0.9413333333333334.\u001b[0m\n",
            "\u001b[32m[I 2022-02-19 14:53:26,990]\u001b[0m Trial 60 finished with value: 0.9293333333333333 and parameters: {'max_depth': 10, 'learning_rate': 0.0038695094106961296, 'n_estimators': 1772, 'min_child_samples': 19, 'subsample': 0.7596664944915898}. Best is trial 52 with value: 0.9413333333333334.\u001b[0m\n",
            "\u001b[32m[I 2022-02-19 14:53:30,686]\u001b[0m Trial 61 finished with value: 0.9333333333333333 and parameters: {'max_depth': 15, 'learning_rate': 0.002538187254371098, 'n_estimators': 2761, 'min_child_samples': 20, 'subsample': 0.5993937759365221}. Best is trial 52 with value: 0.9413333333333334.\u001b[0m\n",
            "\u001b[32m[I 2022-02-19 14:53:34,465]\u001b[0m Trial 62 finished with value: 0.9373333333333334 and parameters: {'max_depth': 15, 'learning_rate': 0.007568869160273697, 'n_estimators': 2871, 'min_child_samples': 19, 'subsample': 0.9009130615349631}. Best is trial 52 with value: 0.9413333333333334.\u001b[0m\n",
            "\u001b[32m[I 2022-02-19 14:53:38,154]\u001b[0m Trial 63 finished with value: 0.936 and parameters: {'max_depth': 14, 'learning_rate': 0.007644371702237206, 'n_estimators': 2870, 'min_child_samples': 18, 'subsample': 0.8959422258506509}. Best is trial 52 with value: 0.9413333333333334.\u001b[0m\n",
            "\u001b[32m[I 2022-02-19 14:53:41,977]\u001b[0m Trial 64 finished with value: 0.9346666666666666 and parameters: {'max_depth': 13, 'learning_rate': 0.0053652476654737265, 'n_estimators': 2916, 'min_child_samples': 16, 'subsample': 0.899487335091076}. Best is trial 52 with value: 0.9413333333333334.\u001b[0m\n",
            "\u001b[32m[I 2022-02-19 14:53:45,425]\u001b[0m Trial 65 finished with value: 0.9333333333333333 and parameters: {'max_depth': 15, 'learning_rate': 0.003637849623553643, 'n_estimators': 2599, 'min_child_samples': 17, 'subsample': 0.9383449017257375}. Best is trial 52 with value: 0.9413333333333334.\u001b[0m\n",
            "\u001b[32m[I 2022-02-19 14:53:48,962]\u001b[0m Trial 66 finished with value: 0.9306666666666666 and parameters: {'max_depth': 12, 'learning_rate': 0.00772530202485914, 'n_estimators': 2677, 'min_child_samples': 19, 'subsample': 0.6214725150961387}. Best is trial 52 with value: 0.9413333333333334.\u001b[0m\n",
            "\u001b[32m[I 2022-02-19 14:53:51,907]\u001b[0m Trial 67 finished with value: 0.932 and parameters: {'max_depth': 14, 'learning_rate': 0.004585788107472376, 'n_estimators': 2128, 'min_child_samples': 14, 'subsample': 0.6375130201057672}. Best is trial 52 with value: 0.9413333333333334.\u001b[0m\n",
            "\u001b[32m[I 2022-02-19 14:53:54,915]\u001b[0m Trial 68 finished with value: 0.9266666666666666 and parameters: {'max_depth': 15, 'learning_rate': 0.006310548108514922, 'n_estimators': 2223, 'min_child_samples': 13, 'subsample': 0.589204298317956}. Best is trial 52 with value: 0.9413333333333334.\u001b[0m\n",
            "\u001b[32m[I 2022-02-19 14:53:58,121]\u001b[0m Trial 69 finished with value: 0.9266666666666666 and parameters: {'max_depth': 14, 'learning_rate': 0.0017002917597618765, 'n_estimators': 2364, 'min_child_samples': 15, 'subsample': 0.8480511415719556}. Best is trial 52 with value: 0.9413333333333334.\u001b[0m\n",
            "\u001b[32m[I 2022-02-19 14:54:00,202]\u001b[0m Trial 70 finished with value: 0.9253333333333333 and parameters: {'max_depth': 12, 'learning_rate': 0.008198762793883851, 'n_estimators': 1534, 'min_child_samples': 12, 'subsample': 0.6644045717561678}. Best is trial 52 with value: 0.9413333333333334.\u001b[0m\n",
            "\u001b[32m[I 2022-02-19 14:54:02,759]\u001b[0m Trial 71 finished with value: 0.936 and parameters: {'max_depth': 15, 'learning_rate': 0.00963289076050475, 'n_estimators': 1962, 'min_child_samples': 16, 'subsample': 0.4837293976022569}. Best is trial 52 with value: 0.9413333333333334.\u001b[0m\n",
            "\u001b[32m[I 2022-02-19 14:54:05,190]\u001b[0m Trial 72 finished with value: 0.9333333333333333 and parameters: {'max_depth': 12, 'learning_rate': 0.005722262558254812, 'n_estimators': 1828, 'min_child_samples': 18, 'subsample': 0.7346161129755464}. Best is trial 52 with value: 0.9413333333333334.\u001b[0m\n",
            "\u001b[32m[I 2022-02-19 14:54:08,863]\u001b[0m Trial 73 finished with value: 0.9333333333333333 and parameters: {'max_depth': 15, 'learning_rate': 0.008112988048445834, 'n_estimators': 2822, 'min_child_samples': 15, 'subsample': 0.5165219538353744}. Best is trial 52 with value: 0.9413333333333334.\u001b[0m\n",
            "\u001b[32m[I 2022-02-19 14:54:11,214]\u001b[0m Trial 74 finished with value: 0.936 and parameters: {'max_depth': 13, 'learning_rate': 0.006562501532915817, 'n_estimators': 1702, 'min_child_samples': 16, 'subsample': 0.7502316573468523}. Best is trial 52 with value: 0.9413333333333334.\u001b[0m\n",
            "\u001b[32m[I 2022-02-19 14:54:13,688]\u001b[0m Trial 75 finished with value: 0.9306666666666666 and parameters: {'max_depth': 14, 'learning_rate': 0.004647749025190667, 'n_estimators': 1848, 'min_child_samples': 18, 'subsample': 0.7184535737367369}. Best is trial 52 with value: 0.9413333333333334.\u001b[0m\n",
            "\u001b[32m[I 2022-02-19 14:54:15,946]\u001b[0m Trial 76 finished with value: 0.8906666666666667 and parameters: {'max_depth': 13, 'learning_rate': 0.00016978553711353945, 'n_estimators': 1727, 'min_child_samples': 17, 'subsample': 0.651892634609846}. Best is trial 52 with value: 0.9413333333333334.\u001b[0m\n",
            "\u001b[32m[I 2022-02-19 14:54:19,739]\u001b[0m Trial 77 finished with value: 0.9346666666666666 and parameters: {'max_depth': 15, 'learning_rate': 0.009800847155571245, 'n_estimators': 2948, 'min_child_samples': 15, 'subsample': 0.43851495441299876}. Best is trial 52 with value: 0.9413333333333334.\u001b[0m\n",
            "\u001b[32m[I 2022-02-19 14:54:23,032]\u001b[0m Trial 78 finished with value: 0.9373333333333334 and parameters: {'max_depth': 10, 'learning_rate': 0.006025042658412804, 'n_estimators': 2566, 'min_child_samples': 19, 'subsample': 0.6933432057390252}. Best is trial 52 with value: 0.9413333333333334.\u001b[0m\n",
            "\u001b[32m[I 2022-02-19 14:54:25,175]\u001b[0m Trial 79 finished with value: 0.9346666666666666 and parameters: {'max_depth': 5, 'learning_rate': 0.004994197925267043, 'n_estimators': 2503, 'min_child_samples': 19, 'subsample': 0.6836800944268965}. Best is trial 52 with value: 0.9413333333333334.\u001b[0m\n",
            "\u001b[32m[I 2022-02-19 14:54:28,392]\u001b[0m Trial 80 finished with value: 0.932 and parameters: {'max_depth': 11, 'learning_rate': 0.003522597108113107, 'n_estimators': 2445, 'min_child_samples': 20, 'subsample': 0.5485818984060291}. Best is trial 52 with value: 0.9413333333333334.\u001b[0m\n",
            "\u001b[32m[I 2022-02-19 14:54:30,652]\u001b[0m Trial 81 finished with value: 0.936 and parameters: {'max_depth': 13, 'learning_rate': 0.006321195616612338, 'n_estimators': 1660, 'min_child_samples': 16, 'subsample': 0.7039682143692706}. Best is trial 52 with value: 0.9413333333333334.\u001b[0m\n",
            "\u001b[32m[I 2022-02-19 14:54:32,692]\u001b[0m Trial 82 finished with value: 0.932 and parameters: {'max_depth': 9, 'learning_rate': 0.007428503574648599, 'n_estimators': 1583, 'min_child_samples': 17, 'subsample': 0.7821081765576624}. Best is trial 52 with value: 0.9413333333333334.\u001b[0m\n",
            "\u001b[32m[I 2022-02-19 14:54:36,253]\u001b[0m Trial 83 finished with value: 0.9346666666666666 and parameters: {'max_depth': 14, 'learning_rate': 0.002723658194148866, 'n_estimators': 2744, 'min_child_samples': 20, 'subsample': 0.934598810128883}. Best is trial 52 with value: 0.9413333333333334.\u001b[0m\n",
            "\u001b[32m[I 2022-02-19 14:54:39,962]\u001b[0m Trial 84 finished with value: 0.932 and parameters: {'max_depth': 14, 'learning_rate': 0.007924403297283583, 'n_estimators': 2876, 'min_child_samples': 19, 'subsample': 0.9018174073734769}. Best is trial 52 with value: 0.9413333333333334.\u001b[0m\n",
            "\u001b[32m[I 2022-02-19 14:54:43,423]\u001b[0m Trial 85 finished with value: 0.9346666666666666 and parameters: {'max_depth': 10, 'learning_rate': 0.005772862699181156, 'n_estimators': 2678, 'min_child_samples': 18, 'subsample': 0.6962560143962452}. Best is trial 52 with value: 0.9413333333333334.\u001b[0m\n",
            "\u001b[32m[I 2022-02-19 14:54:46,094]\u001b[0m Trial 86 finished with value: 0.9346666666666666 and parameters: {'max_depth': 15, 'learning_rate': 0.00405826420069353, 'n_estimators': 1964, 'min_child_samples': 17, 'subsample': 0.4270350628230133}. Best is trial 52 with value: 0.9413333333333334.\u001b[0m\n",
            "\u001b[32m[I 2022-02-19 14:54:49,477]\u001b[0m Trial 87 finished with value: 0.8973333333333333 and parameters: {'max_depth': 12, 'learning_rate': 0.0006682209570356339, 'n_estimators': 2579, 'min_child_samples': 19, 'subsample': 0.7325343191761908}. Best is trial 52 with value: 0.9413333333333334.\u001b[0m\n",
            "\u001b[32m[I 2022-02-19 14:54:52,864]\u001b[0m Trial 88 finished with value: 0.9293333333333333 and parameters: {'max_depth': 13, 'learning_rate': 0.0020687050548532445, 'n_estimators': 2493, 'min_child_samples': 16, 'subsample': 0.6216861944748858}. Best is trial 52 with value: 0.9413333333333334.\u001b[0m\n",
            "\u001b[32m[I 2022-02-19 14:54:55,564]\u001b[0m Trial 89 finished with value: 0.936 and parameters: {'max_depth': 15, 'learning_rate': 0.009934815441453757, 'n_estimators': 2103, 'min_child_samples': 16, 'subsample': 0.6444801346201451}. Best is trial 52 with value: 0.9413333333333334.\u001b[0m\n",
            "\u001b[32m[I 2022-02-19 14:54:57,499]\u001b[0m Trial 90 finished with value: 0.936 and parameters: {'max_depth': 14, 'learning_rate': 0.008681870892690104, 'n_estimators': 1464, 'min_child_samples': 17, 'subsample': 0.49322554272890645}. Best is trial 52 with value: 0.9413333333333334.\u001b[0m\n",
            "\u001b[32m[I 2022-02-19 14:55:01,143]\u001b[0m Trial 91 finished with value: 0.9293333333333333 and parameters: {'max_depth': 14, 'learning_rate': 0.007089017646821994, 'n_estimators': 2801, 'min_child_samples': 18, 'subsample': 0.9824210589379568}. Best is trial 52 with value: 0.9413333333333334.\u001b[0m\n",
            "\u001b[32m[I 2022-02-19 14:55:04,778]\u001b[0m Trial 92 finished with value: 0.932 and parameters: {'max_depth': 15, 'learning_rate': 0.005056498934460302, 'n_estimators': 2764, 'min_child_samples': 20, 'subsample': 0.8672844211075434}. Best is trial 52 with value: 0.9413333333333334.\u001b[0m\n",
            "\u001b[32m[I 2022-02-19 14:55:08,236]\u001b[0m Trial 93 finished with value: 0.9346666666666666 and parameters: {'max_depth': 15, 'learning_rate': 0.0032320330842649783, 'n_estimators': 2627, 'min_child_samples': 20, 'subsample': 0.8281557448493031}. Best is trial 52 with value: 0.9413333333333334.\u001b[0m\n",
            "\u001b[32m[I 2022-02-19 14:55:10,797]\u001b[0m Trial 94 finished with value: 0.932 and parameters: {'max_depth': 12, 'learning_rate': 0.0042712400072063, 'n_estimators': 1910, 'min_child_samples': 18, 'subsample': 0.6746345784982362}. Best is trial 52 with value: 0.9413333333333334.\u001b[0m\n",
            "\u001b[32m[I 2022-02-19 14:55:13,379]\u001b[0m Trial 95 finished with value: 0.9306666666666666 and parameters: {'max_depth': 13, 'learning_rate': 0.006056129343763988, 'n_estimators': 1960, 'min_child_samples': 14, 'subsample': 0.7491115493772249}. Best is trial 52 with value: 0.9413333333333334.\u001b[0m\n",
            "\u001b[32m[I 2022-02-19 14:55:16,732]\u001b[0m Trial 96 finished with value: 0.9333333333333333 and parameters: {'max_depth': 13, 'learning_rate': 0.004846837179784121, 'n_estimators': 2535, 'min_child_samples': 19, 'subsample': 0.6095371241964396}. Best is trial 52 with value: 0.9413333333333334.\u001b[0m\n",
            "\u001b[32m[I 2022-02-19 14:55:18,686]\u001b[0m Trial 97 finished with value: 0.9346666666666666 and parameters: {'max_depth': 14, 'learning_rate': 0.008580052650635911, 'n_estimators': 1459, 'min_child_samples': 17, 'subsample': 0.5906346982246823}. Best is trial 52 with value: 0.9413333333333334.\u001b[0m\n",
            "\u001b[32m[I 2022-02-19 14:55:22,267]\u001b[0m Trial 98 finished with value: 0.932 and parameters: {'max_depth': 14, 'learning_rate': 0.004147999495695551, 'n_estimators': 2697, 'min_child_samples': 15, 'subsample': 0.610932051273651}. Best is trial 52 with value: 0.9413333333333334.\u001b[0m\n",
            "\u001b[32m[I 2022-02-19 14:55:25,024]\u001b[0m Trial 99 finished with value: 0.94 and parameters: {'max_depth': 15, 'learning_rate': 0.008971240479555824, 'n_estimators': 2082, 'min_child_samples': 16, 'subsample': 0.483261329333829}. Best is trial 52 with value: 0.9413333333333334.\u001b[0m\n"
          ]
        }
      ]
    },
    {
      "cell_type": "code",
      "source": [
        "trial = study_lgb.best_trial\n",
        "trial_params = trial.params\n",
        "print('Best Trial: score {},\\nparams {}'.format(trial.value, trial_params))"
      ],
      "metadata": {
        "colab": {
          "base_uri": "https://localhost:8080/"
        },
        "id": "lcPE6v7JTyaR",
        "outputId": "a3a03174-0fb2-4650-fba7-9253ce7a354d"
      },
      "execution_count": null,
      "outputs": [
        {
          "output_type": "stream",
          "name": "stdout",
          "text": [
            "Best Trial: score 0.9413333333333334,\n",
            "params {'max_depth': 13, 'learning_rate': 0.006990109362719175, 'n_estimators': 1795, 'min_child_samples': 16, 'subsample': 0.7320748270920473}\n"
          ]
        }
      ]
    },
    {
      "cell_type": "code",
      "source": [
        "lgbm = lightgbm.LGBMClassifier(**trial_params)\n",
        "\n",
        "lgbm.fit(x_train, y_train)\n",
        "pred = lgbm.predict(x_test)\n",
        "print('Accuarcy :', accuracy_score(y_test, pred))\n",
        "print('*' * 150)\n",
        "print('\\n','Confusion matrix','\\n',confusion_matrix(y_test, pred))"
      ],
      "metadata": {
        "colab": {
          "base_uri": "https://localhost:8080/"
        },
        "id": "cdTdwygQYQC2",
        "outputId": "78c799e1-d06b-4248-c8fd-212adc7dff76"
      },
      "execution_count": null,
      "outputs": [
        {
          "output_type": "stream",
          "name": "stdout",
          "text": [
            "Accuarcy : 0.9413333333333334\n",
            "******************************************************************************************************************************************************\n",
            "\n",
            " Confusion matrix \n",
            " [[300  19]\n",
            " [ 25 406]]\n"
          ]
        }
      ]
    },
    {
      "cell_type": "code",
      "source": [
        "plt.subplots(figsize = (10,5))\n",
        "plt.barh(x_train.columns, lgbm.feature_importances_, alpha = 0.5)\n",
        "plt.title('Feature Importance', fontsize = 14)\n",
        "plt.show()"
      ],
      "metadata": {
        "colab": {
          "base_uri": "https://localhost:8080/",
          "height": 336
        },
        "id": "51sWUz48YgGS",
        "outputId": "89dbc22a-4925-4087-94a4-484903ed11f9"
      },
      "execution_count": null,
      "outputs": [
        {
          "output_type": "display_data",
          "data": {
            "image/png": "[encoded data removed]",
            "text/plain": [
              "<Figure size 720x360 with 1 Axes>"
            ]
          },
          "metadata": {
            "needs_background": "light"
          }
        }
      ]
    },
    {
      "cell_type": "markdown",
      "source": [
        "- 94%를 넘기는건 쉽지않아보인다. 새로운 feature enginnering이나 앙상블을 통해서 넘을 수 있을듯하다."
      ],
      "metadata": {
        "id": "Y8sYRws-fDk_"
      }
    }
  ]
}